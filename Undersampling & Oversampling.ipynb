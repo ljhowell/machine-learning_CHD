{
 "cells": [
  {
   "cell_type": "markdown",
   "metadata": {},
   "source": [
    "# Undersampling & Oversampling\n",
    "\n",
    "Undersampling aims to decrease the number of instances from the overrepresented class in a data set, they are said to be unbalanced. Unbalanced refers to highly unequal or uneven distribution of classes. "
   ]
  },
  {
   "cell_type": "code",
   "execution_count": 1,
   "metadata": {},
   "outputs": [
    {
     "name": "stdout",
     "output_type": "stream",
     "text": [
      "Importing the preprocessing module for the Exeter NatSci Machine Learning Group.....\n",
      "Successfully imported the preprocessing module\n"
     ]
    }
   ],
   "source": [
    "import pandas as pd\n",
    "import numpy as np\n",
    "import seaborn as sns\n",
    "import matplotlib.pyplot as plt\n",
    "\n",
    "\n",
    "from imblearn.over_sampling import SMOTE #Using nearest neighbors algorithm to generate new and synthetic data\n",
    "from sklearn.model_selection import train_test_split\n",
    "from sklearn.ensemble import RandomForestClassifier #Importing random forest module\n",
    "\n",
    "from sklearn.metrics import confusion_matrix\n",
    "from sklearn.metrics import accuracy_score\n",
    "from sklearn.metrics import f1_score\n",
    "from sklearn.metrics import recall_score\n",
    "from sklearn.metrics import precision_score\n",
    "from sklearn.metrics import roc_curve\n",
    "from sklearn.metrics import roc_auc_score\n",
    "\n",
    "from preprocessing_ml import *"
   ]
  },
  {
   "cell_type": "code",
   "execution_count": 2,
   "metadata": {},
   "outputs": [],
   "source": [
    "###Importing the data\n",
    "dataframe = pd.read_csv(\"framingham.csv\")"
   ]
  },
  {
   "cell_type": "code",
   "execution_count": 3,
   "metadata": {},
   "outputs": [
    {
     "name": "stdout",
     "output_type": "stream",
     "text": [
      "The CHD after ten years has a ratio of approximately 5 to 1.\n"
     ]
    }
   ],
   "source": [
    "###Seeing the difference between CHD after 10 years and no-CHD.\n",
    "\n",
    "CHD_count = dataframe.TenYearCHD.value_counts() #Shows the count of no-CHD and CHD after 10 y\n",
    "print('The CHD after ten years has a ratio of approximately {} to 1.'.format(int(CHD_count[0] / CHD_count[1])))"
   ]
  },
  {
   "cell_type": "code",
   "execution_count": 4,
   "metadata": {},
   "outputs": [
    {
     "name": "stdout",
     "output_type": "stream",
     "text": [
      "Now selecting chosen features....\n",
      "\t * Chosen features:  ['sysBP', 'age', 'cigsPerDay', 'totChol', 'diaBP', 'prevalentHyp', 'diabetes', 'BPMeds', 'male', 'BMI', 'TenYearCHD']\n",
      "\t * Dropped features:  ['education', 'currentSmoker', 'prevalentStroke', 'heartRate', 'glucose']\n",
      "Now dropping rows with missing values....\n",
      "\t * Dropped 149 rows 3.5%. 4091 rows remaining\n",
      "\n"
     ]
    }
   ],
   "source": [
    "def preprocessing(dataframe, features, n):\n",
    "    dataframe = chose_features(dataframe, features = features, n_features = n, vv = 1)\n",
    "    dataframe = drop_missing(dataframe, v = 1)\n",
    "    return dataframe\n",
    "\n",
    "features = ['sysBP', 'age', 'cigsPerDay', 'totChol', 'diaBP', 'prevalentHyp', 'diabetes', 'BPMeds', 'male', 'BMI', 'TenYearCHD']\n",
    "dataframe = preprocessing(dataframe, features, -1)\n",
    "\n",
    "#dataframe = preprocessing(dataframe, 12)\n",
    "#dataframe = dataframe.drop(['glucose'], axis=1);"
   ]
  },
  {
   "cell_type": "code",
   "execution_count": 5,
   "metadata": {},
   "outputs": [],
   "source": [
    "def scores(name, y_test, pred, v):\n",
    "    accuracy = accuracy_score(y_test, pred)\n",
    "    f1 = f1_score(y_test, pred)\n",
    "    precision = precision_score(y_test, pred)\n",
    "    recall = recall_score(y_test, pred)\n",
    "\n",
    "    if v == 'y':\n",
    "        print(\"The accuracy score for {} is: {}%.\".format(name, round(accuracy, 3) * 100))\n",
    "        print(\"The f1 score for {} is: {}%.\".format(name, round(f1, 3) * 100))\n",
    "        print(\"The precision score for {} is: {}%.\".format(name, round(precision, 3) * 100))\n",
    "        print(\"The recall score for {} is: {}%.\".format(name, round(recall, 3) * 100))        \n",
    "        return(accuracy, f1, precision, recall)\n",
    "    elif v == 'n':\n",
    "        return(accuracy, f1, precision, recall)\n",
    "    else:\n",
    "        print(\"Error: please choose 'y' or 'n'.\")"
   ]
  },
  {
   "cell_type": "code",
   "execution_count": 6,
   "metadata": {},
   "outputs": [],
   "source": [
    "def confusion(dataframe, name):\n",
    "    sns.heatmap(pd.DataFrame(dataframe), annot=True , fmt='g')\n",
    "    plt.title('Confusion matrix {}\\n'.format(name), y=1.1)"
   ]
  },
  {
   "cell_type": "code",
   "execution_count": 49,
   "metadata": {},
   "outputs": [],
   "source": [
    "def model(classifier, name, X_train, X_test, y_train, y_test, v):\n",
    "    classifier.fit(X_train, y_train)\n",
    "    classifier_pred = classifier.predict(X_test)\n",
    "    score = scores(name, y_test, classifier_pred, v)\n",
    "\n",
    "    accuracy = score[0]\n",
    "    f1 = score[1]\n",
    "    precision = score[2]\n",
    "    recall = score[3]\n",
    "    \n",
    "    confusion(confusion_matrix(y_test, classifier_pred), name)\n",
    "\n",
    "    return(accuracy, f1, precision, recall)"
   ]
  },
  {
   "cell_type": "code",
   "execution_count": 50,
   "metadata": {},
   "outputs": [],
   "source": [
    "def oversample(dataframe, ratio):\n",
    "    X_train, X_test, y_train, y_test = split_data(dataframe, dep_var='TenYearCHD', test_size = 0.2, v = 1, r_state = 0)\n",
    "    sm = SMOTE(random_state = 0, ratio = ratio)\n",
    "    X_train, y_train = sm.fit_sample(X_train, y_train)\n",
    "    model(RandomForestClassifier(n_estimators=120, bootstrap=True), 'Random Forest', X_train, X_test, y_train, y_test, 'y');"
   ]
  },
  {
   "cell_type": "code",
   "execution_count": 51,
   "metadata": {},
   "outputs": [],
   "source": [
    "def no_resample(dataframe):\n",
    "    X_train, X_test, y_train, y_test = split_data(dataframe, dep_var='TenYearCHD', test_size = 0.2, v = 1, r_state = 0)\n",
    "    model(RandomForestClassifier(n_estimators=120, bootstrap=True), 'Random Forest', X_train, X_test, y_train, y_test, 'y');"
   ]
  },
  {
   "cell_type": "code",
   "execution_count": 52,
   "metadata": {},
   "outputs": [],
   "source": [
    "def undersample(dataframe, ratio):\n",
    "    dataframe = dataframe.sample(frac=1,random_state=1)\n",
    "    \n",
    "    CHD_count = dataframe.TenYearCHD.value_counts()\n",
    "\n",
    "    CHD_data = dataframe.loc[dataframe['TenYearCHD'] == 1]\n",
    "    non_CHD_data = dataframe.loc[dataframe['TenYearCHD'] == 0].sample(n = (CHD_count[1]), random_state = 1)\n",
    "    \n",
    "    dataframe = pd.concat([CHD_data, non_CHD_data])\n",
    "    \n",
    "    CHD_count = dataframe.TenYearCHD.value_counts() #Shows the count of no-CHD and CHD after 10 y\n",
    "    print('The CHD after ten years has a ratio of approximately {} to 1.'.format(int(CHD_count[0] / CHD_count[1])))\n",
    "    \n",
    "    X_train, X_test, y_train, y_test = split_data(dataframe, dep_var='TenYearCHD', test_size = 0.2, v = 1, r_state = 0)\n",
    "    model(RandomForestClassifier(n_estimators=120, bootstrap=True), 'Random Forest', X_train, X_test, y_train, y_test, 'y');"
   ]
  },
  {
   "cell_type": "code",
   "execution_count": null,
   "metadata": {},
   "outputs": [],
   "source": [
    "no_resample(dataframe)"
   ]
  },
  {
   "cell_type": "code",
   "execution_count": null,
   "metadata": {},
   "outputs": [],
   "source": [
    "oversample(dataframe, 1)"
   ]
  },
  {
   "cell_type": "code",
   "execution_count": null,
   "metadata": {},
   "outputs": [],
   "source": [
    "undersample(dataframe, 1)"
   ]
  },
  {
   "cell_type": "code",
   "execution_count": null,
   "metadata": {},
   "outputs": [],
   "source": [
    "def lewis_3():\n",
    "    new_dataframe = dataframe\n",
    "    X_train, X_test, y_train, y_test = split_data(new_dataframe, dep_var='TenYearCHD', test_size = 0.2, v = 1, r_state = 100)\n",
    "    train_data = X_train\n",
    "    train_data['TenYearCHD'] = y_train\n",
    "    train_data = upsample(train_data)\n",
    "    \n",
    "    X_train = train_data.iloc[:,-1]\n",
    "    print(X_train)\n",
    "    y_train = train_data.iloc[:,:-1]\n",
    "    print(y_train)\n",
    "    \n",
    "    model(RandomForestClassifier(n_estimators=100, bootstrap=True), 'Random Forest', X_train, X_test, y_train, y_test, 'y');"
   ]
  },
  {
   "cell_type": "code",
   "execution_count": null,
   "metadata": {},
   "outputs": [],
   "source": [
    "lewis_3()"
   ]
  },
  {
   "cell_type": "code",
   "execution_count": null,
   "metadata": {},
   "outputs": [],
   "source": [
    "def lewis():\n",
    "    new_dataframe = upsample(dataframe)\n",
    "    X_train, X_test, y_train, y_test = split_data(new_dataframe, dep_var='TenYearCHD', test_size = 0.2, v = 1, r_state = 100)\n",
    "    model(RandomForestClassifier(n_estimators=100, bootstrap=True), 'Random Forest', X_train, X_test, y_train, y_test, 'y');"
   ]
  },
  {
   "cell_type": "code",
   "execution_count": null,
   "metadata": {},
   "outputs": [],
   "source": [
    "lewis()"
   ]
  },
  {
   "cell_type": "code",
   "execution_count": null,
   "metadata": {},
   "outputs": [],
   "source": [
    "def lewis_2():\n",
    "    new_dataframe = downsample(dataframe)\n",
    "    X_train, X_test, y_train, y_test = split_data(new_dataframe, dep_var='TenYearCHD', test_size = 0.2, v = 1, r_state = 0)\n",
    "    model(RandomForestClassifier(n_estimators=120, bootstrap=True), 'Random Forest', X_train, X_test, y_train, y_test, 'y');"
   ]
  },
  {
   "cell_type": "code",
   "execution_count": null,
   "metadata": {},
   "outputs": [],
   "source": [
    "lewis_2()"
   ]
  },
  {
   "cell_type": "code",
   "execution_count": 55,
   "metadata": {},
   "outputs": [],
   "source": [
    "def new(dataframe):\n",
    "    np.random.seed(0)\n",
    "    msk = np.random.rand(len(dataframe)) < 0.8\n",
    "    train_data = dataframe[msk]\n",
    "    test_data = dataframe[~msk]\n",
    "    new_train = upsample(train_data)\n",
    "    \n",
    "    X_train = new_train.drop('TenYearCHD', axis = 1)\n",
    "    y_train = new_train[['TenYearCHD']].copy()\n",
    "    X_test = test_data.drop('TenYearCHD', axis = 1)\n",
    "    y_test = test_data[['TenYearCHD']].copy()\n",
    "    \n",
    "    y_train = y_train.values.ravel()\n",
    "    \n",
    "    model(RandomForestClassifier(n_estimators=100, bootstrap=True), 'Random Forest', X_train, X_test, y_train, y_test, 'y');"
   ]
  },
  {
   "cell_type": "code",
   "execution_count": 56,
   "metadata": {},
   "outputs": [
    {
     "name": "stdout",
     "output_type": "stream",
     "text": [
      "The accuracy score for Random Forest is: 82.8%.\n",
      "The f1 score for Random Forest is: 21.7%.\n",
      "The precision score for Random Forest is: 37.0%.\n",
      "The recall score for Random Forest is: 15.4%.\n"
     ]
    },
    {
     "data": {
      "image/png": "[encoded data removed]",
      "text/plain": [
       "<Figure size 432x288 with 2 Axes>"
      ]
     },
     "metadata": {
      "needs_background": "light"
     },
     "output_type": "display_data"
    }
   ],
   "source": [
    "new(dataframe)"
   ]
  },
  {
   "cell_type": "code",
   "execution_count": 110,
   "metadata": {},
   "outputs": [],
   "source": [
    "def new_2(dataframe):\n",
    "    np.random.seed(0)\n",
    "    msk = np.random.rand(len(dataframe)) < 0.8\n",
    "    train_data = dataframe[msk]\n",
    "    print(train_data.shape)\n",
    "    test_data = dataframe[~msk]\n",
    "    print(test_data.shape)\n",
    "    \n",
    "    X_train = train_data.drop('TenYearCHD', axis = 1)\n",
    "    y_train = train_data[['TenYearCHD']].copy()\n",
    "    X_test = test_data.drop('TenYearCHD', axis = 1)\n",
    "    y_test = test_data[['TenYearCHD']].copy()\n",
    "    \n",
    "    y_train = y_train.values.ravel()\n",
    "    \n",
    "    sm = SMOTE(random_state = 0, ratio = 1)\n",
    "    X_train, y_train = sm.fit_sample(X_train, y_train)\n",
    "    \n",
    "    model_new(RandomForestClassifier(n_estimators=100, bootstrap=True), 'Random Forest', X_train, X_test, y_train, y_test, 'y');"
   ]
  },
  {
   "cell_type": "code",
   "execution_count": 111,
   "metadata": {},
   "outputs": [
    {
     "name": "stdout",
     "output_type": "stream",
     "text": [
      "(3254, 11)\n",
      "(837, 11)\n",
      "The accuracy score for Random Forest is: 80.5%.\n",
      "The f1 score for Random Forest is: 22.0%.\n",
      "The precision score for Random Forest is: 29.099999999999998%.\n",
      "The recall score for Random Forest is: 17.7%.\n"
     ]
    },
    {
     "data": {
      "image/png": "[encoded data removed]",
      "text/plain": [
       "<Figure size 432x288 with 2 Axes>"
      ]
     },
     "metadata": {
      "needs_background": "light"
     },
     "output_type": "display_data"
    }
   ],
   "source": [
    "new_2(dataframe)"
   ]
  },
  {
   "cell_type": "code",
   "execution_count": 109,
   "metadata": {},
   "outputs": [],
   "source": [
    "def model_new(classifier, name, X_train, X_test, y_train, y_test, v):\n",
    "    classifier.fit(X_train, y_train)\n",
    "    classifier_pred = classifier.predict(X_test)\n",
    "\n",
    "    \n",
    "    predictions = classifier.predict_proba(X_test)\n",
    "    predicted = (predictions[:,1] >= 0.5).astype('int')\n",
    "\n",
    "    score = scores(name, y_test, predicted, v)\n",
    "    \n",
    "    accuracy = score[0]\n",
    "    f1 = score[1]\n",
    "    precision = score[2]\n",
    "    recall = score[3]\n",
    "    \n",
    "    confusion(confusion_matrix(y_test, predicted), name)\n",
    "\n",
    "    return(accuracy, f1, precision, recall)"
   ]
  },
  {
   "cell_type": "code",
   "execution_count": null,
   "metadata": {},
   "outputs": [],
   "source": []
  }
 ],
 "metadata": {
  "kernelspec": {
   "display_name": "Python 3",
   "language": "python",
   "name": "python3"
  },
  "language_info": {
   "codemirror_mode": {
    "name": "ipython",
    "version": 3
   },
   "file_extension": ".py",
   "mimetype": "text/x-python",
   "name": "python",
   "nbconvert_exporter": "python",
   "pygments_lexer": "ipython3",
   "version": "3.7.4"
  }
 },
 "nbformat": 4,
 "nbformat_minor": 2
}
