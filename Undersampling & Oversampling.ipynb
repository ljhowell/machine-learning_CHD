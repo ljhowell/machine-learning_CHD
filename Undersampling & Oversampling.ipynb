{
 "cells": [
  {
   "cell_type": "markdown",
   "metadata": {},
   "source": [
    "# Undersampling & Oversampling\n",
    "\n",
    "Undersampling aims to decrease the number of instances from the overrepresented class in a data set, they are said to be unbalanced. Unbalanced refers to highly unequal or uneven distribution of classes. "
   ]
  },
  {
   "cell_type": "code",
   "execution_count": 1,
   "metadata": {},
   "outputs": [
    {
     "name": "stdout",
     "output_type": "stream",
     "text": [
      "Importing the preprocessing module for the Exeter NatSci Machine Learning Group.....\n",
      "Successfully imported the preprocessing module\n"
     ]
    }
   ],
   "source": [
    "import pandas as pd\n",
    "import numpy as np\n",
    "import seaborn as sns\n",
    "import matplotlib.pyplot as plt\n",
    "\n",
    "\n",
    "from imblearn.over_sampling import SMOTE #Using nearest neighbors algorithm to generate new and synthetic data\n",
    "from sklearn.model_selection import train_test_split\n",
    "from sklearn.ensemble import RandomForestClassifier #Importing random forest module\n",
    "\n",
    "from sklearn.metrics import confusion_matrix\n",
    "from sklearn.metrics import accuracy_score\n",
    "from sklearn.metrics import f1_score\n",
    "from sklearn.metrics import recall_score\n",
    "from sklearn.metrics import precision_score\n",
    "from sklearn.metrics import roc_curve\n",
    "from sklearn.metrics import roc_auc_score\n",
    "\n",
    "from preprocessing_ml import *"
   ]
  },
  {
   "cell_type": "code",
   "execution_count": 2,
   "metadata": {},
   "outputs": [],
   "source": [
    "###Importing the data\n",
    "dataframe = pd.read_csv(\"framingham.csv\")"
   ]
  },
  {
   "cell_type": "code",
   "execution_count": 3,
   "metadata": {},
   "outputs": [
    {
     "name": "stdout",
     "output_type": "stream",
     "text": [
      "The CHD after ten years has a ratio of approximately 5 to 1.\n"
     ]
    }
   ],
   "source": [
    "###Seeing the difference between CHD after 10 years and no-CHD.\n",
    "\n",
    "CHD_count = dataframe.TenYearCHD.value_counts() #Shows the count of no-CHD and CHD after 10 y\n",
    "print('The CHD after ten years has a ratio of approximately {} to 1.'.format(int(CHD_count[0] / CHD_count[1])))"
   ]
  },
  {
   "cell_type": "code",
   "execution_count": 4,
   "metadata": {},
   "outputs": [],
   "source": [
    "def preprocessing(dataframe):\n",
    "    X_train, X_test, y_train, y_test = split_data(scale_data(drop_missing(chose_features(dataframe))))\n",
    "    return X_train, X_test, y_train, y_test    "
   ]
  },
  {
   "cell_type": "code",
   "execution_count": 5,
   "metadata": {},
   "outputs": [],
   "source": [
    "def scores(name, y_test, pred, v):\n",
    "    accuracy = accuracy_score(y_test, pred)\n",
    "    f1 = f1_score(y_test, pred)\n",
    "    precision = precision_score(y_test, pred)\n",
    "    recall = recall_score(y_test, pred)\n",
    "\n",
    "    if v == 'y':\n",
    "        print(\"The accuracy score for {} is: {}%.\".format(name, round(accuracy, 3) * 100))\n",
    "        print(\"The f1 score for {} is: {}%.\".format(name, round(f1, 3) * 100))\n",
    "        print(\"The precision score for {} is: {}%.\".format(name, round(precision, 3) * 100))\n",
    "        print(\"The recall score for {} is: {}%.\".format(name, round(recall, 3) * 100))        \n",
    "        return(accuracy, f1, precision, recall)\n",
    "    elif v == 'n':\n",
    "        return(accuracy, f1, precision, recall)\n",
    "    else:\n",
    "        print(\"Error: please choose 'y' or 'n'.\")"
   ]
  },
  {
   "cell_type": "code",
   "execution_count": 6,
   "metadata": {},
   "outputs": [],
   "source": [
    "def confusion(dataframe, name):\n",
    "    sns.heatmap(pd.DataFrame(dataframe), annot=True , fmt='g')\n",
    "    plt.title('Confusion matrix {}\\n'.format(name), y=1.1)"
   ]
  },
  {
   "cell_type": "code",
   "execution_count": 7,
   "metadata": {},
   "outputs": [],
   "source": [
    "def model(classifier, name, X_train, X_test, y_train, y_test, v):\n",
    "    classifier.fit(X_train, y_train)\n",
    "    classifier_pred = classifier.predict(X_test)\n",
    "    score = scores(name, y_test, classifier_pred, v)\n",
    "\n",
    "    accuracy = score[0]\n",
    "    f1 = score[1]\n",
    "    precision = score[2]\n",
    "    recall = score[3]\n",
    "    \n",
    "    confusion(confusion_matrix(y_test, classifier_pred), name)\n",
    "\n",
    "    return(accuracy, f1, precision, recall)"
   ]
  },
  {
   "cell_type": "code",
   "execution_count": 18,
   "metadata": {},
   "outputs": [],
   "source": [
    "def oversample(dataframe):\n",
    "    dataframe_n = preprocessing(dataframe)\n",
    "    X_train = dataframe_n[0]\n",
    "    X_test = dataframe_n[1]\n",
    "    y_train = dataframe_n[2]\n",
    "    y_test = dataframe_n[3]\n",
    "    sm = SMOTE(random_state = 0, ratio = 1.0)\n",
    "    X_train, y_train = sm.fit_sample(X_train, y_train)\n",
    "    model(RandomForestClassifier(n_estimators=1000, bootstrap=True), 'Random Forest', X_train, X_test, y_train, y_test, 'y');"
   ]
  },
  {
   "cell_type": "code",
   "execution_count": 11,
   "metadata": {},
   "outputs": [],
   "source": [
    "def no_resample(dataframe):\n",
    "    dataframe_n = preprocessing(dataframe)\n",
    "    X_train = dataframe_n[0]\n",
    "    X_test = dataframe_n[1]\n",
    "    y_train = dataframe_n[2]\n",
    "    y_test = dataframe_n[3]\n",
    "    model(RandomForestClassifier(n_estimators=1000, bootstrap=True), 'Random Forest', X_train, X_test, y_train, y_test, 'y');"
   ]
  },
  {
   "cell_type": "code",
   "execution_count": 12,
   "metadata": {},
   "outputs": [
    {
     "name": "stdout",
     "output_type": "stream",
     "text": [
      "The accuracy score for Random Forest is: 83.1%.\n",
      "The f1 score for Random Forest is: 10.100000000000001%.\n",
      "The precision score for Random Forest is: 46.7%.\n",
      "The recall score for Random Forest is: 5.7%.\n"
     ]
    },
    {
     "data": {
      "image/png": "[encoded data removed]",
      "text/plain": [
       "<Figure size 432x288 with 2 Axes>"
      ]
     },
     "metadata": {
      "needs_background": "light"
     },
     "output_type": "display_data"
    }
   ],
   "source": [
    "no_resample(dataframe)"
   ]
  },
  {
   "cell_type": "code",
   "execution_count": 19,
   "metadata": {},
   "outputs": [
    {
     "name": "stdout",
     "output_type": "stream",
     "text": [
      "The accuracy score for Random Forest is: 80.2%.\n",
      "The f1 score for Random Forest is: 31.3%.\n",
      "The precision score for Random Forest is: 37.5%.\n",
      "The recall score for Random Forest is: 26.8%.\n"
     ]
    },
    {
     "data": {
      "image/png": "[encoded data removed]",
      "text/plain": [
       "<Figure size 432x288 with 2 Axes>"
      ]
     },
     "metadata": {
      "needs_background": "light"
     },
     "output_type": "display_data"
    }
   ],
   "source": [
    "oversample(dataframe)"
   ]
  },
  {
   "cell_type": "code",
   "execution_count": null,
   "metadata": {},
   "outputs": [],
   "source": [
    "model(RandomForestClassifier(n_estimators=100, bootstrap=True), 'Random Forest', X_train_oversampled, X_test, y_train_oversampled, y_test, 'y');"
   ]
  },
  {
   "cell_type": "code",
   "execution_count": 20,
   "metadata": {},
   "outputs": [
    {
     "name": "stdout",
     "output_type": "stream",
     "text": [
      "The accuracy score for Random Forest is: 65.0%.\n",
      "The f1 score for Random Forest is: 64.5%.\n",
      "The precision score for Random Forest is: 58.699999999999996%.\n",
      "The recall score for Random Forest is: 71.7%.\n"
     ]
    },
    {
     "data": {
      "image/png": "[encoded data removed]",
      "text/plain": [
       "<Figure size 432x288 with 2 Axes>"
      ]
     },
     "metadata": {
      "needs_background": "light"
     },
     "output_type": "display_data"
    }
   ],
   "source": [
    "dataframe = dataframe.sample(frac=1,random_state=1)\n",
    "\n",
    "CHD_data = dataframe.loc[dataframe['TenYearCHD'] == 1]\n",
    "non_CHD_data = dataframe.loc[dataframe['TenYearCHD'] == 0].sample(n=CHD_count[1], random_state = 1)\n",
    "\n",
    "dataframe = pd.concat([CHD_data, non_CHD_data])\n",
    "dataframe = dataframe.sample(frac=1,random_state=1)\n",
    "\n",
    "df = preprocessing(dataframe)\n",
    "X_train = df[0]\n",
    "X_test = df[1]\n",
    "y_train = df[2]\n",
    "y_test = df[3]\n",
    "model(RandomForestClassifier(n_estimators=1000, bootstrap=True), 'Random Forest', X_train, X_test, y_train, y_test, 'y');"
   ]
  },
  {
   "cell_type": "code",
   "execution_count": null,
   "metadata": {},
   "outputs": [],
   "source": []
  }
 ],
 "metadata": {
  "kernelspec": {
   "display_name": "Python 3",
   "language": "python",
   "name": "python3"
  },
  "language_info": {
   "codemirror_mode": {
    "name": "ipython",
    "version": 3
   },
   "file_extension": ".py",
   "mimetype": "text/x-python",
   "name": "python",
   "nbconvert_exporter": "python",
   "pygments_lexer": "ipython3",
   "version": "3.7.4"
  }
 },
 "nbformat": 4,
 "nbformat_minor": 2
}
