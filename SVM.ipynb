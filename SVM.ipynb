{
 "cells": [
  {
   "cell_type": "markdown",
   "metadata": {
    "collapsed": true
   },
   "source": [
    "# Support vector machine model "
   ]
  },
  {
   "cell_type": "markdown",
   "metadata": {},
   "source": [
    "This is this support vector machine model code and analysis created by Eleanor Barr"
   ]
  },
  {
   "cell_type": "markdown",
   "metadata": {},
   "source": [
    "Support Vector Machine:\n",
    "\n",
    "This is a non-probalisitc binary classifier\n",
    "The model constructs a hyperplane in a high dimensional space, which can be used for classification or regression. \n",
    "\n",
    "In other words: given labeled training data the algorithm outputs an optimal hyperplane which catergorizes new examples. In two dimensional space this hyperplane is a line dividing a plane in two parts where each class lay either side of this line"
   ]
  },
  {
   "cell_type": "code",
   "execution_count": 42,
   "metadata": {},
   "outputs": [],
   "source": [
    "#import relevant modules \n",
    "#import relevant libraries \n",
    "import numpy as np # linear algebra\n",
    "import pandas as pd # data processing, CSV file I/O (e.g. pd.read_csv)\n",
    "\n",
    "# Input data files are available in the \"../input/\" directory.\n",
    "# For example, running this (by clicking run or pressing Shift+Enter) will list all files under the input directory\n",
    "\n",
    "import os"
   ]
  },
  {
   "cell_type": "code",
   "execution_count": 43,
   "metadata": {},
   "outputs": [],
   "source": [
    "import matplotlib.pyplot as plt\n",
    "from scipy import stats\n",
    "\n",
    "from sklearn.preprocessing import MinMaxScaler\n",
    "from sklearn.model_selection import train_test_split\n",
    "import seaborn as sn\n",
    "\n",
    "\n"
   ]
  },
  {
   "cell_type": "code",
   "execution_count": 44,
   "metadata": {},
   "outputs": [],
   "source": [
    "from sklearn.metrics import confusion_matrix\n",
    "from sklearn.metrics import accuracy_score\n",
    "from sklearn.metrics import f1_score\n",
    "from sklearn.metrics import recall_score\n",
    "from sklearn.metrics import precision_score\n",
    "from sklearn.metrics import roc_curve\n",
    "from sklearn.metrics import roc_auc_score\n",
    "\n",
    "from sklearn.model_selection import cross_val_score\n",
    "\n",
    "from IPython.core.interactiveshell import InteractiveShell\n",
    "InteractiveShell.ast_node_interactivity = \"all\"\n",
    "%config InlineBackend.figure_format ='retina'\n",
    "%matplotlib inline"
   ]
  },
  {
   "cell_type": "code",
   "execution_count": 45,
   "metadata": {},
   "outputs": [],
   "source": [
    "dataset = pd.read_csv('framingham.csv')"
   ]
  },
  {
   "cell_type": "code",
   "execution_count": 46,
   "metadata": {
    "scrolled": true
   },
   "outputs": [
    {
     "data": {
      "text/html": [
       "<div>\n",
       "<style scoped>\n",
       "    .dataframe tbody tr th:only-of-type {\n",
       "        vertical-align: middle;\n",
       "    }\n",
       "\n",
       "    .dataframe tbody tr th {\n",
       "        vertical-align: top;\n",
       "    }\n",
       "\n",
       "    .dataframe thead th {\n",
       "        text-align: right;\n",
       "    }\n",
       "</style>\n",
       "<table border=\"1\" class=\"dataframe\">\n",
       "  <thead>\n",
       "    <tr style=\"text-align: right;\">\n",
       "      <th></th>\n",
       "      <th>male</th>\n",
       "      <th>age</th>\n",
       "      <th>education</th>\n",
       "      <th>currentSmoker</th>\n",
       "      <th>cigsPerDay</th>\n",
       "      <th>BPMeds</th>\n",
       "      <th>prevalentStroke</th>\n",
       "      <th>prevalentHyp</th>\n",
       "      <th>diabetes</th>\n",
       "      <th>totChol</th>\n",
       "      <th>sysBP</th>\n",
       "      <th>diaBP</th>\n",
       "      <th>BMI</th>\n",
       "      <th>heartRate</th>\n",
       "      <th>glucose</th>\n",
       "      <th>TenYearCHD</th>\n",
       "    </tr>\n",
       "  </thead>\n",
       "  <tbody>\n",
       "    <tr>\n",
       "      <th>0</th>\n",
       "      <td>1</td>\n",
       "      <td>39</td>\n",
       "      <td>4.0</td>\n",
       "      <td>0</td>\n",
       "      <td>0.0</td>\n",
       "      <td>0.0</td>\n",
       "      <td>0</td>\n",
       "      <td>0</td>\n",
       "      <td>0</td>\n",
       "      <td>195.0</td>\n",
       "      <td>106.0</td>\n",
       "      <td>70.0</td>\n",
       "      <td>26.97</td>\n",
       "      <td>80.0</td>\n",
       "      <td>77.0</td>\n",
       "      <td>0</td>\n",
       "    </tr>\n",
       "    <tr>\n",
       "      <th>1</th>\n",
       "      <td>0</td>\n",
       "      <td>46</td>\n",
       "      <td>2.0</td>\n",
       "      <td>0</td>\n",
       "      <td>0.0</td>\n",
       "      <td>0.0</td>\n",
       "      <td>0</td>\n",
       "      <td>0</td>\n",
       "      <td>0</td>\n",
       "      <td>250.0</td>\n",
       "      <td>121.0</td>\n",
       "      <td>81.0</td>\n",
       "      <td>28.73</td>\n",
       "      <td>95.0</td>\n",
       "      <td>76.0</td>\n",
       "      <td>0</td>\n",
       "    </tr>\n",
       "    <tr>\n",
       "      <th>2</th>\n",
       "      <td>1</td>\n",
       "      <td>48</td>\n",
       "      <td>1.0</td>\n",
       "      <td>1</td>\n",
       "      <td>20.0</td>\n",
       "      <td>0.0</td>\n",
       "      <td>0</td>\n",
       "      <td>0</td>\n",
       "      <td>0</td>\n",
       "      <td>245.0</td>\n",
       "      <td>127.5</td>\n",
       "      <td>80.0</td>\n",
       "      <td>25.34</td>\n",
       "      <td>75.0</td>\n",
       "      <td>70.0</td>\n",
       "      <td>0</td>\n",
       "    </tr>\n",
       "    <tr>\n",
       "      <th>3</th>\n",
       "      <td>0</td>\n",
       "      <td>61</td>\n",
       "      <td>3.0</td>\n",
       "      <td>1</td>\n",
       "      <td>30.0</td>\n",
       "      <td>0.0</td>\n",
       "      <td>0</td>\n",
       "      <td>1</td>\n",
       "      <td>0</td>\n",
       "      <td>225.0</td>\n",
       "      <td>150.0</td>\n",
       "      <td>95.0</td>\n",
       "      <td>28.58</td>\n",
       "      <td>65.0</td>\n",
       "      <td>103.0</td>\n",
       "      <td>1</td>\n",
       "    </tr>\n",
       "    <tr>\n",
       "      <th>4</th>\n",
       "      <td>0</td>\n",
       "      <td>46</td>\n",
       "      <td>3.0</td>\n",
       "      <td>1</td>\n",
       "      <td>23.0</td>\n",
       "      <td>0.0</td>\n",
       "      <td>0</td>\n",
       "      <td>0</td>\n",
       "      <td>0</td>\n",
       "      <td>285.0</td>\n",
       "      <td>130.0</td>\n",
       "      <td>84.0</td>\n",
       "      <td>23.10</td>\n",
       "      <td>85.0</td>\n",
       "      <td>85.0</td>\n",
       "      <td>0</td>\n",
       "    </tr>\n",
       "    <tr>\n",
       "      <th>5</th>\n",
       "      <td>0</td>\n",
       "      <td>43</td>\n",
       "      <td>2.0</td>\n",
       "      <td>0</td>\n",
       "      <td>0.0</td>\n",
       "      <td>0.0</td>\n",
       "      <td>0</td>\n",
       "      <td>1</td>\n",
       "      <td>0</td>\n",
       "      <td>228.0</td>\n",
       "      <td>180.0</td>\n",
       "      <td>110.0</td>\n",
       "      <td>30.30</td>\n",
       "      <td>77.0</td>\n",
       "      <td>99.0</td>\n",
       "      <td>0</td>\n",
       "    </tr>\n",
       "    <tr>\n",
       "      <th>6</th>\n",
       "      <td>0</td>\n",
       "      <td>63</td>\n",
       "      <td>1.0</td>\n",
       "      <td>0</td>\n",
       "      <td>0.0</td>\n",
       "      <td>0.0</td>\n",
       "      <td>0</td>\n",
       "      <td>0</td>\n",
       "      <td>0</td>\n",
       "      <td>205.0</td>\n",
       "      <td>138.0</td>\n",
       "      <td>71.0</td>\n",
       "      <td>33.11</td>\n",
       "      <td>60.0</td>\n",
       "      <td>85.0</td>\n",
       "      <td>1</td>\n",
       "    </tr>\n",
       "    <tr>\n",
       "      <th>7</th>\n",
       "      <td>0</td>\n",
       "      <td>45</td>\n",
       "      <td>2.0</td>\n",
       "      <td>1</td>\n",
       "      <td>20.0</td>\n",
       "      <td>0.0</td>\n",
       "      <td>0</td>\n",
       "      <td>0</td>\n",
       "      <td>0</td>\n",
       "      <td>313.0</td>\n",
       "      <td>100.0</td>\n",
       "      <td>71.0</td>\n",
       "      <td>21.68</td>\n",
       "      <td>79.0</td>\n",
       "      <td>78.0</td>\n",
       "      <td>0</td>\n",
       "    </tr>\n",
       "    <tr>\n",
       "      <th>8</th>\n",
       "      <td>1</td>\n",
       "      <td>52</td>\n",
       "      <td>1.0</td>\n",
       "      <td>0</td>\n",
       "      <td>0.0</td>\n",
       "      <td>0.0</td>\n",
       "      <td>0</td>\n",
       "      <td>1</td>\n",
       "      <td>0</td>\n",
       "      <td>260.0</td>\n",
       "      <td>141.5</td>\n",
       "      <td>89.0</td>\n",
       "      <td>26.36</td>\n",
       "      <td>76.0</td>\n",
       "      <td>79.0</td>\n",
       "      <td>0</td>\n",
       "    </tr>\n",
       "    <tr>\n",
       "      <th>9</th>\n",
       "      <td>1</td>\n",
       "      <td>43</td>\n",
       "      <td>1.0</td>\n",
       "      <td>1</td>\n",
       "      <td>30.0</td>\n",
       "      <td>0.0</td>\n",
       "      <td>0</td>\n",
       "      <td>1</td>\n",
       "      <td>0</td>\n",
       "      <td>225.0</td>\n",
       "      <td>162.0</td>\n",
       "      <td>107.0</td>\n",
       "      <td>23.61</td>\n",
       "      <td>93.0</td>\n",
       "      <td>88.0</td>\n",
       "      <td>0</td>\n",
       "    </tr>\n",
       "  </tbody>\n",
       "</table>\n",
       "</div>"
      ],
      "text/plain": [
       "   male  age  education  currentSmoker  cigsPerDay  BPMeds  prevalentStroke  \\\n",
       "0     1   39        4.0              0         0.0     0.0                0   \n",
       "1     0   46        2.0              0         0.0     0.0                0   \n",
       "2     1   48        1.0              1        20.0     0.0                0   \n",
       "3     0   61        3.0              1        30.0     0.0                0   \n",
       "4     0   46        3.0              1        23.0     0.0                0   \n",
       "5     0   43        2.0              0         0.0     0.0                0   \n",
       "6     0   63        1.0              0         0.0     0.0                0   \n",
       "7     0   45        2.0              1        20.0     0.0                0   \n",
       "8     1   52        1.0              0         0.0     0.0                0   \n",
       "9     1   43        1.0              1        30.0     0.0                0   \n",
       "\n",
       "   prevalentHyp  diabetes  totChol  sysBP  diaBP    BMI  heartRate  glucose  \\\n",
       "0             0         0    195.0  106.0   70.0  26.97       80.0     77.0   \n",
       "1             0         0    250.0  121.0   81.0  28.73       95.0     76.0   \n",
       "2             0         0    245.0  127.5   80.0  25.34       75.0     70.0   \n",
       "3             1         0    225.0  150.0   95.0  28.58       65.0    103.0   \n",
       "4             0         0    285.0  130.0   84.0  23.10       85.0     85.0   \n",
       "5             1         0    228.0  180.0  110.0  30.30       77.0     99.0   \n",
       "6             0         0    205.0  138.0   71.0  33.11       60.0     85.0   \n",
       "7             0         0    313.0  100.0   71.0  21.68       79.0     78.0   \n",
       "8             1         0    260.0  141.5   89.0  26.36       76.0     79.0   \n",
       "9             1         0    225.0  162.0  107.0  23.61       93.0     88.0   \n",
       "\n",
       "   TenYearCHD  \n",
       "0           0  \n",
       "1           0  \n",
       "2           0  \n",
       "3           1  \n",
       "4           0  \n",
       "5           0  \n",
       "6           1  \n",
       "7           0  \n",
       "8           0  \n",
       "9           0  "
      ]
     },
     "execution_count": 46,
     "metadata": {},
     "output_type": "execute_result"
    }
   ],
   "source": [
    "dataset.head(10)"
   ]
  },
  {
   "cell_type": "code",
   "execution_count": 6,
   "metadata": {},
   "outputs": [
    {
     "name": "stdout",
     "output_type": "stream",
     "text": [
      "Importing the preprocessing module for the Exeter NatSci Machine Learning Group.....\n",
      "Successfully imported the preprocessing module\n"
     ]
    }
   ],
   "source": [
    "import preprocessing_ml as pp"
   ]
  },
  {
   "cell_type": "code",
   "execution_count": null,
   "metadata": {},
   "outputs": [],
   "source": []
  },
  {
   "cell_type": "markdown",
   "metadata": {},
   "source": [
    "# Creating SVM function "
   ]
  },
  {
   "cell_type": "code",
   "execution_count": 40,
   "metadata": {},
   "outputs": [],
   "source": [
    "def SVM(X_train, X_test, y_train, y_test, v=0):\n",
    "    '''Do support vector mechanism fitting and print information about the success of the fitting\n",
    "    - X_train: Dataframe x training set\n",
    "    - y_train: Dataframe y training set\n",
    "    - X_test: Dataframe x test set\n",
    "    - y_test: Dataframe y test set\n",
    "    - v (optional, default = 0): int (0 or 1) verbose\n",
    "    '''\n",
    "    from sklearn.svm import SVC\n",
    "    from sklearn.metrics import confusion_matrix, accuracy_score, classification_report\n",
    "    from sklearn.model_selection import cross_val_score\n",
    "    \n",
    "    print('\\nCalculating Support vector machine ..\\n')\n",
    "    SVM = SVC(C=1, kernel= 'rbf')\n",
    "    SVM.fit(X_train, y_train) \n",
    "    y_pred = SVM.predict(X_test)\n",
    "    \n",
    "    print('\\nCrossvalidation score for 3 splits:\\n')\n",
    "    cv_results = cross_val_score(SVM, X_train, y_train, cv = 3)\n",
    "    print(cv_results)\n",
    "    print(\"Cross validation Accuracy: %0.2f (+/- %0.2f)\" % (cv_results.mean(), cv_results.std() * 2))\n",
    "    \n",
    "    \n",
    "    if v == 1: \n",
    "        print(SVM)\n",
    "        print('Confusion Matrix:')\n",
    "        cm=confusion_matrix(y_test,y_pred)\n",
    "        conf_matrix=pd.DataFrame(data=cm,columns=['Predicted:0','Predicted:1'],index=['Actual:0','Actual:1'])\n",
    "        print(confusion_matrix(y_test,y_pred))\n",
    "        sn.heatmap(conf_matrix, annot=True,fmt='d',cmap=\"YlGnBu\")\n",
    "    \n",
    "        print('Accuracy: {:.2f}%'.format(accuracy_score(y_test,y_pred)*100))\n",
    "\n",
    "        print(classification_report(y_test,y_pred))\n",
    "    \n",
    "    return accuracy_score(y_test,y_pred)\n",
    "    \n",
    "    "
   ]
  },
  {
   "cell_type": "code",
   "execution_count": 41,
   "metadata": {},
   "outputs": [
    {
     "name": "stdout",
     "output_type": "stream",
     "text": [
      "\n",
      "Calculating Support vector machine ..\n",
      "\n",
      "\n",
      "Crossvalidation score for 3 splits:\n",
      "\n",
      "[0.85143443 0.85143443 0.85215606]\n",
      "Cross validation Accuracy: 0.85 (+/- 0.00)\n",
      "Accuracy 83.20%: \n"
     ]
    }
   ],
   "source": [
    "#apply all functions to model \n",
    "\n",
    "features = dataset.columns #try all columns\n",
    "\n",
    "dataset_t = pp.chose_features(dataset, n_features=15) # choose n features\n",
    "dataset_t = pp.drop_missing(dataset_t) # drop missing rows\n",
    "X_train, X_test, y_train, y_test = pp.split_data(dataset_t) # split dataset\n",
    "\n",
    "accuracy = SVM( X_train, X_test, y_train, y_test)\n",
    "print('Accuracy {:.2f}%: '.format(accuracy*100))\n",
    "\n"
   ]
  },
  {
   "cell_type": "markdown",
   "metadata": {
    "collapsed": true
   },
   "source": [
    "# Changing number of features "
   ]
  },
  {
   "cell_type": "code",
   "execution_count": 9,
   "metadata": {},
   "outputs": [
    {
     "name": "stdout",
     "output_type": "stream",
     "text": [
      "\n",
      "Calculating Support vector machine ..\n",
      "\n",
      "\n",
      "Crossvalidation score for 3 splits:\n",
      "\n",
      "[0.8463035  0.84323272 0.84307992]\n",
      "Cross validation Accuracy: 0.84 (+/- 0.00)\n",
      "\n",
      "Calculating Support vector machine ..\n",
      "\n",
      "\n",
      "Crossvalidation score for 3 splits:\n",
      "\n",
      "[0.84487805 0.84472656 0.84472656]\n",
      "Cross validation Accuracy: 0.84 (+/- 0.00)\n",
      "\n",
      "Calculating Support vector machine ..\n",
      "\n",
      "\n",
      "Crossvalidation score for 3 splits:\n",
      "\n",
      "[0.85166994 0.85166994 0.85152409]\n",
      "Cross validation Accuracy: 0.85 (+/- 0.00)\n",
      "\n",
      "Calculating Support vector machine ..\n",
      "\n",
      "\n",
      "Crossvalidation score for 3 splits:\n",
      "\n",
      "[0.85166994 0.85166994 0.85152409]\n",
      "Cross validation Accuracy: 0.85 (+/- 0.00)\n",
      "\n",
      "Calculating Support vector machine ..\n",
      "\n",
      "\n",
      "Crossvalidation score for 3 splits:\n",
      "\n",
      "[0.85166994 0.85166994 0.85152409]\n",
      "Cross validation Accuracy: 0.85 (+/- 0.00)\n",
      "\n",
      "Calculating Support vector machine ..\n",
      "\n",
      "\n",
      "Crossvalidation score for 3 splits:\n",
      "\n",
      "[0.85166994 0.85166994 0.85152409]\n",
      "Cross validation Accuracy: 0.85 (+/- 0.00)\n",
      "\n",
      "Calculating Support vector machine ..\n",
      "\n",
      "\n",
      "Crossvalidation score for 3 splits:\n",
      "\n",
      "[0.84561753 0.84561753 0.84561753]\n",
      "Cross validation Accuracy: 0.85 (+/- 0.00)\n",
      "\n",
      "Calculating Support vector machine ..\n",
      "\n",
      "\n",
      "Crossvalidation score for 3 splits:\n",
      "\n",
      "[0.84561753 0.84561753 0.84561753]\n",
      "Cross validation Accuracy: 0.85 (+/- 0.00)\n",
      "\n",
      "Calculating Support vector machine ..\n",
      "\n",
      "\n",
      "Crossvalidation score for 3 splits:\n",
      "\n",
      "[0.84715285 0.847      0.847     ]\n",
      "Cross validation Accuracy: 0.85 (+/- 0.00)\n",
      "\n",
      "Calculating Support vector machine ..\n",
      "\n",
      "\n",
      "Crossvalidation score for 3 splits:\n",
      "\n",
      "[0.84715285 0.847      0.847     ]\n",
      "Cross validation Accuracy: 0.85 (+/- 0.00)\n",
      "\n",
      "Calculating Support vector machine ..\n",
      "\n",
      "\n",
      "Crossvalidation score for 3 splits:\n",
      "\n",
      "[0.85040984 0.85040984 0.85128205]\n",
      "Cross validation Accuracy: 0.85 (+/- 0.00)\n",
      "\n",
      "Calculating Support vector machine ..\n",
      "\n",
      "\n",
      "Crossvalidation score for 3 splits:\n",
      "\n",
      "[0.85143443 0.85143443 0.85215606]\n",
      "Cross validation Accuracy: 0.85 (+/- 0.00)\n",
      "\n",
      "Calculating Support vector machine ..\n",
      "\n",
      "\n",
      "Crossvalidation score for 3 splits:\n",
      "\n",
      "[0.85143443 0.85143443 0.85215606]\n",
      "Cross validation Accuracy: 0.85 (+/- 0.00)\n"
     ]
    }
   ],
   "source": [
    "acc=[]\n",
    "acc2=[]\n",
    "for i in range (3, 16 ):\n",
    "    \n",
    "    dataset_t = pp.chose_features(dataset, n_features=i) # choose n features\n",
    "    dataset_t = pp.drop_missing(dataset_t) # drop missing rows\n",
    "    X_train, X_test, y_train, y_test = pp.split_data(dataset_t) # split dataset\n",
    "    accuracy = SVM(X_train, X_test, y_train, y_test)    \n",
    "    \n",
    "    acc.append(accuracy*100)\n",
    "  "
   ]
  },
  {
   "cell_type": "code",
   "execution_count": 10,
   "metadata": {},
   "outputs": [
    {
     "data": {
      "text/plain": [
       "<Figure size 864x432 with 0 Axes>"
      ]
     },
     "execution_count": 10,
     "metadata": {},
     "output_type": "execute_result"
    },
    {
     "data": {
      "text/plain": [
       "[<matplotlib.lines.Line2D at 0x1a1b19d630>]"
      ]
     },
     "execution_count": 10,
     "metadata": {},
     "output_type": "execute_result"
    },
    {
     "data": {
      "text/plain": [
       "Text(0.5,1,'Number of features and the effect on accuracy ')"
      ]
     },
     "execution_count": 10,
     "metadata": {},
     "output_type": "execute_result"
    },
    {
     "data": {
      "text/plain": [
       "Text(0.5,0,'Number of features')"
      ]
     },
     "execution_count": 10,
     "metadata": {},
     "output_type": "execute_result"
    },
    {
     "data": {
      "text/plain": [
       "Text(0,0.5,'Accuracy %')"
      ]
     },
     "execution_count": 10,
     "metadata": {},
     "output_type": "execute_result"
    },
    {
     "data": {
      "image/png": "[encoded data removed]",
      "text/plain": [
       "<Figure size 864x432 with 1 Axes>"
      ]
     },
     "metadata": {
      "image/png": {
       "height": 386,
       "width": 728
      },
      "needs_background": "light"
     },
     "output_type": "display_data"
    }
   ],
   "source": [
    "plt.figure(figsize=(12, 6))\n",
    "plt.plot(range(3,16), acc, 'bo', color='blue', linestyle='--')\n",
    "plt.title('Number of features and the effect on accuracy ')\n",
    "plt.xlabel('Number of features')\n",
    "plt.ylabel('Accuracy %')\n",
    "plt.grid()\n"
   ]
  },
  {
   "cell_type": "markdown",
   "metadata": {
    "collapsed": true
   },
   "source": [
    "# Scaling data - using 12 features"
   ]
  },
  {
   "cell_type": "code",
   "execution_count": 11,
   "metadata": {},
   "outputs": [
    {
     "name": "stdout",
     "output_type": "stream",
     "text": [
      "Scaling data....\n",
      "\t * Using minmax scaling\n",
      "\n",
      "Calculating Support vector machine ..\n",
      "\n",
      "\n",
      "Crossvalidation score for 3 splits:\n",
      "\n",
      "[0.84715285 0.847      0.847     ]\n",
      "Cross validation Accuracy: 0.85 (+/- 0.00)\n",
      "Accuracy 84.82%: \n"
     ]
    }
   ],
   "source": [
    "#apply all functions to model \n",
    "\n",
    "features = dataset.columns #try all columns\n",
    "\n",
    "dataset_sc = pp.chose_features(dataset, n_features=12) # choose n features\n",
    "dataset_sc = pp.drop_missing(dataset_sc) # drop missing rows\n",
    "dataset_sc = pp.scale_data(dataset_sc, 'minmax', v=1)\n",
    "X_train, X_test, y_train, y_test = pp.split_data(dataset_sc) # split dataset\n",
    "\n",
    "accuracy = SVM(X_train, X_test, y_train, y_test)\n",
    "print('Accuracy {:.2f}%: '.format(accuracy*100))\n",
    "\n"
   ]
  },
  {
   "cell_type": "markdown",
   "metadata": {},
   "source": [
    "scaling data increases accuracy but same accuracy as k_neighbors \n"
   ]
  },
  {
   "cell_type": "code",
   "execution_count": null,
   "metadata": {},
   "outputs": [],
   "source": []
  }
 ],
 "metadata": {
  "kernelspec": {
   "display_name": "Python 3",
   "language": "python",
   "name": "python3"
  },
  "language_info": {
   "codemirror_mode": {
    "name": "ipython",
    "version": 3
   },
   "file_extension": ".py",
   "mimetype": "text/x-python",
   "name": "python",
   "nbconvert_exporter": "python",
   "pygments_lexer": "ipython3",
   "version": "3.7.3"
  }
 },
 "nbformat": 4,
 "nbformat_minor": 2
}
