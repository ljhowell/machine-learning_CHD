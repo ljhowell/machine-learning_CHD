{
 "cells": [
  {
   "cell_type": "markdown",
   "metadata": {},
   "source": [
    "Framingham risk score\n",
    "====================\n",
    "\n",
    "https://www.mdcalc.com/framingham-risk-score-hard-coronary-heart-disease#evidence\n",
    "    \n",
    "Calculate risk score as baseline for investigation"
   ]
  },
  {
   "cell_type": "code",
   "execution_count": 2,
   "metadata": {},
   "outputs": [],
   "source": [
    "#Import required modules\n",
    "import numpy as np\n",
    "import pandas as pd\n",
    "from matplotlib import pyplot as plt\n",
    "\n",
    "from sklearn.metrics import confusion_matrix \n",
    "from sklearn.metrics import accuracy_score \n",
    "from sklearn.metrics import classification_report"
   ]
  },
  {
   "cell_type": "markdown",
   "metadata": {},
   "source": [
    "The next section of code is to calculate the Framingham Risk Score, and apply it to our data set.\n",
    "\n",
    "(skip to the comparison if you are reading in from the csv of pre-determined FRS for the data)"
   ]
  },
  {
   "cell_type": "code",
   "execution_count": 67,
   "metadata": {},
   "outputs": [
    {
     "name": "stdout",
     "output_type": "stream",
     "text": [
      "   male  age  education  currentSmoker  cigsPerDay  BPMeds  prevalentStroke  \\\n",
      "0     1   39        4.0              0         0.0     0.0                0   \n",
      "1     0   46        2.0              0         0.0     0.0                0   \n",
      "2     1   48        1.0              1        20.0     0.0                0   \n",
      "3     0   61        3.0              1        30.0     0.0                0   \n",
      "4     0   46        3.0              1        23.0     0.0                0   \n",
      "\n",
      "   prevalentHyp  diabetes  totChol  sysBP  diaBP    BMI  heartRate  glucose  \\\n",
      "0             0         0    195.0  106.0   70.0  26.97       80.0     77.0   \n",
      "1             0         0    250.0  121.0   81.0  28.73       95.0     76.0   \n",
      "2             0         0    245.0  127.5   80.0  25.34       75.0     70.0   \n",
      "3             1         0    225.0  150.0   95.0  28.58       65.0    103.0   \n",
      "4             0         0    285.0  130.0   84.0  23.10       85.0     85.0   \n",
      "\n",
      "   TenYearCHD  \n",
      "0           0  \n",
      "1           0  \n",
      "2           0  \n",
      "3           1  \n",
      "4           0  \n",
      "                           male     female\n",
      "index                                     \n",
      "ln_age                52.009610  31.764001\n",
      "ln_tot_chol           20.014077  22.465206\n",
      "ln_HDL_chol           -0.905964  -1.187731\n",
      "ln_sys_bp              1.305784   2.552905\n",
      "bp_meds                0.241549   0.420251\n",
      "smoker                12.096316  13.075430\n",
      "ln_age_x_ln_tot_chol  -4.605038  -5.060998\n",
      "ln_age_smoker         -2.843670  -2.996945\n",
      "ln_age_sq             -2.933230   0.000000\n"
     ]
    }
   ],
   "source": [
    "df = pd.read_csv(\"../framingham.csv\") #read database into dataframe\n",
    "beta = pd.read_csv(\"f_score_coeff.csv\",index_col=\"index\") #read in coefficients needed for the Framingham Score algorithm\n",
    "\n",
    "print(df.head())\n",
    "print(beta)"
   ]
  },
  {
   "cell_type": "code",
   "execution_count": 6,
   "metadata": {},
   "outputs": [],
   "source": [
    "def calc_fram_risk(data):\n",
    "    ''' \n",
    "    Return Framlingham risk score as a percentage:\n",
    "    - Algorythm derived from https://www.mdcalc.com/framingham-risk-score-hard-coronary-heart-disease#evidence\n",
    "    - n.b assummed values of totChol are in mg/dl\n",
    "    - Defined HDL_cholesterol based on IDEAL so effect is minimal in calculating risk\n",
    "    \n",
    "    \"Patients with high risk scores should be counseled aggressively about social factors contributing to their risk\n",
    "    (smoking, exercise, weight, diet, etc) and also managed with blood pressure and lipid evaluation\"\n",
    "    '''\n",
    "        \n",
    "    if data['male'] == 1:\n",
    "        gender = \"male\"\n",
    "        gender_constant = -172.300168\n",
    "        HDL_chol = 45 #mg/dL\n",
    "    elif data['male'] == 0:\n",
    "        gender = \"female\"\n",
    "        gender_constant = -146.5933061\n",
    "        HDL_chol = 55 #mg/dL\n",
    "    else:\n",
    "        print(\"ERROR: gender not detected in calc_fram_risk\")\n",
    "        return -1\n",
    "            \n",
    "    L_score = beta[gender].loc[\"ln_age\"] * np.log(data['age']) \\\n",
    "        + beta[gender].loc[\"ln_tot_chol\"] * np.log(data[\"totChol\"]) \\\n",
    "        + beta[gender].loc[\"ln_HDL_chol\"] * np.log(HDL_chol) \\\n",
    "        + beta[gender].loc[\"ln_sys_bp\"] * np.log(data[\"sysBP\"]) \\\n",
    "        + beta[gender].loc[\"bp_meds\"] * data[\"BPMeds\"] \\\n",
    "        + beta[gender].loc[\"smoker\"] * data[\"currentSmoker\"] \\\n",
    "        + beta[gender].loc[\"ln_age_x_ln_tot_chol\"] * np.log(data[\"age\"]) * np.log(data[\"totChol\"]) \\\n",
    "        + beta[gender].loc[\"ln_age_smoker\"] * np.log(data[\"age\"]) * data[\"currentSmoker\"]  \\\n",
    "        + beta[gender].loc[\"ln_age_sq\"] * np.log(data[\"age\"]) * np.log(data[\"age\"]) \\\n",
    "        + gender_constant\n",
    "    \n",
    "    if gender == 'male':\n",
    "        prob = (1 - 0.9402**np.exp(L_score))*100\n",
    "    elif gender == 'female':\n",
    "        prob = (1 - 0.98767**np.exp(L_score))*100\n",
    "\n",
    "    return prob\n",
    "    \n",
    "        "
   ]
  },
  {
   "cell_type": "code",
   "execution_count": 7,
   "metadata": {},
   "outputs": [
    {
     "data": {
      "text/plain": [
       "6.8579194021939465"
      ]
     },
     "execution_count": 7,
     "metadata": {},
     "output_type": "execute_result"
    }
   ],
   "source": [
    "#Test algorithm is working. See online calc at https://www.mdcalc.com/framingham-risk-score-hard-coronary-heart-disease#evidence\n",
    "\n",
    "test = df.loc[4]\n",
    "calc_fram_risk(test)\n",
    "\n"
   ]
  },
  {
   "cell_type": "code",
   "execution_count": 8,
   "metadata": {},
   "outputs": [],
   "source": [
    "#drop null value rows (for now)\n",
    "null = df[df.isna().any(axis=1)].index\n",
    "df_dropped = df.drop(null)\n"
   ]
  },
  {
   "cell_type": "code",
   "execution_count": 11,
   "metadata": {},
   "outputs": [
    {
     "name": "stdout",
     "output_type": "stream",
     "text": [
      "0\n",
      "1\n",
      "2\n",
      "3\n"
     ]
    },
    {
     "name": "stderr",
     "output_type": "stream",
     "text": [
      "C:\\Users\\lewma\\Anaconda3\\lib\\site-packages\\pandas\\core\\indexing.py:190: SettingWithCopyWarning: \n",
      "A value is trying to be set on a copy of a slice from a DataFrame\n",
      "\n",
      "See the caveats in the documentation: http://pandas.pydata.org/pandas-docs/stable/indexing.html#indexing-view-versus-copy\n",
      "  self._setitem_with_indexer(indexer, value)\n"
     ]
    },
    {
     "name": "stdout",
     "output_type": "stream",
     "text": [
      "4\n",
      "5\n",
      "6\n",
      "7\n",
      "8\n",
      "9\n",
      "10\n",
      "11\n",
      "12\n",
      "13\n",
      "15\n",
      "16\n",
      "17\n",
      "18\n",
      "19\n",
      "20\n",
      "22\n",
      "23\n",
      "24\n",
      "25\n",
      "27\n",
      "28\n",
      "29\n",
      "30\n",
      "31\n",
      "32\n",
      "34\n",
      "35\n",
      "37\n",
      "38\n",
      "39\n",
      "40\n",
      "41\n",
      "43\n",
      "44\n",
      "45\n",
      "46\n",
      "47\n",
      "48\n",
      "50\n",
      "51\n",
      "52\n",
      "53\n",
      "55\n",
      "56\n",
      "57\n",
      "58\n",
      "59\n",
      "60\n",
      "61\n",
      "62\n",
      "63\n",
      "64\n",
      "65\n",
      "66\n",
      "67\n",
      "68\n",
      "69\n",
      "71\n",
      "73\n",
      "74\n",
      "75\n",
      "76\n",
      "78\n",
      "79\n",
      "80\n",
      "81\n",
      "82\n",
      "83\n",
      "84\n",
      "85\n",
      "86\n",
      "87\n",
      "88\n",
      "89\n",
      "90\n",
      "91\n",
      "92\n",
      "93\n",
      "94\n",
      "95\n",
      "96\n",
      "98\n",
      "99\n",
      "100\n",
      "101\n",
      "102\n",
      "103\n",
      "104\n",
      "105\n",
      "106\n",
      "107\n",
      "108\n",
      "109\n",
      "110\n",
      "112\n",
      "113\n",
      "115\n",
      "116\n",
      "117\n",
      "118\n",
      "119\n",
      "120\n",
      "121\n",
      "122\n",
      "123\n",
      "124\n",
      "125\n",
      "126\n",
      "127\n",
      "128\n",
      "129\n",
      "130\n",
      "132\n",
      "133\n",
      "134\n",
      "135\n",
      "136\n",
      "137\n",
      "138\n",
      "140\n",
      "141\n",
      "142\n",
      "143\n",
      "144\n",
      "145\n",
      "146\n",
      "147\n",
      "148\n",
      "149\n",
      "150\n",
      "151\n",
      "152\n",
      "153\n",
      "155\n",
      "156\n",
      "157\n",
      "158\n",
      "159\n",
      "160\n",
      "161\n",
      "162\n",
      "163\n",
      "164\n",
      "165\n",
      "166\n",
      "167\n",
      "168\n",
      "169\n",
      "170\n",
      "171\n",
      "172\n",
      "173\n",
      "174\n",
      "175\n",
      "176\n",
      "177\n",
      "178\n",
      "179\n",
      "180\n",
      "181\n",
      "182\n",
      "183\n",
      "185\n",
      "186\n",
      "187\n",
      "188\n",
      "189\n",
      "190\n",
      "191\n",
      "192\n",
      "194\n",
      "195\n",
      "196\n",
      "197\n",
      "198\n",
      "199\n",
      "200\n",
      "201\n",
      "202\n",
      "204\n",
      "205\n",
      "206\n",
      "207\n",
      "208\n",
      "209\n",
      "210\n",
      "212\n",
      "214\n",
      "217\n",
      "218\n",
      "219\n",
      "220\n",
      "221\n",
      "222\n",
      "223\n",
      "224\n",
      "225\n",
      "226\n",
      "227\n",
      "228\n",
      "229\n",
      "230\n",
      "231\n",
      "232\n",
      "233\n",
      "234\n",
      "235\n",
      "236\n",
      "237\n",
      "238\n",
      "239\n",
      "240\n",
      "241\n",
      "242\n",
      "243\n",
      "244\n",
      "248\n",
      "249\n",
      "251\n",
      "252\n",
      "253\n",
      "254\n",
      "255\n",
      "256\n",
      "257\n",
      "258\n",
      "259\n",
      "260\n",
      "261\n",
      "262\n",
      "264\n",
      "265\n",
      "266\n",
      "267\n",
      "268\n",
      "269\n",
      "270\n",
      "271\n",
      "272\n",
      "274\n",
      "275\n",
      "276\n",
      "277\n",
      "278\n",
      "280\n",
      "281\n",
      "283\n",
      "284\n",
      "285\n",
      "286\n",
      "287\n",
      "288\n",
      "289\n",
      "290\n",
      "291\n",
      "292\n",
      "295\n",
      "297\n",
      "298\n",
      "299\n",
      "300\n",
      "303\n",
      "304\n",
      "307\n",
      "308\n",
      "310\n",
      "311\n",
      "312\n",
      "313\n",
      "316\n",
      "317\n",
      "318\n",
      "320\n",
      "321\n",
      "322\n",
      "323\n",
      "324\n",
      "325\n",
      "326\n"
     ]
    },
    {
     "ename": "KeyboardInterrupt",
     "evalue": "",
     "output_type": "error",
     "traceback": [
      "\u001b[1;31m---------------------------------------------------------------------------\u001b[0m",
      "\u001b[1;31mKeyboardInterrupt\u001b[0m                         Traceback (most recent call last)",
      "\u001b[1;32m<ipython-input-11-609ed7f61d94>\u001b[0m in \u001b[0;36m<module>\u001b[1;34m\u001b[0m\n\u001b[0;32m      3\u001b[0m \u001b[1;32mfor\u001b[0m \u001b[0mi\u001b[0m\u001b[1;33m,\u001b[0m \u001b[0mrow\u001b[0m \u001b[1;32min\u001b[0m \u001b[0mdf_dropped\u001b[0m\u001b[1;33m.\u001b[0m\u001b[0miterrows\u001b[0m\u001b[1;33m(\u001b[0m\u001b[1;33m)\u001b[0m\u001b[1;33m:\u001b[0m\u001b[1;33m\u001b[0m\u001b[1;33m\u001b[0m\u001b[0m\n\u001b[0;32m      4\u001b[0m     \u001b[0mprint\u001b[0m\u001b[1;33m(\u001b[0m\u001b[0mi\u001b[0m\u001b[1;33m)\u001b[0m\u001b[1;33m\u001b[0m\u001b[1;33m\u001b[0m\u001b[0m\n\u001b[1;32m----> 5\u001b[1;33m     \u001b[0mdf_dropped\u001b[0m\u001b[1;33m[\u001b[0m\u001b[1;34m'fram_percent'\u001b[0m\u001b[1;33m]\u001b[0m\u001b[1;33m.\u001b[0m\u001b[0mloc\u001b[0m\u001b[1;33m[\u001b[0m\u001b[0mi\u001b[0m\u001b[1;33m]\u001b[0m \u001b[1;33m=\u001b[0m \u001b[0mcalc_fram_risk\u001b[0m\u001b[1;33m(\u001b[0m\u001b[0mrow\u001b[0m\u001b[1;33m)\u001b[0m\u001b[1;33m\u001b[0m\u001b[1;33m\u001b[0m\u001b[0m\n\u001b[0m",
      "\u001b[1;32m~\\Anaconda3\\lib\\site-packages\\pandas\\core\\indexing.py\u001b[0m in \u001b[0;36m__setitem__\u001b[1;34m(self, key, value)\u001b[0m\n\u001b[0;32m    188\u001b[0m             \u001b[0mkey\u001b[0m \u001b[1;33m=\u001b[0m \u001b[0mcom\u001b[0m\u001b[1;33m.\u001b[0m\u001b[0mapply_if_callable\u001b[0m\u001b[1;33m(\u001b[0m\u001b[0mkey\u001b[0m\u001b[1;33m,\u001b[0m \u001b[0mself\u001b[0m\u001b[1;33m.\u001b[0m\u001b[0mobj\u001b[0m\u001b[1;33m)\u001b[0m\u001b[1;33m\u001b[0m\u001b[1;33m\u001b[0m\u001b[0m\n\u001b[0;32m    189\u001b[0m         \u001b[0mindexer\u001b[0m \u001b[1;33m=\u001b[0m \u001b[0mself\u001b[0m\u001b[1;33m.\u001b[0m\u001b[0m_get_setitem_indexer\u001b[0m\u001b[1;33m(\u001b[0m\u001b[0mkey\u001b[0m\u001b[1;33m)\u001b[0m\u001b[1;33m\u001b[0m\u001b[1;33m\u001b[0m\u001b[0m\n\u001b[1;32m--> 190\u001b[1;33m         \u001b[0mself\u001b[0m\u001b[1;33m.\u001b[0m\u001b[0m_setitem_with_indexer\u001b[0m\u001b[1;33m(\u001b[0m\u001b[0mindexer\u001b[0m\u001b[1;33m,\u001b[0m \u001b[0mvalue\u001b[0m\u001b[1;33m)\u001b[0m\u001b[1;33m\u001b[0m\u001b[1;33m\u001b[0m\u001b[0m\n\u001b[0m\u001b[0;32m    191\u001b[0m \u001b[1;33m\u001b[0m\u001b[0m\n\u001b[0;32m    192\u001b[0m     \u001b[1;32mdef\u001b[0m \u001b[0m_validate_key\u001b[0m\u001b[1;33m(\u001b[0m\u001b[0mself\u001b[0m\u001b[1;33m,\u001b[0m \u001b[0mkey\u001b[0m\u001b[1;33m,\u001b[0m \u001b[0maxis\u001b[0m\u001b[1;33m)\u001b[0m\u001b[1;33m:\u001b[0m\u001b[1;33m\u001b[0m\u001b[1;33m\u001b[0m\u001b[0m\n",
      "\u001b[1;32m~\\Anaconda3\\lib\\site-packages\\pandas\\core\\indexing.py\u001b[0m in \u001b[0;36m_setitem_with_indexer\u001b[1;34m(self, indexer, value)\u001b[0m\n\u001b[0;32m    649\u001b[0m \u001b[1;33m\u001b[0m\u001b[0m\n\u001b[0;32m    650\u001b[0m             \u001b[1;31m# check for chained assignment\u001b[0m\u001b[1;33m\u001b[0m\u001b[1;33m\u001b[0m\u001b[1;33m\u001b[0m\u001b[0m\n\u001b[1;32m--> 651\u001b[1;33m             \u001b[0mself\u001b[0m\u001b[1;33m.\u001b[0m\u001b[0mobj\u001b[0m\u001b[1;33m.\u001b[0m\u001b[0m_check_is_chained_assignment_possible\u001b[0m\u001b[1;33m(\u001b[0m\u001b[1;33m)\u001b[0m\u001b[1;33m\u001b[0m\u001b[1;33m\u001b[0m\u001b[0m\n\u001b[0m\u001b[0;32m    652\u001b[0m \u001b[1;33m\u001b[0m\u001b[0m\n\u001b[0;32m    653\u001b[0m             \u001b[1;31m# actually do the set\u001b[0m\u001b[1;33m\u001b[0m\u001b[1;33m\u001b[0m\u001b[1;33m\u001b[0m\u001b[0m\n",
      "\u001b[1;32m~\\Anaconda3\\lib\\site-packages\\pandas\\core\\generic.py\u001b[0m in \u001b[0;36m_check_is_chained_assignment_possible\u001b[1;34m(self)\u001b[0m\n\u001b[0;32m   3197\u001b[0m             \u001b[1;32mif\u001b[0m \u001b[0mref\u001b[0m \u001b[1;32mis\u001b[0m \u001b[1;32mnot\u001b[0m \u001b[1;32mNone\u001b[0m \u001b[1;32mand\u001b[0m \u001b[0mref\u001b[0m\u001b[1;33m.\u001b[0m\u001b[0m_is_mixed_type\u001b[0m\u001b[1;33m:\u001b[0m\u001b[1;33m\u001b[0m\u001b[1;33m\u001b[0m\u001b[0m\n\u001b[0;32m   3198\u001b[0m                 self._check_setitem_copy(stacklevel=4, t='referant',\n\u001b[1;32m-> 3199\u001b[1;33m                                          force=True)\n\u001b[0m\u001b[0;32m   3200\u001b[0m             \u001b[1;32mreturn\u001b[0m \u001b[1;32mTrue\u001b[0m\u001b[1;33m\u001b[0m\u001b[1;33m\u001b[0m\u001b[0m\n\u001b[0;32m   3201\u001b[0m         \u001b[1;32melif\u001b[0m \u001b[0mself\u001b[0m\u001b[1;33m.\u001b[0m\u001b[0m_is_copy\u001b[0m\u001b[1;33m:\u001b[0m\u001b[1;33m\u001b[0m\u001b[1;33m\u001b[0m\u001b[0m\n",
      "\u001b[1;32m~\\Anaconda3\\lib\\site-packages\\pandas\\core\\generic.py\u001b[0m in \u001b[0;36m_check_setitem_copy\u001b[1;34m(self, stacklevel, t, force)\u001b[0m\n\u001b[0;32m   3244\u001b[0m             \u001b[1;32mtry\u001b[0m\u001b[1;33m:\u001b[0m\u001b[1;33m\u001b[0m\u001b[1;33m\u001b[0m\u001b[0m\n\u001b[0;32m   3245\u001b[0m                 \u001b[0mgc\u001b[0m\u001b[1;33m.\u001b[0m\u001b[0mcollect\u001b[0m\u001b[1;33m(\u001b[0m\u001b[1;36m2\u001b[0m\u001b[1;33m)\u001b[0m\u001b[1;33m\u001b[0m\u001b[1;33m\u001b[0m\u001b[0m\n\u001b[1;32m-> 3246\u001b[1;33m                 \u001b[1;32mif\u001b[0m \u001b[1;32mnot\u001b[0m \u001b[0mgc\u001b[0m\u001b[1;33m.\u001b[0m\u001b[0mget_referents\u001b[0m\u001b[1;33m(\u001b[0m\u001b[0mself\u001b[0m\u001b[1;33m.\u001b[0m\u001b[0m_is_copy\u001b[0m\u001b[1;33m(\u001b[0m\u001b[1;33m)\u001b[0m\u001b[1;33m)\u001b[0m\u001b[1;33m:\u001b[0m\u001b[1;33m\u001b[0m\u001b[1;33m\u001b[0m\u001b[0m\n\u001b[0m\u001b[0;32m   3247\u001b[0m                     \u001b[0mself\u001b[0m\u001b[1;33m.\u001b[0m\u001b[0m_is_copy\u001b[0m \u001b[1;33m=\u001b[0m \u001b[1;32mNone\u001b[0m\u001b[1;33m\u001b[0m\u001b[1;33m\u001b[0m\u001b[0m\n\u001b[0;32m   3248\u001b[0m                     \u001b[1;32mreturn\u001b[0m\u001b[1;33m\u001b[0m\u001b[1;33m\u001b[0m\u001b[0m\n",
      "\u001b[1;31mKeyboardInterrupt\u001b[0m: "
     ]
    }
   ],
   "source": [
    "df_dropped[\"fram_percent\"] = np.nan #define null column to be filled with the framlingham percentages\n",
    "\n",
    "for i, row in df_dropped.iterrows(): # find the fram percentages for each row (THIS TAKES A WHILE...)\n",
    "    print(i)\n",
    "    df_dropped['fram_percent'].loc[i] = calc_fram_risk(row)"
   ]
  },
  {
   "cell_type": "code",
   "execution_count": null,
   "metadata": {},
   "outputs": [],
   "source": [
    "#df_dropped.to_csv(\"fram_risk.csv\") #uncomment to save to csv"
   ]
  },
  {
   "attachments": {
    "image.png": {
     "image/png": "[encoded data removed]"
    }
   },
   "cell_type": "markdown",
   "metadata": {},
   "source": [
    "Confusion Matrix\n",
    "===========\n",
    "The next section is about optimising the Framingham algorythm to best **predict CHD** as a binary instead of as a percentage i.e  1 for yes they will get CHD and 0 for no they won't.\n",
    "\n",
    "*Start here to use predetermined values from csv*\n",
    "\n",
    "---------------------------------------------------------\n",
    "https://www.geeksforgeeks.org/confusion-matrix-machine-learning/#targetText=A%20confusion%20matrix%20is%20a,the%20performance%20of%20an%20algorithm.\n",
    "![image.png](attachment:image.png)\n",
    "Definition of the Terms:\n",
    "* Positive (P) : Observation is positive (for example: is an apple).\n",
    "* Negative (N) : Observation is not positive (for example: is not an apple).\n",
    "* True Positive (TP) : Observation is positive, and is predicted to be positive.\n",
    "* False Negative (FN) : Observation is positive, but is predicted negative.\n",
    "* True Negative (TN) : Observation is negative, and is predicted to be negative.\n",
    "* False Positive (FP) : Observation is negative, but is predicted positive.\n"
   ]
  },
  {
   "attachments": {
    "image.png": {
     "image/png": "[encoded data removed]"
    }
   },
   "cell_type": "markdown",
   "metadata": {},
   "source": [
    "Classification Rate/Accuracy:\n",
    "----------\n",
    "Classification Rate or Accuracy is given by the relation:\n",
    "![image.png](attachment:image.png)"
   ]
  },
  {
   "attachments": {
    "image.png": {
     "image/png": "[encoded data removed]"
    }
   },
   "cell_type": "markdown",
   "metadata": {},
   "source": [
    "Recall:\n",
    "----------------\n",
    "\n",
    "Recall can be defined as the ratio of the total number of correctly classified positive examples divide to the total number of positive examples. High Recall indicates the class is correctly recognized (small number of FN).\n",
    "\n",
    "![image.png](attachment:image.png)"
   ]
  },
  {
   "attachments": {
    "image.png": {
     "image/png": "[encoded data removed]"
    }
   },
   "cell_type": "markdown",
   "metadata": {},
   "source": [
    "Precision:\n",
    "---------------------\n",
    "\n",
    "To get the value of precision we divide the total number of correctly classified positive examples by the total number of predicted positive examples. High Precision indicates an example labeled as positive is indeed positive (small number of FP).\n",
    "Precision is given by the relation:\n",
    "\n",
    "![image.png](attachment:image.png)"
   ]
  },
  {
   "attachments": {
    "image.png": {
     "image/png": "[encoded data removed]"
    }
   },
   "cell_type": "markdown",
   "metadata": {},
   "source": [
    "High recall, low precision:This means that most of the positive examples are correctly recognized (low FN) but there are a lot of false positives.\n",
    "\n",
    "Low recall, high precision:This shows that we miss a lot of positive examples (high FN) but those we predict as positive are indeed positive (low FP)\n",
    "\n",
    "F-measure:\n",
    "------------------------------\n",
    "    \n",
    "Since we have two measures (Precision and Recall) it helps to have a measurement that represents both of them. We calculate an F-measure which uses Harmonic Mean in place of Arithmetic Mean as it punishes the extreme values more.\n",
    "The F-Measure will always be nearer to the smaller value of Precision or Recall.\n",
    "\n",
    "![image.png](attachment:image.png)"
   ]
  },
  {
   "cell_type": "code",
   "execution_count": 3,
   "metadata": {},
   "outputs": [],
   "source": [
    "#Read in from pre-determined csv of framingham percentages and whether the patient actually got CHD.\n",
    "df_dropped = pd.read_csv(\"fram_risk.csv\",index_col=\"index\")\n",
    "\n",
    "df_dropped = df_dropped.drop(np.NaN) # for some reason a null index row was being created? unsure why so just removed it?"
   ]
  },
  {
   "cell_type": "code",
   "execution_count": 70,
   "metadata": {},
   "outputs": [
    {
     "data": {
      "text/plain": [
       "<matplotlib.legend.Legend at 0x1da6211b898>"
      ]
     },
     "execution_count": 70,
     "metadata": {},
     "output_type": "execute_result"
    },
    {
     "data": {
      "image/png": "[encoded data removed]",
      "text/plain": [
       "<Figure size 576x576 with 1 Axes>"
      ]
     },
     "metadata": {
      "needs_background": "light"
     },
     "output_type": "display_data"
    }
   ],
   "source": [
    "def risk_bool(row,percent):\n",
    "    '''Function to binarise a decision to predict CHD based on percentage\n",
    "    i.e. if the percentage predicted from Framingham risk score is greater than a fixed percentage return 1, else return 0\n",
    "    '''\n",
    "    return (row['fram_percent'] > percent)\n",
    "\n",
    "def print_confusion(actual,predicted,percentage):\n",
    "    '''Print detailed info to compare 2 binary sets:\n",
    "    - % accuracy\n",
    "    - Confusion Matrix\n",
    "    - Summary stats inculding recall, precision and fscore\n",
    "    '''\n",
    "    print('Confusion Matrix for cutoff at {}%:'.format(percentage))\n",
    "    print(confusion_matrix(actual, predicted)) \n",
    "    print('Accuracy Score:',accuracy_score(actual, predicted))\n",
    "    print('Report: ')\n",
    "    report = classification_report(actual, predicted)\n",
    "    print(report)\n",
    "    \n",
    "df_f_measure = pd.DataFrame(columns=['percentage', 'f_0', 'f_1', 'f_av']) #define empty array for holding fscores at different % cutoff\n",
    "\n",
    "percentages = np.linspace(1,35,140) #set of cutoff percentages\n",
    "# percentages = [10,20,80]\n",
    "#print(percentages)\n",
    "\n",
    "for i, percentage in enumerate(percentages): # loop over % cutoffs\n",
    "    df_dropped['framlingham_scored'] = df_dropped.apply(risk_bool, axis=1,args=(percentage,)) # apply risk_bool to each row\n",
    "    \n",
    "    # Create confusion matrix and accuracy scores\n",
    "    actual = df_dropped['TenYearCHD']\n",
    "    predicted = df_dropped['framlingham_scored']\n",
    "\n",
    "    report = classification_report(actual, predicted, output_dict=True) \n",
    "    report = pd.DataFrame(report).transpose() #convert to dataframe for convenience\n",
    "    \n",
    "    # add f scores for positive and negative CHD to the summary array\n",
    "    f_0 = report['f1-score'].loc['0.0']\n",
    "    f_1 = report['f1-score'].loc['1.0']\n",
    "    f_av = np.mean([f_0,f_1])\n",
    "    df_f_measure.loc[i] = [percentage,f_0,f_1,f_av]\n",
    "\n",
    "    \n",
    "#plot to show maximal % cutoff accoring to fscore    \n",
    "plt.figure(figsize=(8,8))\n",
    "plt.plot(df_f_measure['percentage'],df_f_measure['f_av'],label='f_av')\n",
    "#plt.plot(df_f_measure['percentage'],df_f_measure['f_0'],label='f_0')\n",
    "#plt.plot(df_f_measure['percentage'],df_f_measure['f_1'],label='f_1')\n",
    "plt.title('Average f-measure score for different % cutoff\\n to optimise prediction of 10YrCHD with the Framlingham Algorithm')\n",
    "plt.xlabel('Cutoff for predicting 10YrCHD / %')\n",
    "plt.ylabel('Mean f-measure score')\n",
    "plt.legend()\n"
   ]
  },
  {
   "cell_type": "code",
   "execution_count": 66,
   "metadata": {},
   "outputs": [
    {
     "name": "stdout",
     "output_type": "stream",
     "text": [
      "MAX:\n",
      " percentage    12.985612\n",
      "f_0            0.846595\n",
      "f_1            0.342486\n",
      "f_av           0.594540\n",
      "Name: 49, dtype: float64 \n",
      "\n",
      "Confusion Matrix for cutoff at 12.99%:\n",
      "[[2511  590]\n",
      " [ 320  237]]\n",
      "Accuracy Score: 0.7512301804264625\n",
      "Report: \n",
      "              precision    recall  f1-score   support\n",
      "\n",
      "         0.0       0.89      0.81      0.85      3101\n",
      "         1.0       0.29      0.43      0.34       557\n",
      "\n",
      "   micro avg       0.75      0.75      0.75      3658\n",
      "   macro avg       0.59      0.62      0.59      3658\n",
      "weighted avg       0.80      0.75      0.77      3658\n",
      "\n"
     ]
    }
   ],
   "source": [
    "#More details for now determined optimal cutoff %\n",
    "optimal_cutoff = df_f_measure.loc[df_f_measure['f_av'].idxmax()]\n",
    "print(\"MAX:\\n\" ,optimal_cutoff,\"\\n\")\n",
    "\n",
    "df_dropped['framlingham_scored'] = df_dropped.apply(risk_bool, axis=1,args=(optimal_cutoff['percentage'],))  \n",
    "\n",
    "# Recalculate confusion matrix and accuracy scores for optimal cutoff value\n",
    "actual = df_dropped['TenYearCHD']\n",
    "predicted = df_dropped['framlingham_scored']\n",
    "results = confusion_matrix(actual, predicted) \n",
    "    \n",
    "print_confusion(actual,predicted,round(optimal_cutoff['percentage'],2))"
   ]
  },
  {
   "cell_type": "markdown",
   "metadata": {},
   "source": [
    "Below here is the old code for the basic approach using just % accuracy which I showed was a bad measure of success"
   ]
  },
  {
   "cell_type": "code",
   "execution_count": 139,
   "metadata": {},
   "outputs": [
    {
     "name": "stdout",
     "output_type": "stream",
     "text": [
      "male                     0\n",
      "age                     61\n",
      "education                3\n",
      "currentSmoker            1\n",
      "cigsPerDay              30\n",
      "BPMeds                   0\n",
      "prevalentStroke          0\n",
      "prevalentHyp             1\n",
      "diabetes                 0\n",
      "totChol                225\n",
      "sysBP                  150\n",
      "diaBP                   95\n",
      "BMI                  28.58\n",
      "heartRate               65\n",
      "glucose                103\n",
      "TenYearCHD               1\n",
      "fram_percent       8.77154\n",
      "5.0_percent           True\n",
      "6.5_percent           True\n",
      "8.0_percent           True\n",
      "9.5_percent          False\n",
      "11.0_percent         False\n",
      "12.5_percent         False\n",
      "14.0_percent         False\n",
      "15.5_percent         False\n",
      "17.0_percent         False\n",
      "18.5_percent         False\n",
      "20.0_percent         False\n",
      "21.5_percent         False\n",
      "23.0_percent         False\n",
      "                    ...   \n",
      "36.5_CHD                 0\n",
      "38.0_CHD                 0\n",
      "39.5_CHD                 0\n",
      "41.0_CHD                 0\n",
      "42.5_CHD                 0\n",
      "44.0_CHD                 0\n",
      "45.5_CHD                 0\n",
      "47.0_CHD                 0\n",
      "48.5_CHD                 0\n",
      "50.0_CHD                 0\n",
      "51.5_CHD                 0\n",
      "53.0_CHD                 0\n",
      "54.5_CHD                 0\n",
      "56.0_CHD                 0\n",
      "57.5_CHD                 0\n",
      "59.0_CHD                 0\n",
      "60.5_CHD                 0\n",
      "62.0_CHD                 0\n",
      "63.5_CHD                 0\n",
      "65.0_CHD                 0\n",
      "66.5_CHD                 0\n",
      "68.0_CHD                 0\n",
      "69.5_CHD                 0\n",
      "71.0_CHD                 0\n",
      "72.5_CHD                 0\n",
      "74.0_CHD                 0\n",
      "75.5_CHD                 0\n",
      "77.0_CHD                 0\n",
      "78.5_CHD                 0\n",
      "80.0_CHD                 0\n",
      "Name: 3.0, Length: 119, dtype: object\n"
     ]
    }
   ],
   "source": [
    "print(df_dropped.loc[3])"
   ]
  },
  {
   "cell_type": "code",
   "execution_count": 147,
   "metadata": {},
   "outputs": [
    {
     "name": "stdout",
     "output_type": "stream",
     "text": [
      "Accuracy for 5.0% cuttoff:  54.90571194315387\n",
      "Accuracy for 6.5% cuttoff:  60.317026509975406\n",
      "Accuracy for 8.0% cuttoff:  65.04509428805684\n",
      "Accuracy for 9.5% cuttoff:  68.51598797485651\n",
      "Accuracy for 11.0% cuttoff:  71.22164525826729\n",
      "Accuracy for 12.5% cuttoff:  74.17327138562449\n",
      "Accuracy for 14.0% cuttoff:  76.11369226564635\n",
      "Accuracy for 15.5% cuttoff:  77.72615468707298\n",
      "Accuracy for 17.0% cuttoff:  79.52992620934681\n",
      "Accuracy for 18.5% cuttoff:  80.97840940147582\n",
      "Accuracy for 20.0% cuttoff:  81.93495490571195\n",
      "Accuracy for 21.5% cuttoff:  83.0828095107953\n",
      "Accuracy for 23.0% cuttoff:  83.8207160426346\n",
      "Accuracy for 24.5% cuttoff:  84.20333424432906\n",
      "Accuracy for 26.0% cuttoff:  84.47663295982508\n",
      "Accuracy for 27.5% cuttoff:  84.53129270292429\n",
      "Accuracy for 29.0% cuttoff:  84.66794206067232\n",
      "Accuracy for 30.5% cuttoff:  84.80459141842033\n",
      "Accuracy for 32.0% cuttoff:  84.85925116151954\n",
      "Accuracy for 33.5% cuttoff:  84.74993167532112\n",
      "Accuracy for 35.0% cuttoff:  84.69527193222191\n",
      "Accuracy for 36.5% cuttoff:  84.66794206067232\n",
      "Accuracy for 38.0% cuttoff:  84.69527193222191\n",
      "Accuracy for 39.5% cuttoff:  84.69527193222191\n",
      "Accuracy for 41.0% cuttoff:  84.74993167532112\n",
      "Accuracy for 42.5% cuttoff:  84.77726154687073\n",
      "Accuracy for 44.0% cuttoff:  84.80459141842033\n",
      "Accuracy for 45.5% cuttoff:  84.80459141842033\n",
      "Accuracy for 47.0% cuttoff:  84.80459141842033\n",
      "Accuracy for 48.5% cuttoff:  84.80459141842033\n",
      "Accuracy for 50.0% cuttoff:  84.80459141842033\n",
      "Accuracy for 51.5% cuttoff:  84.80459141842033\n",
      "Accuracy for 53.0% cuttoff:  84.77726154687073\n",
      "Accuracy for 54.5% cuttoff:  84.77726154687073\n",
      "Accuracy for 56.0% cuttoff:  84.74993167532112\n",
      "Accuracy for 57.5% cuttoff:  84.74993167532112\n",
      "Accuracy for 59.0% cuttoff:  84.74993167532112\n",
      "Accuracy for 60.5% cuttoff:  84.72260180377152\n",
      "Accuracy for 62.0% cuttoff:  84.72260180377152\n",
      "Accuracy for 63.5% cuttoff:  84.72260180377152\n",
      "Accuracy for 65.0% cuttoff:  84.72260180377152\n",
      "Accuracy for 66.5% cuttoff:  84.72260180377152\n",
      "Accuracy for 68.0% cuttoff:  84.74993167532112\n",
      "Accuracy for 69.5% cuttoff:  84.74993167532112\n",
      "Accuracy for 71.0% cuttoff:  84.74993167532112\n",
      "Accuracy for 72.5% cuttoff:  84.74993167532112\n",
      "Accuracy for 74.0% cuttoff:  84.74993167532112\n",
      "Accuracy for 75.5% cuttoff:  84.74993167532112\n",
      "Accuracy for 77.0% cuttoff:  84.74993167532112\n",
      "Accuracy for 78.5% cuttoff:  84.74993167532112\n",
      "Accuracy for 80.0% cuttoff:  84.74993167532112\n"
     ]
    }
   ],
   "source": [
    "acc = []\n",
    "per = []\n",
    "for i in percentages:\n",
    "    score = 100* sum(df_dropped['{}_CHD'.format(i)])/len(df_dropped['{}_CHD'.format(i)])\n",
    "    print(\"Accuracy for {}% cuttoff: \".format(i), score)\n",
    "    acc.append(score)\n",
    "    per.append(i)\n",
    "    "
   ]
  },
  {
   "cell_type": "code",
   "execution_count": 150,
   "metadata": {},
   "outputs": [
    {
     "data": {
      "text/plain": [
       "Text(0, 0.5, '% accuracy')"
      ]
     },
     "execution_count": 150,
     "metadata": {},
     "output_type": "execute_result"
    },
    {
     "data": {
      "image/png": "[encoded data removed]",
      "text/plain": [
       "<Figure size 432x288 with 1 Axes>"
      ]
     },
     "metadata": {
      "needs_background": "light"
     },
     "output_type": "display_data"
    }
   ],
   "source": [
    "#THIS GRAPH IS EXTREMELY DESCEPTIVE i.e at 80% cutoff the algorythm presicts yes_CHD 0 times and no_CHD every time. \n",
    "# However for the data set the no_CHD/yes_CHD = 84.75% and so the model is '84.75%' accurate strictly.\n",
    "\n",
    "plt.plot(per,acc)\n",
    "plt.xlabel(\"% cutoff as yes CHD\")\n",
    "plt.ylabel(\"% accuracy\")"
   ]
  }
 ],
 "metadata": {
  "kernelspec": {
   "display_name": "Python 3",
   "language": "python",
   "name": "python3"
  },
  "language_info": {
   "codemirror_mode": {
    "name": "ipython",
    "version": 3
   },
   "file_extension": ".py",
   "mimetype": "text/x-python",
   "name": "python",
   "nbconvert_exporter": "python",
   "pygments_lexer": "ipython3",
   "version": "3.7.3"
  }
 },
 "nbformat": 4,
 "nbformat_minor": 2
}
