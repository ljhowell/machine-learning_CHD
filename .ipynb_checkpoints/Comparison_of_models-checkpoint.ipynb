{
 "cells": [
  {
   "cell_type": "markdown",
   "metadata": {},
   "source": [
    "# Model comparison "
   ]
  },
  {
   "cell_type": "markdown",
   "metadata": {},
   "source": [
    "This notebook is to compare all six models that have been investigated:\n",
    "- K-neighbors \n",
    "- Decision Trees\n",
    "- Logistic Regression \n",
    "- Linear SVM\n",
    "- Random Forests \n",
    "- Multilayer perceptrons "
   ]
  },
  {
   "cell_type": "code",
   "execution_count": 2,
   "metadata": {},
   "outputs": [
    {
     "name": "stdout",
     "output_type": "stream",
     "text": [
      "Importing the preprocessing module for the Exeter NatSci Machine Learning Group.....\n",
      "Successfully imported the preprocessing module\n"
     ]
    }
   ],
   "source": [
    "#import relevant libraries \n",
    "import numpy as np # linear algebra\n",
    "import pandas as pd # data processing, CSV file I/O (e.g. pd.read_csv)\n",
    "import matplotlib.pyplot as plt\n",
    "import preprocessing_ml as pp\n",
    "\n",
    "from sklearn.metrics import confusion_matrix\n",
    "from sklearn.metrics import accuracy_score\n",
    "from sklearn.metrics import f1_score\n",
    "from sklearn.metrics import recall_score\n",
    "from sklearn.metrics import precision_score\n",
    "from sklearn.metrics import roc_curve\n",
    "from sklearn.metrics import roc_auc_score\n",
    "from sklearn.metrics import classification_report\n",
    "from sklearn.model_selection import cross_val_score\n",
    "\n"
   ]
  },
  {
   "cell_type": "markdown",
   "metadata": {},
   "source": [
    "# Functions for each model:"
   ]
  },
  {
   "cell_type": "code",
   "execution_count": 3,
   "metadata": {},
   "outputs": [],
   "source": [
    "def multilayer_opt(dataset, v=0):\n",
    "    \n",
    "    dataset_t = pp.chose_features(dataset, n_features=12) # choose n features\n",
    "    dataset_t = pp.drop_missing(dataset_t) # drop missing rows\n",
    "    dataset_t = pp.upsample(dataset_t) #upsample data \n",
    "    dataset_t = pp.scale_data(dataset_t, 'standard', v=1)\n",
    "    train, test = pp.split_data(dataset_t, split_dep_var=False) # split dataset\n",
    "    train = pp.upsample(train, v=0)\n",
    "    X_train, y_train = pp.split_dep_var(train);X_test, y_test = pp.split_dep_var(test)\n",
    "    \n",
    "    \n",
    "    from sklearn.neural_network import MLPClassifier\n",
    "    MLP = MLPClassifier(hidden_layer_sizes=(1,), activation= 'identity', solver='sgd', alpha=0.05, random_state=0)\n",
    "    MLP.fit(X_train, y_train) \n",
    "    y_pred = MLP.predict(X_test)\n",
    "    \n",
    "    if v == 1:\n",
    "        print('running multilayer perceptrons')\n",
    "        accuracy = accuracy_score(y_test, y_pred)\n",
    "        print('\\nAccuracy is:', accuracy)\n",
    "        classification = classification_report(y_test, y_pred)\n",
    "        print(classification)\n",
    "        \n",
    "    return MLP\n",
    "    "
   ]
  },
  {
   "cell_type": "markdown",
   "metadata": {},
   "source": [
    "# Comparisons: accuracy, precision, recall, f1_score, roc curve"
   ]
  },
  {
   "cell_type": "code",
   "execution_count": null,
   "metadata": {},
   "outputs": [],
   "source": []
  }
 ],
 "metadata": {
  "kernelspec": {
   "display_name": "Python 3",
   "language": "python",
   "name": "python3"
  },
  "language_info": {
   "codemirror_mode": {
    "name": "ipython",
    "version": 3
   },
   "file_extension": ".py",
   "mimetype": "text/x-python",
   "name": "python",
   "nbconvert_exporter": "python",
   "pygments_lexer": "ipython3",
   "version": "3.7.4"
  }
 },
 "nbformat": 4,
 "nbformat_minor": 2
}
