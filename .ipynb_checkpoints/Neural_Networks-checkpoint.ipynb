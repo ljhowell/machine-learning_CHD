{
 "cells": [
  {
   "cell_type": "markdown",
   "metadata": {},
   "source": [
    "# MLP neural networks "
   ]
  },
  {
   "cell_type": "markdown",
   "metadata": {},
   "source": [
    "A multilayer perceptron (MLP) is a class of feedforward artificial neural network (ANN). The term MLP is used ambiguously, sometimes loosely to refer to any feedforward ANN, sometimes strictly to refer to networks composed of multiple layers of perceptrons (with threshold activation); see § Terminology. Multilayer perceptrons are sometimes referred to as \"vanilla\" neural networks, especially when they have a single hidden layer.\n",
    "\n",
    "An MLP consists of at least three layers of nodes: an input layer, a hidden layer and an output layer. Except for the input nodes, each node is a neuron that uses a nonlinear activation function. MLP utilizes a supervised learning technique called backpropagation for training.Its multiple layers and non-linear activation distinguish MLP from a linear perceptron. It can distinguish data that is not linearly separable."
   ]
  },
  {
   "cell_type": "code",
   "execution_count": 1,
   "metadata": {},
   "outputs": [],
   "source": [
    "#import relevant modules \n",
    "#import relevant libraries \n",
    "import numpy as np # linear algebra\n",
    "import pandas as pd # data processing, CSV file I/O (e.g. pd.read_csv)\n",
    "import matplotlib.pyplot as plt\n",
    "import seaborn as sn\n",
    "# Input data files are available in the \"../input/\" directory.\n",
    "# For example, running this (by clicking run or pressing Shift+Enter) will list all files under the input directory\n",
    "\n",
    "import os"
   ]
  },
  {
   "cell_type": "code",
   "execution_count": 2,
   "metadata": {},
   "outputs": [],
   "source": [
    "from sklearn.metrics import confusion_matrix\n",
    "from sklearn.metrics import accuracy_score\n",
    "from sklearn.metrics import f1_score\n",
    "from sklearn.metrics import recall_score\n",
    "from sklearn.metrics import precision_score\n",
    "from sklearn.metrics import roc_curve\n",
    "from sklearn.metrics import roc_auc_score\n",
    "\n",
    "from sklearn.model_selection import cross_val_score\n",
    "\n",
    "from IPython.core.interactiveshell import InteractiveShell\n",
    "InteractiveShell.ast_node_interactivity = \"all\"\n",
    "%config InlineBackend.figure_format ='retina'\n",
    "%matplotlib inline\n",
    "\n",
    "\n",
    "from sklearn.metrics import confusion_matrix, accuracy_score, classification_report"
   ]
  },
  {
   "cell_type": "code",
   "execution_count": 3,
   "metadata": {},
   "outputs": [],
   "source": [
    "#read in the dataset \n",
    "dataset = pd.read_csv('framingham.csv')"
   ]
  },
  {
   "cell_type": "code",
   "execution_count": 4,
   "metadata": {},
   "outputs": [
    {
     "name": "stdout",
     "output_type": "stream",
     "text": [
      "Importing the preprocessing module for the Exeter NatSci Machine Learning Group.....\n",
      "Successfully imported the preprocessing module\n"
     ]
    }
   ],
   "source": [
    "import preprocessing_ml as pp"
   ]
  },
  {
   "cell_type": "code",
   "execution_count": 5,
   "metadata": {},
   "outputs": [],
   "source": [
    "def Multilayer(X_train,  X_test, y_train, y_test, v=0):\n",
    "    '''Do multi layer perceptron fitting and print information about the success of the fitting\n",
    "    - X_train: Dataframe x training set\n",
    "    - y_train: Dataframe y training set\n",
    "    - X_test: Dataframe x test set\n",
    "    - y_test: Dataframe y test set\n",
    "    - v (optional, default = 0): int (0 or 1) verbose\n",
    "    '''\n",
    "    \n",
    "    from sklearn.neural_network import MLPClassifier\n",
    "    \n",
    "    MLP = MLPClassifier(random_state=0)\n",
    "    \n",
    "    MLP.fit(X_train, y_train) \n",
    "    \n",
    "    if v == 1:\n",
    "        print('running multilayer perceptrons')\n",
    "    \n",
    "    return MLP\n",
    "    \n",
    "    \n",
    "    "
   ]
  },
  {
   "cell_type": "code",
   "execution_count": 6,
   "metadata": {},
   "outputs": [
    {
     "name": "stdout",
     "output_type": "stream",
     "text": [
      "Scaling data....\n",
      "\t * Using minmax scaling\n",
      "running multilayer perceptrons\n"
     ]
    },
    {
     "name": "stderr",
     "output_type": "stream",
     "text": [
      "/opt/anaconda3/lib/python3.7/site-packages/sklearn/neural_network/multilayer_perceptron.py:566: ConvergenceWarning: Stochastic Optimizer: Maximum iterations (200) reached and the optimization hasn't converged yet.\n",
      "  % self.max_iter, ConvergenceWarning)\n"
     ]
    }
   ],
   "source": [
    "#apply all functions to model \n",
    "\n",
    "dataset_t = pp.chose_features(dataset, n_features=14) #try all columns\n",
    "dataset_t = pp.drop_missing(dataset_t) # drop missing rows\n",
    "dataset_t = pp.scale_data(dataset_t, 'minmax', v=1)\n",
    "X_train, X_test, y_train, y_test = pp.split_data(dataset_t) # split dataset\n",
    "\n",
    "MLP = Multilayer(X_train, X_test, y_train, y_test, v=1)\n",
    "y_pred = MLP.predict(X_test)\n",
    "\n",
    "\n"
   ]
  },
  {
   "cell_type": "code",
   "execution_count": 7,
   "metadata": {},
   "outputs": [
    {
     "name": "stdout",
     "output_type": "stream",
     "text": [
      "0.842896174863388\n"
     ]
    }
   ],
   "source": [
    "accuracy = accuracy_score(y_test, y_pred)\n",
    "print(accuracy)"
   ]
  },
  {
   "cell_type": "markdown",
   "metadata": {},
   "source": [
    "Alternating parameters for MLP"
   ]
  },
  {
   "cell_type": "code",
   "execution_count": 8,
   "metadata": {},
   "outputs": [
    {
     "name": "stdout",
     "output_type": "stream",
     "text": [
      "[83.52788586251621, 83.4850455136541, 82.19895287958116, 81.54450261780106, 81.54450261780106, 82.19895287958116, 80.76923076923077, 85.0132625994695, 17.177097203728362, 84.95339547270306, 79.50819672131148, 83.33333333333334, 83.06010928961749]\n"
     ]
    }
   ],
   "source": [
    "#number of features \n",
    "features = dataset.columns #try all columns\n",
    "acc=[]\n",
    "for i in range (3, 16 ):\n",
    "    \n",
    "    dataset_t = pp.chose_features(dataset, n_features=i) # choose n features\n",
    "    dataset_t = pp.drop_missing(dataset_t) # drop missing rows\n",
    "    X_train, X_test, y_train, y_test = pp.split_data(dataset_t) # split dataset\n",
    "    MLP= Multilayer(X_train, X_test, y_train, y_test)   \n",
    "    \n",
    "    y_pred = MLP.predict(X_test)\n",
    "    accuracy = accuracy_score(y_test, y_pred)\n",
    "\n",
    "    acc.append(accuracy*100)\n",
    "print(acc)\n",
    "\n"
   ]
  },
  {
   "cell_type": "markdown",
   "metadata": {},
   "source": [
    "Can see that 11 features gives highest accuracy, so this will be used from now onwards, using default parameters "
   ]
  },
  {
   "cell_type": "code",
   "execution_count": 9,
   "metadata": {},
   "outputs": [
    {
     "name": "stdout",
     "output_type": "stream",
     "text": [
      "running multilayer perceptrons\n",
      "Unscaled data accuracy is: 0.17177097203728361\n",
      "Scaling data....\n",
      "\t * Using minmax scaling\n",
      "running multilayer perceptrons\n",
      "Scaled data (using MinMax) accuracy is: 0.848202396804261\n",
      "Scaling data....\n",
      "\t * Using standard scaling\n",
      "running multilayer perceptrons\n",
      "Scaled data (using standard) accuracy is: 0.8375499334221038\n"
     ]
    }
   ],
   "source": [
    "#comparison between unscaled and scaled data \n",
    "\n",
    "dataset_t1 = pp.chose_features(dataset, n_features=11) #try all columns\n",
    "dataset_t1 = pp.drop_missing(dataset_t1) # drop missing rows\n",
    "X_train, X_test, y_train, y_test = pp.split_data(dataset_t1) # split dataset\n",
    "MLP = Multilayer(X_train, X_test, y_train, y_test, v=1)\n",
    "y_pred = MLP.predict(X_test)\n",
    "accuracy = accuracy_score(y_test, y_pred)\n",
    "print('Unscaled data accuracy is:', accuracy)\n",
    "\n",
    "\n",
    "dataset_t2 = pp.chose_features(dataset, n_features=11) #try all columns\n",
    "dataset_t2 = pp.drop_missing(dataset_t2) # drop missing rows\n",
    "dataset_t2 = pp.scale_data(dataset_t2, 'minmax', v=1 )\n",
    "X_train, X_test, y_train, y_test = pp.split_data(dataset_t2) # split dataset\n",
    "MLP = Multilayer(X_train, X_test, y_train, y_test, v=1)\n",
    "y_pred = MLP.predict(X_test)\n",
    "accuracy = accuracy_score(y_test, y_pred)\n",
    "print('Scaled data (using MinMax) accuracy is:', accuracy)\n",
    "\n",
    "#comparison between unscaled and scaled data \n",
    "\n",
    "dataset_t3 = pp.chose_features(dataset, n_features=11) #try all columns\n",
    "dataset_t3 = pp.drop_missing(dataset_t3) # drop missing rows\n",
    "dataset_t3 = pp.scale_data(dataset_t3, 'standard', v=1 )\n",
    "X_train, X_test, y_train, y_test = pp.split_data(dataset_t3) # split dataset\n",
    "MLP = Multilayer(X_train, X_test, y_train, y_test, v=1)\n",
    "y_pred = MLP.predict(X_test)\n",
    "accuracy = accuracy_score(y_test, y_pred)\n",
    "print('Scaled data (using standard) accuracy is:', accuracy)\n"
   ]
  },
  {
   "cell_type": "markdown",
   "metadata": {},
   "source": [
    "Interestingly again unscaled data results in greatest accruracy, when using default settings with 11 fearures "
   ]
  },
  {
   "cell_type": "markdown",
   "metadata": {},
   "source": [
    "Comparison between unscaled and scaled for differeing feature numbers "
   ]
  },
  {
   "cell_type": "code",
   "execution_count": 10,
   "metadata": {},
   "outputs": [
    {
     "name": "stdout",
     "output_type": "stream",
     "text": [
      "Scaling data....\n",
      "\t * Using standard scaling\n",
      "Scaling data....\n",
      "\t * Using standard scaling\n",
      "Scaling data....\n",
      "\t * Using standard scaling\n",
      "Scaling data....\n",
      "\t * Using standard scaling\n"
     ]
    },
    {
     "name": "stderr",
     "output_type": "stream",
     "text": [
      "/opt/anaconda3/lib/python3.7/site-packages/sklearn/neural_network/multilayer_perceptron.py:566: ConvergenceWarning: Stochastic Optimizer: Maximum iterations (200) reached and the optimization hasn't converged yet.\n",
      "  % self.max_iter, ConvergenceWarning)\n"
     ]
    },
    {
     "name": "stdout",
     "output_type": "stream",
     "text": [
      "Scaling data....\n",
      "\t * Using standard scaling\n"
     ]
    },
    {
     "name": "stderr",
     "output_type": "stream",
     "text": [
      "/opt/anaconda3/lib/python3.7/site-packages/sklearn/neural_network/multilayer_perceptron.py:566: ConvergenceWarning: Stochastic Optimizer: Maximum iterations (200) reached and the optimization hasn't converged yet.\n",
      "  % self.max_iter, ConvergenceWarning)\n"
     ]
    },
    {
     "name": "stdout",
     "output_type": "stream",
     "text": [
      "Scaling data....\n",
      "\t * Using standard scaling\n"
     ]
    },
    {
     "name": "stderr",
     "output_type": "stream",
     "text": [
      "/opt/anaconda3/lib/python3.7/site-packages/sklearn/neural_network/multilayer_perceptron.py:566: ConvergenceWarning: Stochastic Optimizer: Maximum iterations (200) reached and the optimization hasn't converged yet.\n",
      "  % self.max_iter, ConvergenceWarning)\n"
     ]
    },
    {
     "name": "stdout",
     "output_type": "stream",
     "text": [
      "Scaling data....\n",
      "\t * Using standard scaling\n"
     ]
    },
    {
     "name": "stderr",
     "output_type": "stream",
     "text": [
      "/opt/anaconda3/lib/python3.7/site-packages/sklearn/neural_network/multilayer_perceptron.py:566: ConvergenceWarning: Stochastic Optimizer: Maximum iterations (200) reached and the optimization hasn't converged yet.\n",
      "  % self.max_iter, ConvergenceWarning)\n"
     ]
    },
    {
     "name": "stdout",
     "output_type": "stream",
     "text": [
      "Scaling data....\n",
      "\t * Using standard scaling\n"
     ]
    },
    {
     "name": "stderr",
     "output_type": "stream",
     "text": [
      "/opt/anaconda3/lib/python3.7/site-packages/sklearn/neural_network/multilayer_perceptron.py:566: ConvergenceWarning: Stochastic Optimizer: Maximum iterations (200) reached and the optimization hasn't converged yet.\n",
      "  % self.max_iter, ConvergenceWarning)\n"
     ]
    },
    {
     "name": "stdout",
     "output_type": "stream",
     "text": [
      "Scaling data....\n",
      "\t * Using standard scaling\n",
      "Scaling data....\n",
      "\t * Using standard scaling\n",
      "Scaling data....\n",
      "\t * Using standard scaling\n"
     ]
    },
    {
     "name": "stderr",
     "output_type": "stream",
     "text": [
      "/opt/anaconda3/lib/python3.7/site-packages/sklearn/neural_network/multilayer_perceptron.py:566: ConvergenceWarning: Stochastic Optimizer: Maximum iterations (200) reached and the optimization hasn't converged yet.\n",
      "  % self.max_iter, ConvergenceWarning)\n"
     ]
    },
    {
     "name": "stdout",
     "output_type": "stream",
     "text": [
      "Scaling data....\n",
      "\t * Using standard scaling\n"
     ]
    },
    {
     "name": "stderr",
     "output_type": "stream",
     "text": [
      "/opt/anaconda3/lib/python3.7/site-packages/sklearn/neural_network/multilayer_perceptron.py:566: ConvergenceWarning: Stochastic Optimizer: Maximum iterations (200) reached and the optimization hasn't converged yet.\n",
      "  % self.max_iter, ConvergenceWarning)\n"
     ]
    },
    {
     "name": "stdout",
     "output_type": "stream",
     "text": [
      "Scaling data....\n",
      "\t * Using standard scaling\n",
      "[83.78728923476005, 84.26527958387517, 82.4607329842932, 82.59162303664922, 82.59162303664922, 82.59162303664922, 84.88063660477454, 84.21750663129973, 83.75499334221038, 84.95339547270306, 82.10382513661202, 83.46994535519126, 83.33333333333334]\n"
     ]
    },
    {
     "name": "stderr",
     "output_type": "stream",
     "text": [
      "/opt/anaconda3/lib/python3.7/site-packages/sklearn/neural_network/multilayer_perceptron.py:566: ConvergenceWarning: Stochastic Optimizer: Maximum iterations (200) reached and the optimization hasn't converged yet.\n",
      "  % self.max_iter, ConvergenceWarning)\n"
     ]
    }
   ],
   "source": [
    "#number of features \n",
    "features = dataset.columns #try all columns\n",
    "acc2=[]\n",
    "for i in range (3, 16 ):\n",
    "    \n",
    "    dataset_s = pp.chose_features(dataset, n_features=i) # choose n features\n",
    "    dataset_s = pp.drop_missing(dataset_s) # drop missing rows\n",
    "    dataset_s = pp.scale_data(dataset_s, 'standard', v=1)\n",
    "    X_train, X_test, y_train, y_test = pp.split_data(dataset_s) # split dataset\n",
    "    MLP= Multilayer(X_train, X_test, y_train, y_test)   \n",
    "    \n",
    "    y_pred = MLP.predict(X_test)\n",
    "    accuracy = accuracy_score(y_test, y_pred)\n",
    "\n",
    "    acc2.append(accuracy*100)\n",
    "print(acc2)"
   ]
  },
  {
   "cell_type": "code",
   "execution_count": 11,
   "metadata": {},
   "outputs": [
    {
     "data": {
      "text/plain": [
       "<Figure size 864x432 with 0 Axes>"
      ]
     },
     "execution_count": 11,
     "metadata": {},
     "output_type": "execute_result"
    },
    {
     "data": {
      "text/plain": [
       "[<matplotlib.lines.Line2D at 0x1a1886b450>]"
      ]
     },
     "execution_count": 11,
     "metadata": {},
     "output_type": "execute_result"
    },
    {
     "data": {
      "text/plain": [
       "[<matplotlib.lines.Line2D at 0x1a1886bc50>]"
      ]
     },
     "execution_count": 11,
     "metadata": {},
     "output_type": "execute_result"
    },
    {
     "data": {
      "text/plain": [
       "Text(0.5, 1.0, 'Comparison between scaled and unscaled data for MLP with ranging feature numbers')"
      ]
     },
     "execution_count": 11,
     "metadata": {},
     "output_type": "execute_result"
    },
    {
     "data": {
      "text/plain": [
       "Text(0.5, 0, 'Feature number')"
      ]
     },
     "execution_count": 11,
     "metadata": {},
     "output_type": "execute_result"
    },
    {
     "data": {
      "text/plain": [
       "Text(0, 0.5, 'Accuracy')"
      ]
     },
     "execution_count": 11,
     "metadata": {},
     "output_type": "execute_result"
    },
    {
     "data": {
      "text/plain": [
       "<matplotlib.legend.Legend at 0x1a18880290>"
      ]
     },
     "execution_count": 11,
     "metadata": {},
     "output_type": "execute_result"
    },
    {
     "data": {
      "image/png": "[encoded data removed]",
      "text/plain": [
       "<Figure size 864x432 with 1 Axes>"
      ]
     },
     "metadata": {
      "image/png": {
       "height": 386,
       "width": 717
      },
      "needs_background": "light"
     },
     "output_type": "display_data"
    }
   ],
   "source": [
    "plt.figure(figsize=(12,6))\n",
    "plt.plot(range(3,16), acc, color='blue', linestyle='dashed', marker='o',\n",
    "         markerfacecolor='blue', markersize=5 )\n",
    "plt.plot(range(3,16), acc2, color='orange', linestyle='dashed', marker='o',\n",
    "         markerfacecolor='orange', markersize=5)\n",
    "plt.title('Comparison between scaled and unscaled data for MLP with ranging feature numbers')\n",
    "plt.xlabel('Feature number')\n",
    "plt.ylabel('Accuracy')\n",
    "plt.grid()\n",
    "plt.legend(['Scaled', 'Unscaled'])"
   ]
  },
  {
   "cell_type": "code",
   "execution_count": 8,
   "metadata": {},
   "outputs": [],
   "source": [
    "def Multilayer(X_train,  X_test, y_train, y_test, v=0, hidden_layer_sizes=(100,)):\n",
    "    '''Do support vector mechanism fitting and print information about the success of the fitting\n",
    "    - X_train: Dataframe x training set\n",
    "    - y_train: Dataframe y training set\n",
    "    - X_test: Dataframe x test set\n",
    "    - y_test: Dataframe y test set\n",
    "    - v (optional, default = 0): int (0 or 1) verbose\n",
    "    '''\n",
    "    \n",
    "    from sklearn.neural_network import MLPClassifier\n",
    "    \n",
    "    MLP = MLPClassifier( hidden_layer_sizes, random_state=0)\n",
    "    \n",
    "    MLP.fit(X_train, y_train) \n",
    "    \n",
    "    if v == 1:\n",
    "        print('running multilayer perceptrons')\n",
    "    \n",
    "    return MLP\n",
    "    "
   ]
  },
  {
   "cell_type": "code",
   "execution_count": null,
   "metadata": {},
   "outputs": [
    {
     "name": "stdout",
     "output_type": "stream",
     "text": [
      "Scaling data....\n",
      "\t * Using standard scaling\n"
     ]
    }
   ],
   "source": [
    "dataset_t = pp.chose_features(dataset, n_features=12) # choose n features\n",
    "dataset_t = pp.drop_missing(dataset_t) # drop missing rows\n",
    "dataset_t = pp.scale_data(dataset_t, 'standard', v=1)\n",
    "X_train, X_test, y_train, y_test = pp.split_data(dataset_t) # split dataset\n",
    "\n",
    "acc4=[]\n",
    "for i in range(1, 100):\n",
    "    MLP= Multilayer(X_train, X_test, y_train, y_test, hidden_layer_sizes=(100, i))      \n",
    "    y_pred = MLP.predict(X_test)\n",
    "    accuracy = accuracy_score(y_test, y_pred)\n",
    "    acc4.append(accuracy*100)\n",
    "\n",
    "\n",
    "print(acc4)"
   ]
  },
  {
   "cell_type": "code",
   "execution_count": null,
   "metadata": {},
   "outputs": [],
   "source": [
    "plt.figure(figsize=(12, 6))\n",
    "plt.plot(range(1, 100), acc4, color='blue', linestyle='dashed', marker='o',\n",
    "         markerfacecolor='blue', markersize=5)\n",
    "\n",
    "plt.title('Ranging hidden layer numbers and the effect on accuracy ')\n",
    "plt.grid()\n",
    "plt.xlabel('Hidden layers ')\n",
    "plt.ylabel('Accuracy')"
   ]
  },
  {
   "cell_type": "code",
   "execution_count": null,
   "metadata": {},
   "outputs": [],
   "source": [
    "dataset_t = pp.chose_features(dataset, n_features=12) # choose n features\n",
    "dataset_t = pp.drop_missing(dataset_t) # drop missing rows\n",
    "dataset_t = pp.scale_data(dataset_t, 'standard', v=1)\n",
    "X_train, X_test, y_train, y_test = pp.split_data(dataset_t) # split dataset\n",
    "\n",
    "acc5=[]\n",
    "for i in range(1, 100):\n",
    "    MLP= Multilayer(X_train, X_test, y_train, y_test, hidden_layer_sizes=(i,))      \n",
    "    y_pred = MLP.predict(X_test)\n",
    "    accuracy = accuracy_score(y_test, y_pred)\n",
    "    acc5.append(accuracy*100)\n",
    "\n",
    "\n",
    "print(acc5)"
   ]
  },
  {
   "cell_type": "code",
   "execution_count": null,
   "metadata": {},
   "outputs": [],
   "source": [
    "plt.figure(figsize=(12, 6))\n",
    "plt.plot(range(1, 100), acc5, color='blue', linestyle='dashed', marker='o',\n",
    "         markerfacecolor='blue', markersize=5)\n",
    "\n",
    "plt.title('Ranging hidden layer numbers and the effect on accuracy ')\n",
    "plt.grid()\n",
    "plt.xlabel('Hidden layers ')\n",
    "plt.ylabel('Accuracy')"
   ]
  },
  {
   "cell_type": "markdown",
   "metadata": {},
   "source": [
    "# Ranging value of alpha - to prevent bias "
   ]
  },
  {
   "cell_type": "code",
   "execution_count": 5,
   "metadata": {},
   "outputs": [],
   "source": [
    "def Multilayer(X_train,  X_test, y_train, y_test, v=0, hidden_layer_sizes=(1,), activation ='identity', solver='sgd', alpha =0.05, random_state=0):\n",
    "    '''Do multilayer perceptron fitting and print information about the success of the fitting\n",
    "    - X_train: Dataframe x training set\n",
    "    - y_train: Dataframe y training set\n",
    "    - X_test: Dataframe x test set\n",
    "    - y_test: Dataframe y test set\n",
    "    - v (optional, default = 0): int (0 or 1) verbose\n",
    "    '''\n",
    "    \n",
    "    from sklearn.neural_network import MLPClassifier\n",
    "    \n",
    "    MLP = MLPClassifier(hidden_layer_sizes, activation, solver,  alpha,  random_state)\n",
    "    \n",
    "    MLP.fit(X_train, y_train) \n",
    "    \n",
    "    if v == 1:\n",
    "        print('running multilayer perceptrons')\n",
    "    \n",
    "    return MLP\n",
    "    "
   ]
  },
  {
   "cell_type": "code",
   "execution_count": null,
   "metadata": {},
   "outputs": [],
   "source": [
    "dataset_t = pp.chose_features(dataset, n_features=12) # choose n features\n",
    "dataset_t = pp.drop_missing(dataset_t) # drop missing rows\n",
    "dataset_t = pp.scale_data(dataset_t, 'standard', v=1)\n",
    "X_train, X_test, y_train, y_test = pp.split_data(dataset_t) # split dataset\n",
    "\n",
    "alphas = np.logspace(-10, 10, 20)\n",
    "\n",
    "acc6=[]\n",
    "for i in alphas:\n",
    "    MLP= Multilayer(X_train, X_test, y_train, y_test, hidden_layer_sizes=(100,), activation='identity', solver='lbfgs', alpha=i)      \n",
    "    y_pred = MLP.predict(X_test)\n",
    "    accuracy = accuracy_score(y_test, y_pred)\n",
    "    acc6.append(accuracy*100)\n",
    "\n",
    "\n",
    "print(acc6)"
   ]
  },
  {
   "cell_type": "code",
   "execution_count": null,
   "metadata": {},
   "outputs": [],
   "source": [
    "plt.figure(figsize=(12, 6))\n",
    "plt.plot(alphas, acc6, color='blue', linestyle='dashed', marker='o',\n",
    "         markerfacecolor='blue', markersize=5)\n",
    "plt.title('Ranginge value of alpha ')\n",
    "plt.grid()\n",
    "plt.xlabel('value of alpha')\n",
    "plt.ylabel('Accuracy')\n",
    "plt.xscale('log')"
   ]
  },
  {
   "cell_type": "code",
   "execution_count": null,
   "metadata": {},
   "outputs": [],
   "source": [
    "MLP"
   ]
  },
  {
   "cell_type": "markdown",
   "metadata": {
    "collapsed": true
   },
   "source": [
    "# Comparison between solvers: ie gradient descent or not"
   ]
  },
  {
   "cell_type": "code",
   "execution_count": null,
   "metadata": {},
   "outputs": [],
   "source": [
    "dataset_t = pp.chose_features(dataset, n_features=12) # choose n features\n",
    "dataset_t = pp.drop_missing(dataset_t) # drop missing rows\n",
    "dataset_t = pp.scale_data(dataset_t, 'standard', v=1)\n",
    "X_train, X_test, y_train, y_test = pp.split_data(dataset_t) # split dataset\n",
    "\n",
    "solvers = ['lbfgs', 'sgd', 'adam']\n",
    "\n",
    "acc7=[]\n",
    "for i in solvers:\n",
    "    MLP= Multilayer(X_train, X_test, y_train, y_test,  hidden_layer_sizes=(100,), activation='identity', solver=i, alpha=0.05 )      \n",
    "    y_pred = MLP.predict(X_test)\n",
    "    accuracy = accuracy_score(y_test, y_pred)\n",
    "    acc7.append(accuracy*100)\n",
    "\n",
    "\n",
    "print(acc7)"
   ]
  },
  {
   "cell_type": "markdown",
   "metadata": {},
   "source": [
    "Can see that most accurate is for the sgd solver at 85.6%"
   ]
  },
  {
   "cell_type": "markdown",
   "metadata": {},
   "source": [
    "# Comparison between activations: identity, logistic, tanh or relu"
   ]
  },
  {
   "cell_type": "code",
   "execution_count": null,
   "metadata": {},
   "outputs": [],
   "source": [
    "dataset_t = pp.chose_features(dataset, n_features=12) # choose n features\n",
    "dataset_t = pp.drop_missing(dataset_t) # drop missing rows\n",
    "dataset_t = pp.scale_data(dataset_t, 'standard', v=1)\n",
    "X_train, X_test, y_train, y_test = pp.split_data(dataset_t) # split dataset\n",
    "\n",
    "activations = ['identity', 'logistic', 'tanh', 'relu']\n",
    "\n",
    "acc8=[]\n",
    "for i in activations:\n",
    "    MLP= Multilayer(X_train, X_test, y_train, y_test,  hidden_layer_sizes=(100,), activation= i, solver='sgd', alpha=0.05)      \n",
    "    y_pred = MLP.predict(X_test)\n",
    "    accuracy = accuracy_score(y_test, y_pred)\n",
    "    acc8.append(accuracy*100)\n",
    "\n",
    "\n",
    "print(acc8)"
   ]
  },
  {
   "cell_type": "markdown",
   "metadata": {},
   "source": [
    "Identity results in greatest accuracy "
   ]
  },
  {
   "cell_type": "markdown",
   "metadata": {},
   "source": [
    "Can be concluded that: alpha = 0.05, scaled data with 12 features and with (100,) hidden layer size results in the most accurate model.\n"
   ]
  },
  {
   "cell_type": "markdown",
   "metadata": {},
   "source": [
    "# resampling data using optimised model "
   ]
  },
  {
   "cell_type": "code",
   "execution_count": 6,
   "metadata": {},
   "outputs": [
    {
     "name": "stdout",
     "output_type": "stream",
     "text": [
      "Scaling data....\n",
      "\t * Using standard scaling\n"
     ]
    },
    {
     "name": "stderr",
     "output_type": "stream",
     "text": [
      "/opt/anaconda3/lib/python3.7/site-packages/sklearn/neural_network/multilayer_perceptron.py:350: UserWarning: Got `batch_size` less than 1 or larger than sample size. It is going to be clipped\n",
      "  warnings.warn(\"Got `batch_size` less than 1 or larger than \"\n"
     ]
    },
    {
     "name": "stdout",
     "output_type": "stream",
     "text": [
      "65.88050314465409\n",
      "              precision    recall  f1-score   support\n",
      "\n",
      "           0       0.67      0.64      0.66       643\n",
      "           1       0.65      0.68      0.66       629\n",
      "\n",
      "    accuracy                           0.66      1272\n",
      "   macro avg       0.66      0.66      0.66      1272\n",
      "weighted avg       0.66      0.66      0.66      1272\n",
      "\n"
     ]
    }
   ],
   "source": [
    "dataset_t = pp.chose_features(dataset, n_features=12) # choose n features\n",
    "dataset_t = pp.drop_missing(dataset_t) # drop missing rows\n",
    "dataset_t = pp.upsample(dataset_t) #upsample data \n",
    "dataset_t = pp.scale_data(dataset_t, 'standard', v=1)\n",
    "train, test = pp.split_data(dataset_t, split_dep_var=False) # split dataset\n",
    "train = pp.upsample(train, v=0)\n",
    "X_train, y_train = pp.split_dep_var(train);X_test, y_test = pp.split_dep_var(test)\n",
    "\n",
    "\n",
    "\n",
    "MLP= Multilayer(X_train, X_test, y_train, y_test,  hidden_layer_sizes=(1,), activation= 'identity', solver='sgd', alpha=0.05)      \n",
    "y_pred = MLP.predict(X_test)\n",
    "accuracy_upsampled = accuracy_score(y_test, y_pred)\n",
    "\n",
    "print(accuracy_upsampled*100)\n",
    "\n",
    "cm=confusion_matrix(y_test,y_pred)\n",
    "conf_matrix_upsampled=pd.DataFrame(data=cm,columns=['Predicted:0','Predicted:1'],index=['Actual:0','Actual:1'])\n",
    "print(classification_report(y_test,y_pred))\n",
    "\n",
    "\n"
   ]
  },
  {
   "cell_type": "code",
   "execution_count": 7,
   "metadata": {},
   "outputs": [
    {
     "name": "stdout",
     "output_type": "stream",
     "text": [
      "Scaling data....\n",
      "\t * Using standard scaling\n"
     ]
    },
    {
     "name": "stderr",
     "output_type": "stream",
     "text": [
      "/opt/anaconda3/lib/python3.7/site-packages/sklearn/neural_network/multilayer_perceptron.py:350: UserWarning: Got `batch_size` less than 1 or larger than sample size. It is going to be clipped\n",
      "  warnings.warn(\"Got `batch_size` less than 1 or larger than \"\n"
     ]
    },
    {
     "name": "stdout",
     "output_type": "stream",
     "text": [
      "66.97736351531292\n",
      "              precision    recall  f1-score   support\n",
      "\n",
      "           0       0.90      0.68      0.78       637\n",
      "           1       0.25      0.60      0.35       114\n",
      "\n",
      "    accuracy                           0.67       751\n",
      "   macro avg       0.58      0.64      0.57       751\n",
      "weighted avg       0.81      0.67      0.71       751\n",
      "\n"
     ]
    }
   ],
   "source": [
    "\n",
    "\n",
    "dataset_t = pp.chose_features(dataset, n_features=12) # choose n features\n",
    "dataset_t = pp.drop_missing(dataset_t) # drop missing rows\n",
    " \n",
    "dataset_t = pp.scale_data(dataset_t, 'standard', v=1)\n",
    "train, test = pp.split_data(dataset_t, split_dep_var=False) # split dataset\n",
    "train = pp.downsample(train, v=0)\n",
    "X_train, y_train = pp.split_dep_var(train);X_test, y_test = pp.split_dep_var(test)\n",
    "\n",
    "\n",
    "MLP= Multilayer(X_train, X_test, y_train, y_test, hidden_layer_sizes=(1,), activation= 'identity', solver='sgd', alpha=0.05)      \n",
    "y_pred = MLP.predict(X_test)\n",
    "accuracy_downsampled = accuracy_score(y_test, y_pred)\n",
    "\n",
    "print(accuracy_downsampled*100)\n",
    "\n",
    "cm=confusion_matrix(y_test,y_pred)\n",
    "conf_matrix_downsampled=pd.DataFrame(data=cm,columns=['Predicted:0','Predicted:1'],index=['Actual:0','Actual:1'])\n",
    "print(classification_report(y_test,y_pred))\n",
    "\n"
   ]
  },
  {
   "cell_type": "code",
   "execution_count": 8,
   "metadata": {},
   "outputs": [
    {
     "name": "stdout",
     "output_type": "stream",
     "text": [
      "Scaling data....\n",
      "\t * Using standard scaling\n"
     ]
    },
    {
     "name": "stderr",
     "output_type": "stream",
     "text": [
      "/opt/anaconda3/lib/python3.7/site-packages/sklearn/neural_network/multilayer_perceptron.py:350: UserWarning: Got `batch_size` less than 1 or larger than sample size. It is going to be clipped\n",
      "  warnings.warn(\"Got `batch_size` less than 1 or larger than \"\n"
     ]
    },
    {
     "name": "stdout",
     "output_type": "stream",
     "text": [
      "84.8202396804261\n",
      "              precision    recall  f1-score   support\n",
      "\n",
      "           0       0.85      1.00      0.92       637\n",
      "           1       0.00      0.00      0.00       114\n",
      "\n",
      "    accuracy                           0.85       751\n",
      "   macro avg       0.42      0.50      0.46       751\n",
      "weighted avg       0.72      0.85      0.78       751\n",
      "\n"
     ]
    },
    {
     "name": "stderr",
     "output_type": "stream",
     "text": [
      "/opt/anaconda3/lib/python3.7/site-packages/sklearn/metrics/classification.py:1437: UndefinedMetricWarning: Precision and F-score are ill-defined and being set to 0.0 in labels with no predicted samples.\n",
      "  'precision', 'predicted', average, warn_for)\n"
     ]
    }
   ],
   "source": [
    "dataset_t = pp.chose_features(dataset, n_features=12) # choose n features\n",
    "dataset_t = pp.drop_missing(dataset_t) # drop missing rows\n",
    "dataset_t = pp.scale_data(dataset_t, 'standard', v=1)\n",
    "X_train, X_test, y_train, y_test = pp.split_data(dataset_t) # split dataset\n",
    "\n",
    "MLP= Multilayer(X_train, X_test, y_train, y_test,  hidden_layer_sizes=(100,), activation= 'identity', solver='sgd', alpha=0.05)      \n",
    "y_pred = MLP.predict(X_test)\n",
    "accuracy_unsampled = accuracy_score(y_test, y_pred)\n",
    "\n",
    "print(accuracy_unsampled*100)\n",
    "cm=confusion_matrix(y_test,y_pred)\n",
    "conf_matrix_unsampled=pd.DataFrame(data=cm,columns=['Predicted:0','Predicted:1'],index=['Actual:0','Actual:1'])\n",
    "print(classification_report(y_test,y_pred))\n",
    "\n",
    "\n",
    "\n",
    "\n",
    "\n",
    "\n"
   ]
  },
  {
   "cell_type": "code",
   "execution_count": 9,
   "metadata": {},
   "outputs": [
    {
     "name": "stdout",
     "output_type": "stream",
     "text": [
      "Scaling data....\n",
      "\t * Using standard scaling\n"
     ]
    },
    {
     "name": "stderr",
     "output_type": "stream",
     "text": [
      "/opt/anaconda3/lib/python3.7/site-packages/sklearn/utils/validation.py:724: DataConversionWarning: A column-vector y was passed when a 1d array was expected. Please change the shape of y to (n_samples, ), for example using ravel().\n",
      "  y = column_or_1d(y, warn=True)\n",
      "/opt/anaconda3/lib/python3.7/site-packages/sklearn/neural_network/multilayer_perceptron.py:921: DataConversionWarning: A column-vector y was passed when a 1d array was expected. Please change the shape of y to (n_samples, ), for example using ravel().\n",
      "  y = column_or_1d(y, warn=True)\n",
      "/opt/anaconda3/lib/python3.7/site-packages/sklearn/neural_network/multilayer_perceptron.py:350: UserWarning: Got `batch_size` less than 1 or larger than sample size. It is going to be clipped\n",
      "  warnings.warn(\"Got `batch_size` less than 1 or larger than \"\n"
     ]
    },
    {
     "name": "stdout",
     "output_type": "stream",
     "text": [
      "65.60000000000001\n",
      "              precision    recall  f1-score   support\n",
      "\n",
      "           0       0.91      0.66      0.76       635\n",
      "           1       0.26      0.66      0.37       115\n",
      "\n",
      "    accuracy                           0.66       750\n",
      "   macro avg       0.59      0.66      0.57       750\n",
      "weighted avg       0.81      0.66      0.70       750\n",
      "\n"
     ]
    }
   ],
   "source": [
    "#using smote function:\n",
    "\n",
    "dataset_t = pp.chose_features(dataset, n_features=12) # choose n features\n",
    "dataset_t = pp.drop_missing(dataset_t) # drop missing rows\n",
    "dataset_t = pp.scale_data(dataset_t, 'standard', v=1)\n",
    "X_train, X_test, y_train, y_test = pp.smote(dataset_t) # split dataset\n",
    "\n",
    "MLP= Multilayer(X_train, X_test, y_train, y_test,  hidden_layer_sizes=(100,), activation= 'identity', solver='sgd', alpha=0.05)      \n",
    "y_pred = MLP.predict(X_test)\n",
    "accuracy_smote = accuracy_score(y_test, y_pred)\n",
    "\n",
    "print(accuracy_smote*100)\n",
    "cm=confusion_matrix(y_test,y_pred)\n",
    "conf_matrix_smote=pd.DataFrame(data=cm,columns=['Predicted:0','Predicted:1'],index=['Actual:0','Actual:1'])\n",
    "print(classification_report(y_test,y_pred))\n",
    "\n",
    "\n"
   ]
  },
  {
   "cell_type": "code",
   "execution_count": 10,
   "metadata": {},
   "outputs": [
    {
     "data": {
      "text/plain": [
       "<Figure size 1440x864 with 0 Axes>"
      ]
     },
     "execution_count": 10,
     "metadata": {},
     "output_type": "execute_result"
    },
    {
     "data": {
      "text/plain": [
       "<matplotlib.axes._subplots.AxesSubplot at 0x1a23c31510>"
      ]
     },
     "execution_count": 10,
     "metadata": {},
     "output_type": "execute_result"
    },
    {
     "data": {
      "text/plain": [
       "<matplotlib.axes._subplots.AxesSubplot at 0x1a23c31510>"
      ]
     },
     "execution_count": 10,
     "metadata": {},
     "output_type": "execute_result"
    },
    {
     "data": {
      "text/plain": [
       "Text(0.5, 1, 'Upsampled data ')"
      ]
     },
     "execution_count": 10,
     "metadata": {},
     "output_type": "execute_result"
    },
    {
     "data": {
      "text/plain": [
       "<matplotlib.axes._subplots.AxesSubplot at 0x1a226b1050>"
      ]
     },
     "execution_count": 10,
     "metadata": {},
     "output_type": "execute_result"
    },
    {
     "data": {
      "text/plain": [
       "<matplotlib.axes._subplots.AxesSubplot at 0x1a226b1050>"
      ]
     },
     "execution_count": 10,
     "metadata": {},
     "output_type": "execute_result"
    },
    {
     "data": {
      "text/plain": [
       "Text(0.5, 1, 'Downsampled data ')"
      ]
     },
     "execution_count": 10,
     "metadata": {},
     "output_type": "execute_result"
    },
    {
     "data": {
      "text/plain": [
       "<matplotlib.axes._subplots.AxesSubplot at 0x1a227f2590>"
      ]
     },
     "execution_count": 10,
     "metadata": {},
     "output_type": "execute_result"
    },
    {
     "data": {
      "text/plain": [
       "<matplotlib.axes._subplots.AxesSubplot at 0x1a227f2590>"
      ]
     },
     "execution_count": 10,
     "metadata": {},
     "output_type": "execute_result"
    },
    {
     "data": {
      "text/plain": [
       "Text(0.5, 1, 'Unsampled data ')"
      ]
     },
     "execution_count": 10,
     "metadata": {},
     "output_type": "execute_result"
    },
    {
     "data": {
      "text/plain": [
       "<matplotlib.axes._subplots.AxesSubplot at 0x1a227e3190>"
      ]
     },
     "execution_count": 10,
     "metadata": {},
     "output_type": "execute_result"
    },
    {
     "data": {
      "text/plain": [
       "<matplotlib.axes._subplots.AxesSubplot at 0x1a227e3190>"
      ]
     },
     "execution_count": 10,
     "metadata": {},
     "output_type": "execute_result"
    },
    {
     "data": {
      "text/plain": [
       "Text(0.5, 1, 'Data sampled using smote function ')"
      ]
     },
     "execution_count": 10,
     "metadata": {},
     "output_type": "execute_result"
    },
    {
     "data": {
      "image/png": "[encoded data removed]",
      "text/plain": [
       "<Figure size 1440x864 with 8 Axes>"
      ]
     },
     "metadata": {
      "image/png": {
       "height": 719,
       "width": 1111
      },
      "needs_background": "light"
     },
     "output_type": "display_data"
    }
   ],
   "source": [
    "plt.figure(figsize=(20,12))\n",
    "plt.subplot(2,2,1)\n",
    "sn.heatmap(conf_matrix_upsampled, annot=True,fmt='d',cmap=\"YlGnBu\")\n",
    "plt.title('Upsampled data ')\n",
    "\n",
    "plt.subplot(2,2,2)\n",
    "sn.heatmap(conf_matrix_downsampled, annot=True,fmt='d',cmap=\"YlGnBu\")\n",
    "plt.title('Downsampled data ')\n",
    "\n",
    "plt.subplot(2,2,3)\n",
    "sn.heatmap(conf_matrix_unsampled, annot=True,fmt='d',cmap=\"YlGnBu\")\n",
    "plt.title('Unsampled data ')\n",
    "\n",
    "plt.subplot(2,2,4)\n",
    "sn.heatmap(conf_matrix_smote, annot=True,fmt='d',cmap=\"YlGnBu\")\n",
    "plt.title('Data sampled using smote function ')"
   ]
  },
  {
   "cell_type": "markdown",
   "metadata": {},
   "source": [
    "# Ranging random states to see effect on accuracy "
   ]
  },
  {
   "cell_type": "code",
   "execution_count": 188,
   "metadata": {},
   "outputs": [],
   "source": [
    "def cross_val(model, X, Y, scoring = ['accuracy','precision','recall','f1'], cv=5):\n",
    "    \n",
    "   #See https://scikit-learn.org/stable/modules/model_evaluation.html for list of allowed scoring params \n",
    "    from sklearn.model_selection import cross_val_score \n",
    "    \n",
    "    print('\\nCrossvalidation score for {} splits:\\n'.format(cv))   \n",
    "    \n",
    "    cv_results = pd.DataFrame(columns=scoring)\n",
    "    for measure in scoring:\n",
    "        cv_results[measure] = cross_val_score(model, X, Y, scoring = measure, cv=cv)\n",
    "    \n",
    "    #print(\"Cross validation Accuracy:\\n\", cv_results.mean(),\"\\nCross validation STDEV:\\n\" , cv_results.std())\n",
    "    return cv_results.mean()\n",
    "\n",
    "def performance(model,X_test,y_test,cutoff=0.5,v=0,output='Accuracy'):\n",
    "    from sklearn.preprocessing import binarize\n",
    "    from sklearn.metrics import confusion_matrix, accuracy_score, f1_score, precision_score, recall_score, classification_report\n",
    "\n",
    "    if model == 'fram': # cheap and dirty fix for framingham data needing different processing\n",
    "        y_pred = X_test > cutoff*100 \n",
    "    else:\n",
    "        y_pred = model.predict_proba(X_test)\n",
    "        y_pred = binarize(y_pred,cutoff)[:,1]\n",
    "    \n",
    "    if v == 1: \n",
    "        print('\\n========\\nCuttoff: ',cutoff)\n",
    "        print('Confusion Matrix:')\n",
    "        cm=confusion_matrix(y_test,y_pred)\n",
    "        conf_matrix=pd.DataFrame(data=cm,columns=['Predicted:0','Predicted:1'],index=['Actual:0','Actual:1'])\n",
    "        print(confusion_matrix(y_test,y_pred))\n",
    "    \n",
    "        print('Accuracy: {:.2f}%'.format(accuracy_score(y_test,y_pred)*100))\n",
    "        print('f1 score: {:.2f}%'.format(f1_score(y_test,y_pred)*100))\n",
    "        print('precision score: {:.2f}%'.format(precision_score(y_test,y_pred)*100))\n",
    "        print('recall score: {:.2f}%'.format(recall_score(y_test,y_pred)*100))\n",
    "        \n",
    "        print(classification_report(y_test,y_pred))\n",
    "    \n",
    "\n",
    "    if output == 'Accuracy':\n",
    "         return accuracy_score(y_test,y_pred)\n",
    "    elif output == 'Precision':\n",
    "         return precision_score(y_test,y_pred)\n",
    "    elif output == 'Recall':\n",
    "         return recall_score(y_test,y_pred)\n",
    "    elif output == 'f1_score':\n",
    "         return f1_score(y_test,y_pred)\n",
    "    elif output == 'All':\n",
    "        a = [accuracy_score(y_test,y_pred), precision_score(y_test,y_pred),\n",
    "                      recall_score(y_test,y_pred), f1_score(y_test,y_pred)]\n",
    "        return a\n",
    "\n",
    "\n",
    "\n",
    "    \n",
    "# measure = cross_val(k_neighbors(X_train, X_test, y_train, y_test), X_train, y_train,scoring=['accuracy'])\n",
    "\n",
    "# measure\n",
    "#where model_name is replaced by whatever you have defined the model fit as \n",
    "#For example in the K-neighbors section I have defined the model_name as KN. (see k_neighbors function)"
   ]
  },
  {
   "cell_type": "code",
   "execution_count": 189,
   "metadata": {},
   "outputs": [
    {
     "name": "stdout",
     "output_type": "stream",
     "text": [
      "Scaling data....\n",
      "\t * Using standard scaling\n"
     ]
    },
    {
     "name": "stderr",
     "output_type": "stream",
     "text": [
      "/opt/anaconda3/lib/python3.7/site-packages/sklearn/neural_network/multilayer_perceptron.py:350: UserWarning: Got `batch_size` less than 1 or larger than sample size. It is going to be clipped\n",
      "  warnings.warn(\"Got `batch_size` less than 1 or larger than \"\n",
      "/opt/anaconda3/lib/python3.7/site-packages/sklearn/metrics/classification.py:1437: UndefinedMetricWarning: Precision is ill-defined and being set to 0.0 due to no predicted samples.\n",
      "  'precision', 'predicted', average, warn_for)\n",
      "/opt/anaconda3/lib/python3.7/site-packages/sklearn/metrics/classification.py:1437: UndefinedMetricWarning: F-score is ill-defined and being set to 0.0 due to no predicted samples.\n",
      "  'precision', 'predicted', average, warn_for)\n",
      "/opt/anaconda3/lib/python3.7/site-packages/sklearn/metrics/classification.py:1437: UndefinedMetricWarning: Precision is ill-defined and being set to 0.0 due to no predicted samples.\n",
      "  'precision', 'predicted', average, warn_for)\n",
      "/opt/anaconda3/lib/python3.7/site-packages/sklearn/metrics/classification.py:1437: UndefinedMetricWarning: F-score is ill-defined and being set to 0.0 due to no predicted samples.\n",
      "  'precision', 'predicted', average, warn_for)\n",
      "/opt/anaconda3/lib/python3.7/site-packages/sklearn/neural_network/multilayer_perceptron.py:568: UserWarning: Training interrupted by user.\n",
      "  warnings.warn(\"Training interrupted by user.\")\n"
     ]
    },
    {
     "ename": "NameError",
     "evalue": "name 'results' is not defined",
     "output_type": "error",
     "traceback": [
      "\u001b[0;31m---------------------------------------------------------------------------\u001b[0m",
      "\u001b[0;31mNameError\u001b[0m                                 Traceback (most recent call last)",
      "\u001b[0;32m<ipython-input-189-daa1e3612fa3>\u001b[0m in \u001b[0;36m<module>\u001b[0;34m\u001b[0m\n\u001b[1;32m     12\u001b[0m \u001b[0;34m\u001b[0m\u001b[0m\n\u001b[1;32m     13\u001b[0m \u001b[0;34m\u001b[0m\u001b[0m\n\u001b[0;32m---> 14\u001b[0;31m \u001b[0mresults_MLP\u001b[0m \u001b[0;34m=\u001b[0m \u001b[0mpd\u001b[0m\u001b[0;34m.\u001b[0m\u001b[0mDataFrame\u001b[0m\u001b[0;34m(\u001b[0m\u001b[0mresults\u001b[0m\u001b[0;34m,\u001b[0m \u001b[0mcolumns\u001b[0m\u001b[0;34m=\u001b[0m\u001b[0;34m[\u001b[0m\u001b[0;34m'Accuracy'\u001b[0m\u001b[0;34m,\u001b[0m \u001b[0;34m'Precision'\u001b[0m\u001b[0;34m,\u001b[0m \u001b[0;34m'Recall'\u001b[0m\u001b[0;34m,\u001b[0m \u001b[0;34m'f1_score'\u001b[0m\u001b[0;34m]\u001b[0m \u001b[0;34m)\u001b[0m\u001b[0;34m\u001b[0m\u001b[0;34m\u001b[0m\u001b[0m\n\u001b[0m\u001b[1;32m     15\u001b[0m \u001b[0;34m\u001b[0m\u001b[0m\n\u001b[1;32m     16\u001b[0m \u001b[0my_pred_prob_yes\u001b[0m\u001b[0;34m=\u001b[0m\u001b[0mMLP\u001b[0m\u001b[0;34m.\u001b[0m\u001b[0mpredict_proba\u001b[0m\u001b[0;34m(\u001b[0m\u001b[0mX_test\u001b[0m\u001b[0;34m)\u001b[0m\u001b[0;34m\u001b[0m\u001b[0;34m\u001b[0m\u001b[0m\n",
      "\u001b[0;31mNameError\u001b[0m: name 'results' is not defined"
     ]
    }
   ],
   "source": [
    "dataset_t = pp.chose_features(dataset, n_features=12) # choose n features\n",
    "dataset_t = pp.drop_missing(dataset_t) # drop missing rows\n",
    "dataset_t = pp.scale_data(dataset_t, 'standard', v=1)\n",
    "X_train, X_test, y_train, y_test = pp.split_data(dataset_t) # split datasetresults = pd.DataFrame(results, columns=['accuarcy', 'precision', 'recall', 'f1'])\n",
    "states = range(0,20)\n",
    "\n",
    "results_MLP=[]\n",
    "for i in states: \n",
    "    MLP= Multilayer(X_train, X_test, y_train, y_test,  hidden_layer_sizes=(1,), activation= 'identity', solver='sgd', alpha=0.05, random_state=i)      \n",
    "    y_pred = MLP.predict(X_test)\n",
    "    results_MLP.append(performance(MLP, X_test, y_test, output ='All'))\n",
    "    \n",
    "                   \n",
    "results_MLP = pd.DataFrame(results, columns=['Accuracy', 'Precision', 'Recall', 'f1_score'] )\n",
    "\n"
   ]
  },
  {
   "cell_type": "code",
   "execution_count": 130,
   "metadata": {},
   "outputs": [
    {
     "data": {
      "text/plain": [
       "<Figure size 864x432 with 0 Axes>"
      ]
     },
     "execution_count": 130,
     "metadata": {},
     "output_type": "execute_result"
    },
    {
     "name": "stdout",
     "output_type": "stream",
     "text": [
      "\n",
      " MLP summary:\n"
     ]
    },
    {
     "data": {
      "text/plain": [
       "[<matplotlib.lines.Line2D at 0x1a1d39fba8>]"
      ]
     },
     "execution_count": 130,
     "metadata": {},
     "output_type": "execute_result"
    },
    {
     "data": {
      "text/plain": [
       "[<matplotlib.lines.Line2D at 0x1a1cf47be0>]"
      ]
     },
     "execution_count": 130,
     "metadata": {},
     "output_type": "execute_result"
    },
    {
     "data": {
      "text/plain": [
       "[<matplotlib.lines.Line2D at 0x1a1d3a85f8>]"
      ]
     },
     "execution_count": 130,
     "metadata": {},
     "output_type": "execute_result"
    },
    {
     "data": {
      "text/plain": [
       "[<matplotlib.lines.Line2D at 0x1a1d3a89e8>]"
      ]
     },
     "execution_count": 130,
     "metadata": {},
     "output_type": "execute_result"
    },
    {
     "data": {
      "text/plain": [
       "Text(0.5,1,'Ranging values of random state and the effect on model')"
      ]
     },
     "execution_count": 130,
     "metadata": {},
     "output_type": "execute_result"
    },
    {
     "data": {
      "text/plain": [
       "Text(0.5,0,'Random state')"
      ]
     },
     "execution_count": 130,
     "metadata": {},
     "output_type": "execute_result"
    },
    {
     "data": {
      "text/plain": [
       "<matplotlib.legend.Legend at 0x1a1d3a8b38>"
      ]
     },
     "execution_count": 130,
     "metadata": {},
     "output_type": "execute_result"
    },
    {
     "data": {
      "image/png": "[encoded data removed]",
      "text/plain": [
       "<Figure size 864x432 with 1 Axes>"
      ]
     },
     "metadata": {
      "image/png": {
       "height": 386,
       "width": 708
      }
     },
     "output_type": "display_data"
    }
   ],
   "source": [
    "plt.figure(figsize=(12,6))\n",
    "\n",
    "print('\\n MLP summary:')\n",
    "plt.plot(range(0,20), results_MLP['Accuracy'], label=metric, marker='o')\n",
    "plt.plot(range(0,20), results_MLP['Precision'], label=metric, marker='o')\n",
    "plt.plot(range(0,20), results_MLP['Recall'], label=metric, marker='o')\n",
    "plt.plot(range(0,20), results_MLP['f1_score'], label=metric, marker='o')\n",
    "\n",
    "plt.grid()\n",
    "plt.title('Ranging values of random state and the effect on model')\n",
    "plt.xlabel('Random state')\n",
    "plt.legend(['Accuracy', 'Precison', 'Recall', 'f1_score'])"
   ]
  },
  {
   "cell_type": "markdown",
   "metadata": {
    "collapsed": true
   },
   "source": [
    "# Creation of an optimised function - after the evaluation of all the parameters\n"
   ]
  },
  {
   "cell_type": "code",
   "execution_count": 182,
   "metadata": {},
   "outputs": [],
   "source": [
    "def multilayer_opt(dataset, v=0):\n",
    "    \n",
    "    dataset_t = pp.chose_features(dataset, n_features=12) # choose n features\n",
    "    dataset_t = pp.drop_missing(dataset_t) # drop missing rows\n",
    "    dataset_t = pp.upsample(dataset_t) #upsample data \n",
    "    dataset_t = pp.scale_data(dataset_t, 'standard', v=1)\n",
    "    train, test = pp.split_data(dataset_t, split_dep_var=False) # split dataset\n",
    "    train = pp.upsample(train, v=0)\n",
    "    X_train, y_train = pp.split_dep_var(train);X_test, y_test = pp.split_dep_var(test)\n",
    "    \n",
    "    \n",
    "    from sklearn.neural_network import MLPClassifier\n",
    "    MLP = MLPClassifier(hidden_layer_sizes=(1,), activation= 'identity', solver='sgd', alpha=0.05, random_state=0)\n",
    "    MLP.fit(X_train, y_train) \n",
    "    y_pred = MLP.predict(X_test)\n",
    "    \n",
    "    if v == 1:\n",
    "        print('running multilayer perceptrons')\n",
    "        accuracy = accuracy_score(y_test, y_pred)\n",
    "        print('\\nAccuracy is:', accuracy)\n",
    "        classification = classification_report(y_test, y_pred)\n",
    "        print(classification)\n",
    "        \n",
    "    return MLP\n",
    "    "
   ]
  },
  {
   "cell_type": "code",
   "execution_count": 184,
   "metadata": {},
   "outputs": [
    {
     "name": "stdout",
     "output_type": "stream",
     "text": [
      "Scaling data....\n",
      "\t * Using standard scaling\n",
      "running multilayer perceptrons\n",
      "\n",
      "Accuracy is: 0.6698113207547169\n",
      "              precision    recall  f1-score   support\n",
      "\n",
      "           0       0.67      0.68      0.67       643\n",
      "           1       0.67      0.66      0.67       629\n",
      "\n",
      "    accuracy                           0.67      1272\n",
      "   macro avg       0.67      0.67      0.67      1272\n",
      "weighted avg       0.67      0.67      0.67      1272\n",
      "\n"
     ]
    },
    {
     "data": {
      "text/plain": [
       "MLPClassifier(activation='identity', alpha=0.05, batch_size='auto', beta_1=0.9,\n",
       "              beta_2=0.999, early_stopping=False, epsilon=1e-08,\n",
       "              hidden_layer_sizes=(1,), learning_rate='constant',\n",
       "              learning_rate_init=0.001, max_iter=200, momentum=0.9,\n",
       "              n_iter_no_change=10, nesterovs_momentum=True, power_t=0.5,\n",
       "              random_state=0, shuffle=True, solver='sgd', tol=0.0001,\n",
       "              validation_fraction=0.1, verbose=False, warm_start=False)"
      ]
     },
     "execution_count": 184,
     "metadata": {},
     "output_type": "execute_result"
    },
    {
     "name": "stdout",
     "output_type": "stream",
     "text": [
      "Scaling data....\n",
      "\t * Using standard scaling\n"
     ]
    },
    {
     "data": {
      "text/plain": [
       "[<matplotlib.lines.Line2D at 0x1a1a44d210>]"
      ]
     },
     "execution_count": 184,
     "metadata": {},
     "output_type": "execute_result"
    },
    {
     "name": "stdout",
     "output_type": "stream",
     "text": [
      "roc auc for MLP: 0.7233382865987384\n"
     ]
    },
    {
     "data": {
      "image/png": "[encoded data removed]",
      "text/plain": [
       "<Figure size 432x288 with 1 Axes>"
      ]
     },
     "metadata": {
      "image/png": {
       "height": 248,
       "width": 372
      },
      "needs_background": "light"
     },
     "output_type": "display_data"
    }
   ],
   "source": [
    "MLP = multilayer_opt(dataset, v=1)\n",
    "MLP\n",
    "dataset_t = pp.chose_features(dataset, n_features=12) # choose n features\n",
    "dataset_t = pp.drop_missing(dataset_t) # drop missing rows\n",
    "dataset_t = pp.upsample(dataset_t) #upsample data \n",
    "dataset_t = pp.scale_data(dataset_t, 'standard', v=1)\n",
    "train, test = pp.split_data(dataset_t, split_dep_var=False) # split dataset\n",
    "train = pp.upsample(train, v=0)\n",
    "X_train, y_train = pp.split_dep_var(train);X_test, y_test = pp.split_dep_var(test)\n",
    "\n",
    "y_pred_prob_yes=MLP.predict_proba(X_test)\n",
    "fpr, tpr, thresholds = roc_curve(y_test, y_pred_prob_yes[:,1])\n",
    "plt.plot(fpr,tpr,label ='MLP')\n",
    "print('roc auc for MLP:',roc_auc_score(y_test,y_pred_prob_yes[:,1]))\n"
   ]
  },
  {
   "cell_type": "code",
   "execution_count": 175,
   "metadata": {},
   "outputs": [
    {
     "data": {
      "text/plain": [
       "<function sklearn.metrics.ranking.roc_auc_score(y_true, y_score, average='macro', sample_weight=None, max_fpr=None)>"
      ]
     },
     "execution_count": 175,
     "metadata": {},
     "output_type": "execute_result"
    }
   ],
   "source": [
    "roc_auc_score"
   ]
  },
  {
   "cell_type": "code",
   "execution_count": null,
   "metadata": {},
   "outputs": [],
   "source": []
  }
 ],
 "metadata": {
  "kernelspec": {
   "display_name": "Python 3",
   "language": "python",
   "name": "python3"
  },
  "language_info": {
   "codemirror_mode": {
    "name": "ipython",
    "version": 3
   },
   "file_extension": ".py",
   "mimetype": "text/x-python",
   "name": "python",
   "nbconvert_exporter": "python",
   "pygments_lexer": "ipython3",
   "version": "3.7.4"
  }
 },
 "nbformat": 4,
 "nbformat_minor": 2
}
