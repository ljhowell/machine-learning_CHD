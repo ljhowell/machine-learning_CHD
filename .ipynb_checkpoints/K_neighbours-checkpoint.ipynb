{
 "cells": [
  {
   "cell_type": "markdown",
   "metadata": {},
   "source": [
    "# K-nearest neighbours code\n"
   ]
  },
  {
   "cell_type": "markdown",
   "metadata": {},
   "source": [
    "The K-nearest neighbours algrorithm is often used as a baseline method as it is simple to understand. \n",
    "The method considers one nearest neighbour: it does this by finding the closest training data point to the prediction point. The prediction is then simply the known output for that data point. When considering more than one neighbour a voting system is used to assign a label. For more than one class we can count how many neighbours belong to each class and predict the most common \n",
    "\n"
   ]
  },
  {
   "cell_type": "code",
   "execution_count": 1,
   "metadata": {},
   "outputs": [],
   "source": [
    "#import relevant modules \n",
    "#import relevant libraries \n",
    "import numpy as np # linear algebra\n",
    "import pandas as pd # data processing, CSV file I/O (e.g. pd.read_csv)\n",
    "\n",
    "# Input data files are available in the \"../input/\" directory.\n",
    "# For example, running this (by clicking run or pressing Shift+Enter) will list all files under the input directory\n",
    "\n",
    "import os"
   ]
  },
  {
   "cell_type": "code",
   "execution_count": 2,
   "metadata": {},
   "outputs": [],
   "source": [
    "import matplotlib.pyplot as plt\n",
    "from scipy import stats\n",
    "\n",
    "from sklearn.preprocessing import MinMaxScaler\n",
    "from sklearn.model_selection import train_test_split\n",
    "import seaborn as sn\n",
    "\n",
    "from sklearn.metrics import confusion_matrix, accuracy_score, classification_report\n"
   ]
  },
  {
   "cell_type": "code",
   "execution_count": 3,
   "metadata": {},
   "outputs": [],
   "source": [
    "from sklearn.metrics import confusion_matrix\n",
    "from sklearn.metrics import accuracy_score\n",
    "from sklearn.metrics import f1_score\n",
    "from sklearn.metrics import recall_score\n",
    "from sklearn.metrics import precision_score\n",
    "from sklearn.metrics import roc_curve\n",
    "from sklearn.metrics import roc_auc_score\n",
    "\n",
    "from sklearn.model_selection import cross_val_score\n",
    "\n",
    "from IPython.core.interactiveshell import InteractiveShell\n",
    "InteractiveShell.ast_node_interactivity = \"all\"\n",
    "%config InlineBackend.figure_format ='retina'\n",
    "%matplotlib inline"
   ]
  },
  {
   "cell_type": "code",
   "execution_count": 4,
   "metadata": {},
   "outputs": [],
   "source": [
    "#read in the dataset \n",
    "dataset = pd.read_csv('framingham.csv')"
   ]
  },
  {
   "cell_type": "code",
   "execution_count": 5,
   "metadata": {},
   "outputs": [
    {
     "data": {
      "text/html": [
       "<div>\n",
       "<style scoped>\n",
       "    .dataframe tbody tr th:only-of-type {\n",
       "        vertical-align: middle;\n",
       "    }\n",
       "\n",
       "    .dataframe tbody tr th {\n",
       "        vertical-align: top;\n",
       "    }\n",
       "\n",
       "    .dataframe thead th {\n",
       "        text-align: right;\n",
       "    }\n",
       "</style>\n",
       "<table border=\"1\" class=\"dataframe\">\n",
       "  <thead>\n",
       "    <tr style=\"text-align: right;\">\n",
       "      <th></th>\n",
       "      <th>male</th>\n",
       "      <th>age</th>\n",
       "      <th>education</th>\n",
       "      <th>currentSmoker</th>\n",
       "      <th>cigsPerDay</th>\n",
       "      <th>BPMeds</th>\n",
       "      <th>prevalentStroke</th>\n",
       "      <th>prevalentHyp</th>\n",
       "      <th>diabetes</th>\n",
       "      <th>totChol</th>\n",
       "      <th>sysBP</th>\n",
       "      <th>diaBP</th>\n",
       "      <th>BMI</th>\n",
       "      <th>heartRate</th>\n",
       "      <th>glucose</th>\n",
       "      <th>TenYearCHD</th>\n",
       "    </tr>\n",
       "  </thead>\n",
       "  <tbody>\n",
       "    <tr>\n",
       "      <td>0</td>\n",
       "      <td>1</td>\n",
       "      <td>39</td>\n",
       "      <td>4.0</td>\n",
       "      <td>0</td>\n",
       "      <td>0.0</td>\n",
       "      <td>0.0</td>\n",
       "      <td>0</td>\n",
       "      <td>0</td>\n",
       "      <td>0</td>\n",
       "      <td>195.0</td>\n",
       "      <td>106.0</td>\n",
       "      <td>70.0</td>\n",
       "      <td>26.97</td>\n",
       "      <td>80.0</td>\n",
       "      <td>77.0</td>\n",
       "      <td>0</td>\n",
       "    </tr>\n",
       "    <tr>\n",
       "      <td>1</td>\n",
       "      <td>0</td>\n",
       "      <td>46</td>\n",
       "      <td>2.0</td>\n",
       "      <td>0</td>\n",
       "      <td>0.0</td>\n",
       "      <td>0.0</td>\n",
       "      <td>0</td>\n",
       "      <td>0</td>\n",
       "      <td>0</td>\n",
       "      <td>250.0</td>\n",
       "      <td>121.0</td>\n",
       "      <td>81.0</td>\n",
       "      <td>28.73</td>\n",
       "      <td>95.0</td>\n",
       "      <td>76.0</td>\n",
       "      <td>0</td>\n",
       "    </tr>\n",
       "    <tr>\n",
       "      <td>2</td>\n",
       "      <td>1</td>\n",
       "      <td>48</td>\n",
       "      <td>1.0</td>\n",
       "      <td>1</td>\n",
       "      <td>20.0</td>\n",
       "      <td>0.0</td>\n",
       "      <td>0</td>\n",
       "      <td>0</td>\n",
       "      <td>0</td>\n",
       "      <td>245.0</td>\n",
       "      <td>127.5</td>\n",
       "      <td>80.0</td>\n",
       "      <td>25.34</td>\n",
       "      <td>75.0</td>\n",
       "      <td>70.0</td>\n",
       "      <td>0</td>\n",
       "    </tr>\n",
       "    <tr>\n",
       "      <td>3</td>\n",
       "      <td>0</td>\n",
       "      <td>61</td>\n",
       "      <td>3.0</td>\n",
       "      <td>1</td>\n",
       "      <td>30.0</td>\n",
       "      <td>0.0</td>\n",
       "      <td>0</td>\n",
       "      <td>1</td>\n",
       "      <td>0</td>\n",
       "      <td>225.0</td>\n",
       "      <td>150.0</td>\n",
       "      <td>95.0</td>\n",
       "      <td>28.58</td>\n",
       "      <td>65.0</td>\n",
       "      <td>103.0</td>\n",
       "      <td>1</td>\n",
       "    </tr>\n",
       "    <tr>\n",
       "      <td>4</td>\n",
       "      <td>0</td>\n",
       "      <td>46</td>\n",
       "      <td>3.0</td>\n",
       "      <td>1</td>\n",
       "      <td>23.0</td>\n",
       "      <td>0.0</td>\n",
       "      <td>0</td>\n",
       "      <td>0</td>\n",
       "      <td>0</td>\n",
       "      <td>285.0</td>\n",
       "      <td>130.0</td>\n",
       "      <td>84.0</td>\n",
       "      <td>23.10</td>\n",
       "      <td>85.0</td>\n",
       "      <td>85.0</td>\n",
       "      <td>0</td>\n",
       "    </tr>\n",
       "    <tr>\n",
       "      <td>5</td>\n",
       "      <td>0</td>\n",
       "      <td>43</td>\n",
       "      <td>2.0</td>\n",
       "      <td>0</td>\n",
       "      <td>0.0</td>\n",
       "      <td>0.0</td>\n",
       "      <td>0</td>\n",
       "      <td>1</td>\n",
       "      <td>0</td>\n",
       "      <td>228.0</td>\n",
       "      <td>180.0</td>\n",
       "      <td>110.0</td>\n",
       "      <td>30.30</td>\n",
       "      <td>77.0</td>\n",
       "      <td>99.0</td>\n",
       "      <td>0</td>\n",
       "    </tr>\n",
       "    <tr>\n",
       "      <td>6</td>\n",
       "      <td>0</td>\n",
       "      <td>63</td>\n",
       "      <td>1.0</td>\n",
       "      <td>0</td>\n",
       "      <td>0.0</td>\n",
       "      <td>0.0</td>\n",
       "      <td>0</td>\n",
       "      <td>0</td>\n",
       "      <td>0</td>\n",
       "      <td>205.0</td>\n",
       "      <td>138.0</td>\n",
       "      <td>71.0</td>\n",
       "      <td>33.11</td>\n",
       "      <td>60.0</td>\n",
       "      <td>85.0</td>\n",
       "      <td>1</td>\n",
       "    </tr>\n",
       "    <tr>\n",
       "      <td>7</td>\n",
       "      <td>0</td>\n",
       "      <td>45</td>\n",
       "      <td>2.0</td>\n",
       "      <td>1</td>\n",
       "      <td>20.0</td>\n",
       "      <td>0.0</td>\n",
       "      <td>0</td>\n",
       "      <td>0</td>\n",
       "      <td>0</td>\n",
       "      <td>313.0</td>\n",
       "      <td>100.0</td>\n",
       "      <td>71.0</td>\n",
       "      <td>21.68</td>\n",
       "      <td>79.0</td>\n",
       "      <td>78.0</td>\n",
       "      <td>0</td>\n",
       "    </tr>\n",
       "    <tr>\n",
       "      <td>8</td>\n",
       "      <td>1</td>\n",
       "      <td>52</td>\n",
       "      <td>1.0</td>\n",
       "      <td>0</td>\n",
       "      <td>0.0</td>\n",
       "      <td>0.0</td>\n",
       "      <td>0</td>\n",
       "      <td>1</td>\n",
       "      <td>0</td>\n",
       "      <td>260.0</td>\n",
       "      <td>141.5</td>\n",
       "      <td>89.0</td>\n",
       "      <td>26.36</td>\n",
       "      <td>76.0</td>\n",
       "      <td>79.0</td>\n",
       "      <td>0</td>\n",
       "    </tr>\n",
       "    <tr>\n",
       "      <td>9</td>\n",
       "      <td>1</td>\n",
       "      <td>43</td>\n",
       "      <td>1.0</td>\n",
       "      <td>1</td>\n",
       "      <td>30.0</td>\n",
       "      <td>0.0</td>\n",
       "      <td>0</td>\n",
       "      <td>1</td>\n",
       "      <td>0</td>\n",
       "      <td>225.0</td>\n",
       "      <td>162.0</td>\n",
       "      <td>107.0</td>\n",
       "      <td>23.61</td>\n",
       "      <td>93.0</td>\n",
       "      <td>88.0</td>\n",
       "      <td>0</td>\n",
       "    </tr>\n",
       "  </tbody>\n",
       "</table>\n",
       "</div>"
      ],
      "text/plain": [
       "   male  age  education  currentSmoker  cigsPerDay  BPMeds  prevalentStroke  \\\n",
       "0     1   39        4.0              0         0.0     0.0                0   \n",
       "1     0   46        2.0              0         0.0     0.0                0   \n",
       "2     1   48        1.0              1        20.0     0.0                0   \n",
       "3     0   61        3.0              1        30.0     0.0                0   \n",
       "4     0   46        3.0              1        23.0     0.0                0   \n",
       "5     0   43        2.0              0         0.0     0.0                0   \n",
       "6     0   63        1.0              0         0.0     0.0                0   \n",
       "7     0   45        2.0              1        20.0     0.0                0   \n",
       "8     1   52        1.0              0         0.0     0.0                0   \n",
       "9     1   43        1.0              1        30.0     0.0                0   \n",
       "\n",
       "   prevalentHyp  diabetes  totChol  sysBP  diaBP    BMI  heartRate  glucose  \\\n",
       "0             0         0    195.0  106.0   70.0  26.97       80.0     77.0   \n",
       "1             0         0    250.0  121.0   81.0  28.73       95.0     76.0   \n",
       "2             0         0    245.0  127.5   80.0  25.34       75.0     70.0   \n",
       "3             1         0    225.0  150.0   95.0  28.58       65.0    103.0   \n",
       "4             0         0    285.0  130.0   84.0  23.10       85.0     85.0   \n",
       "5             1         0    228.0  180.0  110.0  30.30       77.0     99.0   \n",
       "6             0         0    205.0  138.0   71.0  33.11       60.0     85.0   \n",
       "7             0         0    313.0  100.0   71.0  21.68       79.0     78.0   \n",
       "8             1         0    260.0  141.5   89.0  26.36       76.0     79.0   \n",
       "9             1         0    225.0  162.0  107.0  23.61       93.0     88.0   \n",
       "\n",
       "   TenYearCHD  \n",
       "0           0  \n",
       "1           0  \n",
       "2           0  \n",
       "3           1  \n",
       "4           0  \n",
       "5           0  \n",
       "6           1  \n",
       "7           0  \n",
       "8           0  \n",
       "9           0  "
      ]
     },
     "execution_count": 5,
     "metadata": {},
     "output_type": "execute_result"
    }
   ],
   "source": [
    "dataset.head(10) #checking correct dataset is imported "
   ]
  },
  {
   "cell_type": "markdown",
   "metadata": {},
   "source": [
    "Use premade functions to optimise parameters before entry "
   ]
  },
  {
   "cell_type": "code",
   "execution_count": 6,
   "metadata": {},
   "outputs": [
    {
     "name": "stdout",
     "output_type": "stream",
     "text": [
      "Importing the preprocessing module for the Exeter NatSci Machine Learning Group.....\n",
      "Successfully imported the preprocessing module\n"
     ]
    }
   ],
   "source": [
    "import preprocessing_ml as pp"
   ]
  },
  {
   "cell_type": "markdown",
   "metadata": {},
   "source": [
    "# Create function for K-neighbors classifier, using functions for optimisation "
   ]
  },
  {
   "cell_type": "code",
   "execution_count": 7,
   "metadata": {},
   "outputs": [],
   "source": [
    "\n",
    "def k_neighbors(X_train, X_test, y_train, y_test, v=0,  n_neighbors= 16):\n",
    "    '''Do k_neighbors  fitting and print information about the success of the fitting\n",
    "    - X_train: Dataframe x training set\n",
    "    - y_train: Dataframe y training set\n",
    "    - X_test: Dataframe x test set\n",
    "    - y_test: Dataframe y test set\n",
    "    - v (optional, default = 0): int (0 or 1) verbose\n",
    "    - n_neighbors = i, i=int: define number of neighbors \n",
    "    '''\n",
    "    from sklearn.neighbors import KNeighborsClassifier\n",
    "    from sklearn.metrics import confusion_matrix, accuracy_score, classification_report\n",
    "    from sklearn.model_selection import cross_val_score\n",
    "    \n",
    "    print('\\nCalculating k neighbors...\\n')\n",
    "    \n",
    "    KN = KNeighborsClassifier(n_neighbors)\n",
    "    KN.fit(X_train, y_train) \n",
    "   \n",
    "    \n",
    "   \n",
    "    if v == 1: \n",
    "        print('\\nRunning K-neighbors algorithm')\n",
    "    \n",
    "    \n",
    "    return KN\n",
    "    "
   ]
  },
  {
   "cell_type": "code",
   "execution_count": 8,
   "metadata": {},
   "outputs": [
    {
     "name": "stdout",
     "output_type": "stream",
     "text": [
      "\n",
      "Calculating k neighbors...\n",
      "\n",
      "\n",
      "Running K-neighbors algorithm\n",
      "Accuracy 83.06%: \n"
     ]
    }
   ],
   "source": [
    "# Finally use all the functions I made to preprocess dataset:\n",
    "features = dataset.columns #try all columns\n",
    "\n",
    "dataset_t = pp.chose_features(dataset, n_features=15) # choose n features\n",
    "dataset_t = pp.drop_missing(dataset_t) # drop missing rows\n",
    "X_train, X_test, y_train, y_test = pp.split_data(dataset_t) # split dataset\n",
    "KN = k_neighbors(X_train, X_test, y_train, y_test, v=1, n_neighbors =16)\n",
    "y_pred = KN.predict(X_test)\n",
    "\n",
    "accuracy = accuracy_score(y_test, y_pred)    #for 16 k neighbors \n",
    "\n",
    "\n",
    "print('Accuracy {:.2f}%: '.format(accuracy*100))\n"
   ]
  },
  {
   "cell_type": "markdown",
   "metadata": {
    "collapsed": true
   },
   "source": [
    "# Changing parameters - measuring effect of k "
   ]
  },
  {
   "cell_type": "code",
   "execution_count": 9,
   "metadata": {},
   "outputs": [
    {
     "name": "stdout",
     "output_type": "stream",
     "text": [
      "\n",
      "Calculating k neighbors...\n",
      "\n",
      "\n",
      "Running K-neighbors algorithm\n",
      "\n",
      "Calculating k neighbors...\n",
      "\n",
      "\n",
      "Running K-neighbors algorithm\n",
      "\n",
      "Calculating k neighbors...\n",
      "\n",
      "\n",
      "Running K-neighbors algorithm\n",
      "\n",
      "Calculating k neighbors...\n",
      "\n",
      "\n",
      "Running K-neighbors algorithm\n",
      "\n",
      "Calculating k neighbors...\n",
      "\n",
      "\n",
      "Running K-neighbors algorithm\n",
      "\n",
      "Calculating k neighbors...\n",
      "\n",
      "\n",
      "Running K-neighbors algorithm\n",
      "\n",
      "Calculating k neighbors...\n",
      "\n",
      "\n",
      "Running K-neighbors algorithm\n",
      "\n",
      "Calculating k neighbors...\n",
      "\n",
      "\n",
      "Running K-neighbors algorithm\n",
      "\n",
      "Calculating k neighbors...\n",
      "\n",
      "\n",
      "Running K-neighbors algorithm\n",
      "\n",
      "Calculating k neighbors...\n",
      "\n",
      "\n",
      "Running K-neighbors algorithm\n",
      "\n",
      "Calculating k neighbors...\n",
      "\n",
      "\n",
      "Running K-neighbors algorithm\n",
      "\n",
      "Calculating k neighbors...\n",
      "\n",
      "\n",
      "Running K-neighbors algorithm\n",
      "\n",
      "Calculating k neighbors...\n",
      "\n",
      "\n",
      "Running K-neighbors algorithm\n",
      "\n",
      "Calculating k neighbors...\n",
      "\n",
      "\n",
      "Running K-neighbors algorithm\n",
      "\n",
      "Calculating k neighbors...\n",
      "\n",
      "\n",
      "Running K-neighbors algorithm\n",
      "\n",
      "Calculating k neighbors...\n",
      "\n",
      "\n",
      "Running K-neighbors algorithm\n",
      "\n",
      "Calculating k neighbors...\n",
      "\n",
      "\n",
      "Running K-neighbors algorithm\n",
      "\n",
      "Calculating k neighbors...\n",
      "\n",
      "\n",
      "Running K-neighbors algorithm\n",
      "\n",
      "Calculating k neighbors...\n",
      "\n",
      "\n",
      "Running K-neighbors algorithm\n",
      "\n",
      "Calculating k neighbors...\n",
      "\n",
      "\n",
      "Running K-neighbors algorithm\n",
      "\n",
      "Calculating k neighbors...\n",
      "\n",
      "\n",
      "Running K-neighbors algorithm\n",
      "\n",
      "Calculating k neighbors...\n",
      "\n",
      "\n",
      "Running K-neighbors algorithm\n",
      "\n",
      "Calculating k neighbors...\n",
      "\n",
      "\n",
      "Running K-neighbors algorithm\n",
      "\n",
      "Calculating k neighbors...\n",
      "\n",
      "\n",
      "Running K-neighbors algorithm\n",
      "\n",
      "Calculating k neighbors...\n",
      "\n",
      "\n",
      "Running K-neighbors algorithm\n",
      "\n",
      "Calculating k neighbors...\n",
      "\n",
      "\n",
      "Running K-neighbors algorithm\n",
      "\n",
      "Calculating k neighbors...\n",
      "\n",
      "\n",
      "Running K-neighbors algorithm\n",
      "\n",
      "Calculating k neighbors...\n",
      "\n",
      "\n",
      "Running K-neighbors algorithm\n",
      "\n",
      "Calculating k neighbors...\n",
      "\n",
      "\n",
      "Running K-neighbors algorithm\n",
      "\n",
      "Calculating k neighbors...\n",
      "\n",
      "\n",
      "Running K-neighbors algorithm\n",
      "\n",
      "Calculating k neighbors...\n",
      "\n",
      "\n",
      "Running K-neighbors algorithm\n",
      "\n",
      "Calculating k neighbors...\n",
      "\n",
      "\n",
      "Running K-neighbors algorithm\n",
      "\n",
      "Calculating k neighbors...\n",
      "\n",
      "\n",
      "Running K-neighbors algorithm\n",
      "\n",
      "Calculating k neighbors...\n",
      "\n",
      "\n",
      "Running K-neighbors algorithm\n",
      "\n",
      "Calculating k neighbors...\n",
      "\n",
      "\n",
      "Running K-neighbors algorithm\n",
      "\n",
      "Calculating k neighbors...\n",
      "\n",
      "\n",
      "Running K-neighbors algorithm\n",
      "\n",
      "Calculating k neighbors...\n",
      "\n",
      "\n",
      "Running K-neighbors algorithm\n",
      "\n",
      "Calculating k neighbors...\n",
      "\n",
      "\n",
      "Running K-neighbors algorithm\n",
      "\n",
      "Calculating k neighbors...\n",
      "\n",
      "\n",
      "Running K-neighbors algorithm\n",
      "\n",
      "Calculating k neighbors...\n",
      "\n",
      "\n",
      "Running K-neighbors algorithm\n",
      "\n",
      "Calculating k neighbors...\n",
      "\n",
      "\n",
      "Running K-neighbors algorithm\n",
      "\n",
      "Calculating k neighbors...\n",
      "\n",
      "\n",
      "Running K-neighbors algorithm\n",
      "\n",
      "Calculating k neighbors...\n",
      "\n",
      "\n",
      "Running K-neighbors algorithm\n",
      "\n",
      "Calculating k neighbors...\n",
      "\n",
      "\n",
      "Running K-neighbors algorithm\n",
      "\n",
      "Calculating k neighbors...\n",
      "\n",
      "\n",
      "Running K-neighbors algorithm\n",
      "\n",
      "Calculating k neighbors...\n",
      "\n",
      "\n",
      "Running K-neighbors algorithm\n",
      "\n",
      "Calculating k neighbors...\n",
      "\n",
      "\n",
      "Running K-neighbors algorithm\n",
      "\n",
      "Calculating k neighbors...\n",
      "\n",
      "\n",
      "Running K-neighbors algorithm\n",
      "\n",
      "Calculating k neighbors...\n",
      "\n",
      "\n",
      "Running K-neighbors algorithm\n",
      "\n",
      "Calculating k neighbors...\n",
      "\n",
      "\n",
      "Running K-neighbors algorithm\n",
      "\n",
      "Calculating k neighbors...\n",
      "\n",
      "\n",
      "Running K-neighbors algorithm\n",
      "\n",
      "Calculating k neighbors...\n",
      "\n",
      "\n",
      "Running K-neighbors algorithm\n",
      "\n",
      "Calculating k neighbors...\n",
      "\n",
      "\n",
      "Running K-neighbors algorithm\n",
      "\n",
      "Calculating k neighbors...\n",
      "\n",
      "\n",
      "Running K-neighbors algorithm\n",
      "\n",
      "Calculating k neighbors...\n",
      "\n",
      "\n",
      "Running K-neighbors algorithm\n",
      "\n",
      "Calculating k neighbors...\n",
      "\n",
      "\n",
      "Running K-neighbors algorithm\n",
      "\n",
      "Calculating k neighbors...\n",
      "\n",
      "\n",
      "Running K-neighbors algorithm\n",
      "\n",
      "Calculating k neighbors...\n",
      "\n",
      "\n",
      "Running K-neighbors algorithm\n",
      "\n",
      "Calculating k neighbors...\n",
      "\n",
      "\n",
      "Running K-neighbors algorithm\n",
      "\n",
      "Calculating k neighbors...\n",
      "\n",
      "\n",
      "Running K-neighbors algorithm\n",
      "\n",
      "Calculating k neighbors...\n",
      "\n",
      "\n",
      "Running K-neighbors algorithm\n",
      "\n",
      "Calculating k neighbors...\n",
      "\n",
      "\n",
      "Running K-neighbors algorithm\n",
      "\n",
      "Calculating k neighbors...\n",
      "\n",
      "\n",
      "Running K-neighbors algorithm\n",
      "\n",
      "Calculating k neighbors...\n",
      "\n",
      "\n",
      "Running K-neighbors algorithm\n",
      "\n",
      "Calculating k neighbors...\n",
      "\n",
      "\n",
      "Running K-neighbors algorithm\n",
      "\n",
      "Calculating k neighbors...\n",
      "\n",
      "\n",
      "Running K-neighbors algorithm\n",
      "\n",
      "Calculating k neighbors...\n",
      "\n",
      "\n",
      "Running K-neighbors algorithm\n",
      "\n",
      "Calculating k neighbors...\n",
      "\n",
      "\n",
      "Running K-neighbors algorithm\n",
      "\n",
      "Calculating k neighbors...\n",
      "\n",
      "\n",
      "Running K-neighbors algorithm\n",
      "\n",
      "Calculating k neighbors...\n",
      "\n",
      "\n",
      "Running K-neighbors algorithm\n",
      "\n",
      "Calculating k neighbors...\n",
      "\n",
      "\n",
      "Running K-neighbors algorithm\n",
      "\n",
      "Calculating k neighbors...\n",
      "\n",
      "\n",
      "Running K-neighbors algorithm\n",
      "\n",
      "Calculating k neighbors...\n",
      "\n",
      "\n",
      "Running K-neighbors algorithm\n",
      "\n",
      "Calculating k neighbors...\n",
      "\n",
      "\n",
      "Running K-neighbors algorithm\n",
      "\n",
      "Calculating k neighbors...\n",
      "\n",
      "\n",
      "Running K-neighbors algorithm\n",
      "\n",
      "Calculating k neighbors...\n",
      "\n",
      "\n",
      "Running K-neighbors algorithm\n",
      "\n",
      "Calculating k neighbors...\n",
      "\n",
      "\n",
      "Running K-neighbors algorithm\n",
      "\n",
      "Calculating k neighbors...\n",
      "\n",
      "\n",
      "Running K-neighbors algorithm\n",
      "\n",
      "Calculating k neighbors...\n",
      "\n",
      "\n",
      "Running K-neighbors algorithm\n",
      "\n",
      "Calculating k neighbors...\n",
      "\n",
      "\n",
      "Running K-neighbors algorithm\n",
      "\n",
      "Calculating k neighbors...\n",
      "\n",
      "\n",
      "Running K-neighbors algorithm\n",
      "\n",
      "Calculating k neighbors...\n",
      "\n",
      "\n",
      "Running K-neighbors algorithm\n",
      "\n",
      "Calculating k neighbors...\n",
      "\n",
      "\n",
      "Running K-neighbors algorithm\n",
      "\n",
      "Calculating k neighbors...\n",
      "\n",
      "\n",
      "Running K-neighbors algorithm\n",
      "\n",
      "Calculating k neighbors...\n",
      "\n",
      "\n",
      "Running K-neighbors algorithm\n",
      "\n",
      "Calculating k neighbors...\n",
      "\n",
      "\n",
      "Running K-neighbors algorithm\n",
      "\n",
      "Calculating k neighbors...\n",
      "\n",
      "\n",
      "Running K-neighbors algorithm\n",
      "\n",
      "Calculating k neighbors...\n",
      "\n",
      "\n",
      "Running K-neighbors algorithm\n",
      "\n",
      "Calculating k neighbors...\n",
      "\n",
      "\n",
      "Running K-neighbors algorithm\n",
      "\n",
      "Calculating k neighbors...\n",
      "\n",
      "\n",
      "Running K-neighbors algorithm\n",
      "\n",
      "Calculating k neighbors...\n",
      "\n",
      "\n",
      "Running K-neighbors algorithm\n",
      "\n",
      "Calculating k neighbors...\n",
      "\n",
      "\n",
      "Running K-neighbors algorithm\n",
      "\n",
      "Calculating k neighbors...\n",
      "\n",
      "\n",
      "Running K-neighbors algorithm\n",
      "\n",
      "Calculating k neighbors...\n",
      "\n",
      "\n",
      "Running K-neighbors algorithm\n",
      "\n",
      "Calculating k neighbors...\n",
      "\n",
      "\n",
      "Running K-neighbors algorithm\n",
      "\n",
      "Calculating k neighbors...\n",
      "\n",
      "\n",
      "Running K-neighbors algorithm\n",
      "\n",
      "Calculating k neighbors...\n",
      "\n",
      "\n",
      "Running K-neighbors algorithm\n",
      "\n",
      "Calculating k neighbors...\n",
      "\n",
      "\n",
      "Running K-neighbors algorithm\n",
      "\n",
      "Calculating k neighbors...\n",
      "\n",
      "\n",
      "Running K-neighbors algorithm\n",
      "[79.09836065573771, 82.92349726775956, 81.01092896174863, 82.5136612021858, 81.9672131147541, 82.24043715846994, 82.37704918032787, 82.37704918032787, 82.37704918032787, 82.37704918032787, 82.37704918032787, 82.92349726775956, 83.06010928961749, 83.06010928961749, 83.33333333333334, 83.06010928961749, 82.92349726775956, 83.06010928961749, 82.78688524590164, 83.06010928961749, 82.92349726775956, 83.06010928961749, 82.92349726775956, 83.06010928961749, 83.06010928961749, 83.06010928961749, 83.06010928961749, 83.06010928961749, 83.06010928961749, 83.19672131147541, 83.19672131147541, 83.19672131147541, 83.19672131147541, 83.46994535519126, 83.33333333333334, 83.33333333333334, 83.33333333333334, 83.33333333333334, 83.46994535519126, 83.19672131147541, 83.19672131147541, 83.19672131147541, 83.33333333333334, 83.19672131147541, 83.19672131147541, 83.33333333333334, 83.46994535519126, 83.46994535519126, 83.33333333333334, 83.19672131147541, 83.19672131147541, 83.19672131147541, 83.19672131147541, 83.19672131147541, 83.19672131147541, 83.19672131147541, 83.19672131147541, 83.19672131147541, 83.19672131147541, 83.19672131147541, 83.33333333333334, 83.19672131147541, 83.19672131147541, 83.19672131147541, 83.19672131147541, 83.19672131147541, 83.19672131147541, 83.19672131147541, 83.19672131147541, 83.19672131147541, 83.19672131147541, 83.19672131147541, 83.19672131147541, 83.19672131147541, 83.19672131147541, 83.19672131147541, 83.19672131147541, 83.19672131147541, 83.19672131147541, 83.19672131147541, 83.19672131147541, 83.19672131147541, 83.19672131147541, 83.19672131147541, 83.19672131147541, 83.19672131147541, 83.19672131147541, 83.19672131147541, 83.19672131147541, 83.19672131147541, 83.19672131147541, 83.19672131147541, 83.19672131147541, 83.19672131147541, 83.19672131147541, 83.19672131147541, 83.19672131147541, 83.19672131147541, 83.19672131147541]\n"
     ]
    }
   ],
   "source": [
    "\n",
    "features = dataset.columns #try all columns\n",
    "\n",
    "dataset_t = pp.chose_features(dataset, n_features=15) # choose n features\n",
    "dataset_t = pp.drop_missing(dataset_t) # drop missing rows\n",
    "X_train, X_test, y_train, y_test = pp.split_data(dataset_t) # split dataset\n",
    "\n",
    "\n",
    "#here I first created a empty dataframe acc, to then fill with accuracy scores for ranging the value of \n",
    "#k for comparison \n",
    "acc=[]\n",
    "for i in range (1,100 ):\n",
    "    KN = k_neighbors(X_train, X_test, y_train, y_test, v=1, n_neighbors =i)\n",
    "    y_pred = KN.predict(X_test)\n",
    "    \n",
    "    accuracy = accuracy_score(y_test, y_pred)    \n",
    "\n",
    "\n",
    "\n",
    "    acc.append(accuracy*100)\n",
    "\n",
    "print(acc)\n",
    "    \n"
   ]
  },
  {
   "cell_type": "code",
   "execution_count": 10,
   "metadata": {},
   "outputs": [
    {
     "data": {
      "text/plain": [
       "<Figure size 864x432 with 0 Axes>"
      ]
     },
     "execution_count": 10,
     "metadata": {},
     "output_type": "execute_result"
    },
    {
     "data": {
      "text/plain": [
       "[<matplotlib.lines.Line2D at 0x1a22518a10>]"
      ]
     },
     "execution_count": 10,
     "metadata": {},
     "output_type": "execute_result"
    },
    {
     "data": {
      "text/plain": [
       "Text(0.5, 1.0, 'Varying neighbor values and the effect on accuracy')"
      ]
     },
     "execution_count": 10,
     "metadata": {},
     "output_type": "execute_result"
    },
    {
     "data": {
      "text/plain": [
       "Text(0.5, 0, 'Number of neighbors, value of k')"
      ]
     },
     "execution_count": 10,
     "metadata": {},
     "output_type": "execute_result"
    },
    {
     "data": {
      "text/plain": [
       "Text(0, 0.5, 'Accuracy %')"
      ]
     },
     "execution_count": 10,
     "metadata": {},
     "output_type": "execute_result"
    },
    {
     "data": {
      "image/png": "[encoded data removed]",
      "text/plain": [
       "<Figure size 864x432 with 1 Axes>"
      ]
     },
     "metadata": {
      "image/png": {
       "height": 386,
       "width": 717
      },
      "needs_background": "light"
     },
     "output_type": "display_data"
    }
   ],
   "source": [
    "#plot the change of k and how this effects accuracy \n",
    "\n",
    "plt.figure(figsize=(12, 6))\n",
    "plt.plot(range(1, 100), acc, color='blue', linestyle='dashed', marker='o',\n",
    "         markerfacecolor='blue', markersize=5)\n",
    "plt.grid()\n",
    "plt.title('Varying neighbor values and the effect on accuracy')\n",
    "plt.xlabel('Number of neighbors, value of k')\n",
    "plt.ylabel('Accuracy %')\n"
   ]
  },
  {
   "cell_type": "markdown",
   "metadata": {},
   "source": [
    "value of k =16 appears to give high accuracy "
   ]
  },
  {
   "cell_type": "markdown",
   "metadata": {},
   "source": [
    "# Measuring effect of utilising different number of features from n =15 to n =3 \n"
   ]
  },
  {
   "cell_type": "code",
   "execution_count": 14,
   "metadata": {},
   "outputs": [
    {
     "name": "stdout",
     "output_type": "stream",
     "text": [
      "\n",
      "Calculating k neighbors...\n",
      "\n",
      "\n",
      "Running K-neighbors algorithm\n",
      "\n",
      "Calculating k neighbors...\n",
      "\n",
      "\n",
      "Running K-neighbors algorithm\n",
      "\n",
      "Calculating k neighbors...\n",
      "\n",
      "\n",
      "Running K-neighbors algorithm\n",
      "\n",
      "Calculating k neighbors...\n",
      "\n",
      "\n",
      "Running K-neighbors algorithm\n",
      "\n",
      "Calculating k neighbors...\n",
      "\n",
      "\n",
      "Running K-neighbors algorithm\n",
      "\n",
      "Calculating k neighbors...\n",
      "\n",
      "\n",
      "Running K-neighbors algorithm\n",
      "\n",
      "Calculating k neighbors...\n",
      "\n",
      "\n",
      "Running K-neighbors algorithm\n",
      "\n",
      "Calculating k neighbors...\n",
      "\n",
      "\n",
      "Running K-neighbors algorithm\n",
      "\n",
      "Calculating k neighbors...\n",
      "\n",
      "\n",
      "Running K-neighbors algorithm\n",
      "\n",
      "Calculating k neighbors...\n",
      "\n",
      "\n",
      "Running K-neighbors algorithm\n",
      "\n",
      "Calculating k neighbors...\n",
      "\n",
      "\n",
      "Running K-neighbors algorithm\n",
      "\n",
      "Calculating k neighbors...\n",
      "\n",
      "\n",
      "Running K-neighbors algorithm\n",
      "\n",
      "Calculating k neighbors...\n",
      "\n",
      "\n",
      "Running K-neighbors algorithm\n",
      "[83.13878080415046, 84.39531859557867, 81.80628272251309, 82.32984293193716, 82.32984293193716, 82.32984293193716, 84.61538461538461, 84.61538461538461, 84.8202396804261, 84.8202396804261, 83.46994535519126, 83.06010928961749, 83.06010928961749]\n"
     ]
    }
   ],
   "source": [
    "#using k = 16 for comparison \n",
    "features = dataset.columns #try all columns\n",
    "acc=[]\n",
    "for i in range (3, 16 ):\n",
    "    \n",
    "    dataset_t = pp.chose_features(dataset, n_features=i) # choose n features\n",
    "    dataset_t = pp.drop_missing(dataset_t) # drop missing rows\n",
    "    X_train, X_test, y_train, y_test = pp.split_data(dataset_t) # split dataset\n",
    "    KN = k_neighbors(X_train, X_test, y_train, y_test, v=1, n_neighbors =16)\n",
    "    y_pred = KN.predict(X_test)\n",
    "    accuracy = accuracy_score(y_test, y_pred)    #for 16 k neighbors  \n",
    "    acc.append(accuracy*100)\n",
    "print(acc)\n",
    "\n"
   ]
  },
  {
   "cell_type": "code",
   "execution_count": 15,
   "metadata": {},
   "outputs": [
    {
     "data": {
      "text/plain": [
       "<Figure size 864x432 with 0 Axes>"
      ]
     },
     "execution_count": 15,
     "metadata": {},
     "output_type": "execute_result"
    },
    {
     "data": {
      "text/plain": [
       "[<matplotlib.lines.Line2D at 0x1a2268c7d0>]"
      ]
     },
     "execution_count": 15,
     "metadata": {},
     "output_type": "execute_result"
    },
    {
     "data": {
      "text/plain": [
       "Text(0.5, 1.0, 'Changing feature size and it the affect on accuracy')"
      ]
     },
     "execution_count": 15,
     "metadata": {},
     "output_type": "execute_result"
    },
    {
     "data": {
      "text/plain": [
       "Text(0.5, 0, 'Feature numbers')"
      ]
     },
     "execution_count": 15,
     "metadata": {},
     "output_type": "execute_result"
    },
    {
     "data": {
      "text/plain": [
       "Text(0, 0.5, 'Accuracy %')"
      ]
     },
     "execution_count": 15,
     "metadata": {},
     "output_type": "execute_result"
    },
    {
     "data": {
      "image/png": "[encoded data removed]",
      "text/plain": [
       "<Figure size 864x432 with 1 Axes>"
      ]
     },
     "metadata": {
      "image/png": {
       "height": 386,
       "width": 726
      },
      "needs_background": "light"
     },
     "output_type": "display_data"
    }
   ],
   "source": [
    "plt.figure(figsize=(12, 6))\n",
    "plt.plot(range(3,16), acc,color='blue', linestyle='dashed', marker='o',\n",
    "         markerfacecolor='blue', markersize=5)\n",
    "plt.grid()\n",
    "plt.title('Changing feature size and it the affect on accuracy')\n",
    "plt.xlabel('Feature numbers')\n",
    "plt.ylabel('Accuracy %')"
   ]
  },
  {
   "cell_type": "markdown",
   "metadata": {},
   "source": [
    "# Comparison between scaled and unscaled data, using optimal conditions for other parameters "
   ]
  },
  {
   "cell_type": "markdown",
   "metadata": {},
   "source": [
    "Using K=16 neighbors and the top 12 features, comparison between accuracy of scaled and unscaled data "
   ]
  },
  {
   "cell_type": "code",
   "execution_count": 16,
   "metadata": {},
   "outputs": [
    {
     "name": "stdout",
     "output_type": "stream",
     "text": [
      "Scaling data....\n",
      "\t * Using minmax scaling\n",
      "\n",
      "Calculating k neighbors...\n",
      "\n",
      "\n",
      "Running K-neighbors algorithm\n",
      "Accuracy 83.06%: \n"
     ]
    }
   ],
   "source": [
    "dataset_s = pp.chose_features(dataset, n_features=12) # choose n features\n",
    "dataset_s = pp.drop_missing(dataset_s) # drop missing rows\n",
    "dataset_s = pp.scale_data(dataset_s, 'minmax', v=1 ) #scale data using minmax function \n",
    "X_train, X_test, y_train, y_test = pp.split_data(dataset_t) # split dataset\n",
    "KN = k_neighbors(X_train, X_test, y_train, y_test, v=1, n_neighbors =16)\n",
    "y_pred = KN.predict(X_test)\n",
    "accuracy = accuracy_score(y_test, y_pred)    #for 16 k neighbors \n",
    "\n",
    "print('Accuracy {:.2f}%: '.format(accuracy*100))\n"
   ]
  },
  {
   "cell_type": "code",
   "execution_count": 17,
   "metadata": {},
   "outputs": [
    {
     "name": "stdout",
     "output_type": "stream",
     "text": [
      "Scaling data....\n",
      "\t * Using standard scaling\n",
      "\n",
      "Calculating k neighbors...\n",
      "\n",
      "\n",
      "Running K-neighbors algorithm\n",
      "Accuracy 84.69%: \n"
     ]
    }
   ],
   "source": [
    "dataset_s = pp.chose_features(dataset, n_features=12) # choose n features\n",
    "dataset_s = pp.drop_missing(dataset_s) # drop missing rows\n",
    "dataset_s = pp.scale_data(dataset_s, 'standard', v=1 ) #scale data using minmax function \n",
    "X_train, X_test, y_train, y_test = pp.split_data(dataset_s) # split dataset\n",
    "KN = k_neighbors(X_train, X_test, y_train, y_test, v=1, n_neighbors =16)\n",
    "y_pred = KN.predict(X_test)\n",
    "accuracy = accuracy_score(y_test, y_pred)    #for 16 k neighbors \n",
    "print('Accuracy {:.2f}%: '.format(accuracy*100))"
   ]
  },
  {
   "cell_type": "code",
   "execution_count": 27,
   "metadata": {},
   "outputs": [
    {
     "name": "stdout",
     "output_type": "stream",
     "text": [
      "\n",
      "Calculating k neighbors...\n",
      "\n",
      "\n",
      "Running K-neighbors algorithm\n",
      "Accuracy 84.82%: \n",
      "84.8202396804261\n",
      "              precision    recall  f1-score   support\n",
      "\n",
      "           0       0.85      0.99      0.92       637\n",
      "           1       0.50      0.04      0.07       114\n",
      "\n",
      "    accuracy                           0.85       751\n",
      "   macro avg       0.68      0.51      0.49       751\n",
      "weighted avg       0.80      0.85      0.79       751\n",
      "\n"
     ]
    }
   ],
   "source": [
    "dataset_t = pp.chose_features(dataset, n_features=12) # choose n features\n",
    "dataset_t = pp.drop_missing(dataset_t) # drop missing rows\n",
    "X_train, X_test, y_train, y_test = pp.split_data(dataset_t) # split dataset\n",
    "KN = k_neighbors(X_train, X_test, y_train, y_test, v=1, n_neighbors =16)\n",
    "y_pred = KN.predict(X_test)\n",
    "accuracy = accuracy_score(y_test, y_pred)    #for 16 k neighbors \n",
    "print('Accuracy {:.2f}%: '.format(accuracy*100))\n",
    "\n",
    "print(accuracy*100)\n",
    "cm=confusion_matrix(y_test,y_pred)\n",
    "conf_matrix=pd.DataFrame(data=cm,columns=['Predicted:0','Predicted:1'],index=['Actual:0','Actual:1'])\n",
    "print(classification_report(y_test,y_pred))\n",
    "\n"
   ]
  },
  {
   "cell_type": "markdown",
   "metadata": {},
   "source": [
    "Analysis suggest that for this model, feature number of 12, with 16 neighbors on unscaled data results in the highest accruacy model with a cross validation score of 85%, and final accuracy score of 84.82%"
   ]
  },
  {
   "cell_type": "markdown",
   "metadata": {
    "collapsed": true
   },
   "source": [
    "# Resampling data using optimal conditions"
   ]
  },
  {
   "cell_type": "code",
   "execution_count": 25,
   "metadata": {},
   "outputs": [
    {
     "name": "stdout",
     "output_type": "stream",
     "text": [
      "Scaling data....\n",
      "\t * Using standard scaling\n",
      "\n",
      "Calculating k neighbors...\n",
      "\n",
      "\n",
      "Running K-neighbors algorithm\n",
      "Accuracy 84.69%: \n",
      "84.68708388814915\n",
      "              precision    recall  f1-score   support\n",
      "\n",
      "           0       0.85      0.99      0.92       637\n",
      "           1       0.44      0.04      0.07       114\n",
      "\n",
      "    accuracy                           0.85       751\n",
      "   macro avg       0.65      0.51      0.49       751\n",
      "weighted avg       0.79      0.85      0.79       751\n",
      "\n",
      "\n",
      "Classification report on training data \n",
      "              precision    recall  f1-score   support\n",
      "\n",
      "           0       0.85      0.99      0.92       637\n",
      "           1       0.44      0.04      0.07       114\n",
      "\n",
      "    accuracy                           0.85       751\n",
      "   macro avg       0.65      0.51      0.49       751\n",
      "weighted avg       0.79      0.85      0.79       751\n",
      "\n"
     ]
    }
   ],
   "source": [
    "dataset_up = pp.chose_features(dataset, n_features=12) # choose n features\n",
    "dataset_up = pp.drop_missing(dataset_up) # drop missing rows\n",
    "datset_up = pp.upsample(dataset_up)\n",
    "dataset_up = pp.scale_data(dataset_up, 'standard', v=1 ) #scale data using minmax function \n",
    "X_train, X_test, y_train, y_test = pp.split_data(dataset_up) # split dataset\n",
    "KN = k_neighbors(X_train, X_test, y_train, y_test, v=1, n_neighbors =16)\n",
    "y_pred = KN.predict(X_test)\n",
    "accuracy_upsampled = accuracy_score(y_test, y_pred)    #for 16 k neighbors \n",
    "print('Accuracy {:.2f}%: '.format(accuracy*100))\n",
    "\n",
    "print(accuracy_upsampled*100)\n",
    "cm=confusion_matrix(y_test,y_pred)\n",
    "conf_matrix_upsampled= pd.DataFrame(data=cm,columns=['Predicted:0','Predicted:1'],index=['Actual:0','Actual:1'])\n",
    "print(classification_report(y_test,y_pred))\n",
    "\n",
    "print('\\nClassification report on training data ')\n",
    "print(classification_report(y_test,y_pred))"
   ]
  },
  {
   "cell_type": "code",
   "execution_count": 19,
   "metadata": {},
   "outputs": [
    {
     "name": "stdout",
     "output_type": "stream",
     "text": [
      "Scaling data....\n",
      "\t * Using standard scaling\n",
      "\n",
      "Calculating k neighbors...\n",
      "\n",
      "\n",
      "Running K-neighbors algorithm\n",
      "Accuracy 84.69%: \n",
      "84.68708388814915\n",
      "              precision    recall  f1-score   support\n",
      "\n",
      "           0       0.85      0.99      0.92       637\n",
      "           1       0.44      0.04      0.07       114\n",
      "\n",
      "    accuracy                           0.85       751\n",
      "   macro avg       0.65      0.51      0.49       751\n",
      "weighted avg       0.79      0.85      0.79       751\n",
      "\n"
     ]
    }
   ],
   "source": [
    "dataset_dn = pp.chose_features(dataset, n_features=12) # choose n features\n",
    "dataset_dn = pp.drop_missing(dataset_dn) # drop missing rows\n",
    "datset_dn = pp.downsample(dataset_dn)\n",
    "dataset_dn = pp.scale_data(dataset_dn, 'standard', v=1 ) #scale data using minmax function \n",
    "X_train, X_test, y_train, y_test = pp.split_data(dataset_dn) # split dataset\n",
    "KN = k_neighbors(X_train, X_test, y_train, y_test, v=1, n_neighbors =16)\n",
    "\n",
    "y_pred = KN.predict(X_test)\n",
    "accuracy_downsampled = accuracy_score(y_test, y_pred)    #for 16 k neighbors \n",
    "print('Accuracy {:.2f}%: '.format(accuracy*100))\n",
    "\n",
    "print(accuracy_downsampled*100)\n",
    "cm=confusion_matrix(y_test,y_pred)\n",
    "conf_matrix_downsampled=pd.DataFrame(data=cm,columns=['Predicted:0','Predicted:1'],index=['Actual:0','Actual:1'])\n",
    "print(classification_report(y_test,y_pred))\n"
   ]
  },
  {
   "cell_type": "code",
   "execution_count": 23,
   "metadata": {},
   "outputs": [
    {
     "name": "stdout",
     "output_type": "stream",
     "text": [
      "Scaling data....\n",
      "\t * Using standard scaling\n",
      "\n",
      "Calculating k neighbors...\n",
      "\n",
      "\n",
      "Running K-neighbors algorithm\n",
      "Accuracy 84.69%: \n",
      "66.26666666666667\n",
      "              precision    recall  f1-score   support\n",
      "\n",
      "           0       0.90      0.68      0.77       635\n",
      "           1       0.24      0.57      0.34       115\n",
      "\n",
      "    accuracy                           0.66       750\n",
      "   macro avg       0.57      0.63      0.56       750\n",
      "weighted avg       0.80      0.66      0.71       750\n",
      "\n"
     ]
    },
    {
     "name": "stderr",
     "output_type": "stream",
     "text": [
      "/opt/anaconda3/lib/python3.7/site-packages/sklearn/utils/validation.py:724: DataConversionWarning: A column-vector y was passed when a 1d array was expected. Please change the shape of y to (n_samples, ), for example using ravel().\n",
      "  y = column_or_1d(y, warn=True)\n",
      "/opt/anaconda3/lib/python3.7/site-packages/ipykernel_launcher.py:17: DataConversionWarning: A column-vector y was passed when a 1d array was expected. Please change the shape of y to (n_samples, ), for example using ravel().\n"
     ]
    }
   ],
   "source": [
    "#using SMOTE function:\n",
    "dataset_sm = pp.chose_features(dataset, n_features=12) # choose n features\n",
    "dataset_sm = pp.drop_missing(dataset_sm) # drop missing rows\n",
    "dataset_sm = pp.scale_data(dataset_sm, 'standard', v=1 ) #scale data using minmax function \n",
    "X_train, X_test, y_train, y_test = pp.smote(dataset_sm) # split dataset\n",
    "KN = k_neighbors(X_train, X_test, y_train, y_test, v=1, n_neighbors =16)\n",
    "\n",
    "y_pred = KN.predict(X_test)\n",
    "accuracy_downsampled = accuracy_score(y_test, y_pred)    #for 16 k neighbors \n",
    "print('Accuracy {:.2f}%: '.format(accuracy*100))\n",
    "\n",
    "print(accuracy_downsampled*100)\n",
    "cm=confusion_matrix(y_test,y_pred)\n",
    "conf_matrix_sm=pd.DataFrame(data=cm,columns=['Predicted:0','Predicted:1'],index=['Actual:0','Actual:1'])\n",
    "print(classification_report(y_test,y_pred))\n",
    "\n",
    "\n",
    "\n"
   ]
  },
  {
   "cell_type": "code",
   "execution_count": 34,
   "metadata": {},
   "outputs": [
    {
     "data": {
      "text/plain": [
       "<Figure size 864x576 with 0 Axes>"
      ]
     },
     "execution_count": 34,
     "metadata": {},
     "output_type": "execute_result"
    },
    {
     "data": {
      "text/plain": [
       "<matplotlib.axes._subplots.AxesSubplot at 0x1a2a0ffbd0>"
      ]
     },
     "execution_count": 34,
     "metadata": {},
     "output_type": "execute_result"
    },
    {
     "data": {
      "text/plain": [
       "<matplotlib.axes._subplots.AxesSubplot at 0x1a2a0ffbd0>"
      ]
     },
     "execution_count": 34,
     "metadata": {},
     "output_type": "execute_result"
    },
    {
     "data": {
      "text/plain": [
       "Text(0.5, 1, 'Upsampled data ')"
      ]
     },
     "execution_count": 34,
     "metadata": {},
     "output_type": "execute_result"
    },
    {
     "data": {
      "text/plain": [
       "<matplotlib.axes._subplots.AxesSubplot at 0x1a2bfa4b90>"
      ]
     },
     "execution_count": 34,
     "metadata": {},
     "output_type": "execute_result"
    },
    {
     "data": {
      "text/plain": [
       "<matplotlib.axes._subplots.AxesSubplot at 0x1a2bfa4b90>"
      ]
     },
     "execution_count": 34,
     "metadata": {},
     "output_type": "execute_result"
    },
    {
     "data": {
      "text/plain": [
       "Text(0.5, 1, 'Downsampled data ')"
      ]
     },
     "execution_count": 34,
     "metadata": {},
     "output_type": "execute_result"
    },
    {
     "data": {
      "text/plain": [
       "<matplotlib.axes._subplots.AxesSubplot at 0x1a2bf69a10>"
      ]
     },
     "execution_count": 34,
     "metadata": {},
     "output_type": "execute_result"
    },
    {
     "data": {
      "text/plain": [
       "<matplotlib.axes._subplots.AxesSubplot at 0x1a2bf69a10>"
      ]
     },
     "execution_count": 34,
     "metadata": {},
     "output_type": "execute_result"
    },
    {
     "data": {
      "text/plain": [
       "Text(0.5, 1, 'Unsampled data ')"
      ]
     },
     "execution_count": 34,
     "metadata": {},
     "output_type": "execute_result"
    },
    {
     "data": {
      "text/plain": [
       "<matplotlib.axes._subplots.AxesSubplot at 0x1a2c0f3d90>"
      ]
     },
     "execution_count": 34,
     "metadata": {},
     "output_type": "execute_result"
    },
    {
     "data": {
      "text/plain": [
       "<matplotlib.axes._subplots.AxesSubplot at 0x1a2c0f3d90>"
      ]
     },
     "execution_count": 34,
     "metadata": {},
     "output_type": "execute_result"
    },
    {
     "data": {
      "text/plain": [
       "Text(0.5, 1, 'Sampling using smote data ')"
      ]
     },
     "execution_count": 34,
     "metadata": {},
     "output_type": "execute_result"
    },
    {
     "data": {
      "image/png": "[encoded data removed]",
      "text/plain": [
       "<Figure size 864x576 with 8 Axes>"
      ]
     },
     "metadata": {
      "image/png": {
       "height": 502,
       "width": 690
      },
      "needs_background": "light"
     },
     "output_type": "display_data"
    }
   ],
   "source": [
    "plt.figure(figsize=(12,8))\n",
    "\n",
    "plt.subplot(2,2,1)\n",
    "sn.heatmap(conf_matrix_upsampled, annot=True,fmt='d',cmap=\"YlGnBu\")\n",
    "plt.title('Upsampled data ')\n",
    "\n",
    "plt.subplot(2,2,2)\n",
    "sn.heatmap(conf_matrix_downsampled, annot=True,fmt='d',cmap=\"YlGnBu\")\n",
    "plt.title('Downsampled data ')\n",
    "\n",
    "plt.subplot(2,2,3)\n",
    "sn.heatmap(conf_matrix, annot=True,fmt='d',cmap=\"YlGnBu\")\n",
    "plt.title('Unsampled data ')\n",
    "\n",
    "plt.subplot(2,2,4)\n",
    "sn.heatmap(conf_matrix_sm, annot=True,fmt='d',cmap=\"YlGnBu\")\n",
    "plt.title('Sampling using smote data ')\n",
    "\n"
   ]
  },
  {
   "cell_type": "markdown",
   "metadata": {},
   "source": [
    "# Metric effects on training data - overfitting or not?"
   ]
  },
  {
   "cell_type": "code",
   "execution_count": 23,
   "metadata": {},
   "outputs": [
    {
     "name": "stderr",
     "output_type": "stream",
     "text": [
      "/opt/anaconda3/lib/python3.7/site-packages/sklearn/metrics/classification.py:1437: UndefinedMetricWarning: Precision is ill-defined and being set to 0.0 due to no predicted samples.\n",
      "  'precision', 'predicted', average, warn_for)\n",
      "/opt/anaconda3/lib/python3.7/site-packages/sklearn/metrics/classification.py:1437: UndefinedMetricWarning: F-score is ill-defined and being set to 0.0 due to no predicted samples.\n",
      "  'precision', 'predicted', average, warn_for)\n",
      "/opt/anaconda3/lib/python3.7/site-packages/sklearn/metrics/classification.py:1437: UndefinedMetricWarning: Precision is ill-defined and being set to 0.0 due to no predicted samples.\n",
      "  'precision', 'predicted', average, warn_for)\n",
      "/opt/anaconda3/lib/python3.7/site-packages/sklearn/metrics/classification.py:1437: UndefinedMetricWarning: F-score is ill-defined and being set to 0.0 due to no predicted samples.\n",
      "  'precision', 'predicted', average, warn_for)\n",
      "/opt/anaconda3/lib/python3.7/site-packages/sklearn/metrics/classification.py:1437: UndefinedMetricWarning: Precision is ill-defined and being set to 0.0 due to no predicted samples.\n",
      "  'precision', 'predicted', average, warn_for)\n",
      "/opt/anaconda3/lib/python3.7/site-packages/sklearn/metrics/classification.py:1437: UndefinedMetricWarning: F-score is ill-defined and being set to 0.0 due to no predicted samples.\n",
      "  'precision', 'predicted', average, warn_for)\n",
      "/opt/anaconda3/lib/python3.7/site-packages/sklearn/metrics/classification.py:1437: UndefinedMetricWarning: Precision is ill-defined and being set to 0.0 due to no predicted samples.\n",
      "  'precision', 'predicted', average, warn_for)\n",
      "/opt/anaconda3/lib/python3.7/site-packages/sklearn/metrics/classification.py:1437: UndefinedMetricWarning: F-score is ill-defined and being set to 0.0 due to no predicted samples.\n",
      "  'precision', 'predicted', average, warn_for)\n",
      "/opt/anaconda3/lib/python3.7/site-packages/sklearn/metrics/classification.py:1437: UndefinedMetricWarning: Precision is ill-defined and being set to 0.0 due to no predicted samples.\n",
      "  'precision', 'predicted', average, warn_for)\n",
      "/opt/anaconda3/lib/python3.7/site-packages/sklearn/metrics/classification.py:1437: UndefinedMetricWarning: F-score is ill-defined and being set to 0.0 due to no predicted samples.\n",
      "  'precision', 'predicted', average, warn_for)\n",
      "/opt/anaconda3/lib/python3.7/site-packages/sklearn/metrics/classification.py:1437: UndefinedMetricWarning: Precision is ill-defined and being set to 0.0 due to no predicted samples.\n",
      "  'precision', 'predicted', average, warn_for)\n",
      "/opt/anaconda3/lib/python3.7/site-packages/sklearn/metrics/classification.py:1437: UndefinedMetricWarning: F-score is ill-defined and being set to 0.0 due to no predicted samples.\n",
      "  'precision', 'predicted', average, warn_for)\n",
      "/opt/anaconda3/lib/python3.7/site-packages/sklearn/metrics/classification.py:1437: UndefinedMetricWarning: Precision is ill-defined and being set to 0.0 due to no predicted samples.\n",
      "  'precision', 'predicted', average, warn_for)\n",
      "/opt/anaconda3/lib/python3.7/site-packages/sklearn/metrics/classification.py:1437: UndefinedMetricWarning: F-score is ill-defined and being set to 0.0 due to no predicted samples.\n",
      "  'precision', 'predicted', average, warn_for)\n",
      "/opt/anaconda3/lib/python3.7/site-packages/sklearn/metrics/classification.py:1437: UndefinedMetricWarning: Precision is ill-defined and being set to 0.0 due to no predicted samples.\n",
      "  'precision', 'predicted', average, warn_for)\n",
      "/opt/anaconda3/lib/python3.7/site-packages/sklearn/metrics/classification.py:1437: UndefinedMetricWarning: F-score is ill-defined and being set to 0.0 due to no predicted samples.\n",
      "  'precision', 'predicted', average, warn_for)\n",
      "/opt/anaconda3/lib/python3.7/site-packages/sklearn/metrics/classification.py:1437: UndefinedMetricWarning: Precision is ill-defined and being set to 0.0 due to no predicted samples.\n",
      "  'precision', 'predicted', average, warn_for)\n",
      "/opt/anaconda3/lib/python3.7/site-packages/sklearn/metrics/classification.py:1437: UndefinedMetricWarning: F-score is ill-defined and being set to 0.0 due to no predicted samples.\n",
      "  'precision', 'predicted', average, warn_for)\n",
      "/opt/anaconda3/lib/python3.7/site-packages/sklearn/metrics/classification.py:1437: UndefinedMetricWarning: Precision is ill-defined and being set to 0.0 due to no predicted samples.\n",
      "  'precision', 'predicted', average, warn_for)\n",
      "/opt/anaconda3/lib/python3.7/site-packages/sklearn/metrics/classification.py:1437: UndefinedMetricWarning: F-score is ill-defined and being set to 0.0 due to no predicted samples.\n",
      "  'precision', 'predicted', average, warn_for)\n",
      "/opt/anaconda3/lib/python3.7/site-packages/sklearn/metrics/classification.py:1437: UndefinedMetricWarning: Precision is ill-defined and being set to 0.0 due to no predicted samples.\n",
      "  'precision', 'predicted', average, warn_for)\n",
      "/opt/anaconda3/lib/python3.7/site-packages/sklearn/metrics/classification.py:1437: UndefinedMetricWarning: F-score is ill-defined and being set to 0.0 due to no predicted samples.\n",
      "  'precision', 'predicted', average, warn_for)\n",
      "/opt/anaconda3/lib/python3.7/site-packages/sklearn/metrics/classification.py:1437: UndefinedMetricWarning: Precision is ill-defined and being set to 0.0 due to no predicted samples.\n",
      "  'precision', 'predicted', average, warn_for)\n",
      "/opt/anaconda3/lib/python3.7/site-packages/sklearn/metrics/classification.py:1437: UndefinedMetricWarning: F-score is ill-defined and being set to 0.0 due to no predicted samples.\n",
      "  'precision', 'predicted', average, warn_for)\n",
      "/opt/anaconda3/lib/python3.7/site-packages/sklearn/metrics/classification.py:1437: UndefinedMetricWarning: Precision is ill-defined and being set to 0.0 due to no predicted samples.\n",
      "  'precision', 'predicted', average, warn_for)\n",
      "/opt/anaconda3/lib/python3.7/site-packages/sklearn/metrics/classification.py:1437: UndefinedMetricWarning: F-score is ill-defined and being set to 0.0 due to no predicted samples.\n",
      "  'precision', 'predicted', average, warn_for)\n",
      "/opt/anaconda3/lib/python3.7/site-packages/sklearn/metrics/classification.py:1437: UndefinedMetricWarning: Precision is ill-defined and being set to 0.0 due to no predicted samples.\n",
      "  'precision', 'predicted', average, warn_for)\n",
      "/opt/anaconda3/lib/python3.7/site-packages/sklearn/metrics/classification.py:1437: UndefinedMetricWarning: F-score is ill-defined and being set to 0.0 due to no predicted samples.\n",
      "  'precision', 'predicted', average, warn_for)\n",
      "/opt/anaconda3/lib/python3.7/site-packages/sklearn/metrics/classification.py:1437: UndefinedMetricWarning: Precision is ill-defined and being set to 0.0 due to no predicted samples.\n",
      "  'precision', 'predicted', average, warn_for)\n",
      "/opt/anaconda3/lib/python3.7/site-packages/sklearn/metrics/classification.py:1437: UndefinedMetricWarning: F-score is ill-defined and being set to 0.0 due to no predicted samples.\n",
      "  'precision', 'predicted', average, warn_for)\n",
      "/opt/anaconda3/lib/python3.7/site-packages/sklearn/metrics/classification.py:1437: UndefinedMetricWarning: Precision is ill-defined and being set to 0.0 due to no predicted samples.\n",
      "  'precision', 'predicted', average, warn_for)\n",
      "/opt/anaconda3/lib/python3.7/site-packages/sklearn/metrics/classification.py:1437: UndefinedMetricWarning: F-score is ill-defined and being set to 0.0 due to no predicted samples.\n",
      "  'precision', 'predicted', average, warn_for)\n",
      "/opt/anaconda3/lib/python3.7/site-packages/sklearn/metrics/classification.py:1437: UndefinedMetricWarning: Precision is ill-defined and being set to 0.0 due to no predicted samples.\n",
      "  'precision', 'predicted', average, warn_for)\n",
      "/opt/anaconda3/lib/python3.7/site-packages/sklearn/metrics/classification.py:1437: UndefinedMetricWarning: F-score is ill-defined and being set to 0.0 due to no predicted samples.\n",
      "  'precision', 'predicted', average, warn_for)\n",
      "/opt/anaconda3/lib/python3.7/site-packages/sklearn/metrics/classification.py:1437: UndefinedMetricWarning: Precision is ill-defined and being set to 0.0 due to no predicted samples.\n",
      "  'precision', 'predicted', average, warn_for)\n",
      "/opt/anaconda3/lib/python3.7/site-packages/sklearn/metrics/classification.py:1437: UndefinedMetricWarning: F-score is ill-defined and being set to 0.0 due to no predicted samples.\n",
      "  'precision', 'predicted', average, warn_for)\n",
      "/opt/anaconda3/lib/python3.7/site-packages/sklearn/metrics/classification.py:1437: UndefinedMetricWarning: Precision is ill-defined and being set to 0.0 due to no predicted samples.\n",
      "  'precision', 'predicted', average, warn_for)\n",
      "/opt/anaconda3/lib/python3.7/site-packages/sklearn/metrics/classification.py:1437: UndefinedMetricWarning: F-score is ill-defined and being set to 0.0 due to no predicted samples.\n",
      "  'precision', 'predicted', average, warn_for)\n",
      "/opt/anaconda3/lib/python3.7/site-packages/sklearn/metrics/classification.py:1437: UndefinedMetricWarning: Precision is ill-defined and being set to 0.0 due to no predicted samples.\n",
      "  'precision', 'predicted', average, warn_for)\n",
      "/opt/anaconda3/lib/python3.7/site-packages/sklearn/metrics/classification.py:1437: UndefinedMetricWarning: F-score is ill-defined and being set to 0.0 due to no predicted samples.\n",
      "  'precision', 'predicted', average, warn_for)\n",
      "/opt/anaconda3/lib/python3.7/site-packages/sklearn/metrics/classification.py:1437: UndefinedMetricWarning: Precision is ill-defined and being set to 0.0 due to no predicted samples.\n",
      "  'precision', 'predicted', average, warn_for)\n",
      "/opt/anaconda3/lib/python3.7/site-packages/sklearn/metrics/classification.py:1437: UndefinedMetricWarning: F-score is ill-defined and being set to 0.0 due to no predicted samples.\n",
      "  'precision', 'predicted', average, warn_for)\n",
      "/opt/anaconda3/lib/python3.7/site-packages/sklearn/metrics/classification.py:1437: UndefinedMetricWarning: Precision is ill-defined and being set to 0.0 due to no predicted samples.\n",
      "  'precision', 'predicted', average, warn_for)\n",
      "/opt/anaconda3/lib/python3.7/site-packages/sklearn/metrics/classification.py:1437: UndefinedMetricWarning: F-score is ill-defined and being set to 0.0 due to no predicted samples.\n",
      "  'precision', 'predicted', average, warn_for)\n"
     ]
    },
    {
     "name": "stderr",
     "output_type": "stream",
     "text": [
      "/opt/anaconda3/lib/python3.7/site-packages/sklearn/metrics/classification.py:1437: UndefinedMetricWarning: Precision is ill-defined and being set to 0.0 due to no predicted samples.\n",
      "  'precision', 'predicted', average, warn_for)\n",
      "/opt/anaconda3/lib/python3.7/site-packages/sklearn/metrics/classification.py:1437: UndefinedMetricWarning: F-score is ill-defined and being set to 0.0 due to no predicted samples.\n",
      "  'precision', 'predicted', average, warn_for)\n",
      "/opt/anaconda3/lib/python3.7/site-packages/sklearn/metrics/classification.py:1437: UndefinedMetricWarning: Precision is ill-defined and being set to 0.0 due to no predicted samples.\n",
      "  'precision', 'predicted', average, warn_for)\n",
      "/opt/anaconda3/lib/python3.7/site-packages/sklearn/metrics/classification.py:1437: UndefinedMetricWarning: F-score is ill-defined and being set to 0.0 due to no predicted samples.\n",
      "  'precision', 'predicted', average, warn_for)\n",
      "/opt/anaconda3/lib/python3.7/site-packages/sklearn/metrics/classification.py:1437: UndefinedMetricWarning: Precision is ill-defined and being set to 0.0 due to no predicted samples.\n",
      "  'precision', 'predicted', average, warn_for)\n",
      "/opt/anaconda3/lib/python3.7/site-packages/sklearn/metrics/classification.py:1437: UndefinedMetricWarning: F-score is ill-defined and being set to 0.0 due to no predicted samples.\n",
      "  'precision', 'predicted', average, warn_for)\n",
      "/opt/anaconda3/lib/python3.7/site-packages/sklearn/metrics/classification.py:1437: UndefinedMetricWarning: Precision is ill-defined and being set to 0.0 due to no predicted samples.\n",
      "  'precision', 'predicted', average, warn_for)\n",
      "/opt/anaconda3/lib/python3.7/site-packages/sklearn/metrics/classification.py:1437: UndefinedMetricWarning: F-score is ill-defined and being set to 0.0 due to no predicted samples.\n",
      "  'precision', 'predicted', average, warn_for)\n",
      "/opt/anaconda3/lib/python3.7/site-packages/sklearn/metrics/classification.py:1437: UndefinedMetricWarning: Precision is ill-defined and being set to 0.0 due to no predicted samples.\n",
      "  'precision', 'predicted', average, warn_for)\n",
      "/opt/anaconda3/lib/python3.7/site-packages/sklearn/metrics/classification.py:1437: UndefinedMetricWarning: F-score is ill-defined and being set to 0.0 due to no predicted samples.\n",
      "  'precision', 'predicted', average, warn_for)\n",
      "/opt/anaconda3/lib/python3.7/site-packages/sklearn/metrics/classification.py:1437: UndefinedMetricWarning: Precision is ill-defined and being set to 0.0 due to no predicted samples.\n",
      "  'precision', 'predicted', average, warn_for)\n",
      "/opt/anaconda3/lib/python3.7/site-packages/sklearn/metrics/classification.py:1437: UndefinedMetricWarning: F-score is ill-defined and being set to 0.0 due to no predicted samples.\n",
      "  'precision', 'predicted', average, warn_for)\n",
      "/opt/anaconda3/lib/python3.7/site-packages/sklearn/metrics/classification.py:1437: UndefinedMetricWarning: Precision is ill-defined and being set to 0.0 due to no predicted samples.\n",
      "  'precision', 'predicted', average, warn_for)\n",
      "/opt/anaconda3/lib/python3.7/site-packages/sklearn/metrics/classification.py:1437: UndefinedMetricWarning: F-score is ill-defined and being set to 0.0 due to no predicted samples.\n",
      "  'precision', 'predicted', average, warn_for)\n",
      "/opt/anaconda3/lib/python3.7/site-packages/sklearn/metrics/classification.py:1437: UndefinedMetricWarning: Precision is ill-defined and being set to 0.0 due to no predicted samples.\n",
      "  'precision', 'predicted', average, warn_for)\n",
      "/opt/anaconda3/lib/python3.7/site-packages/sklearn/metrics/classification.py:1437: UndefinedMetricWarning: F-score is ill-defined and being set to 0.0 due to no predicted samples.\n",
      "  'precision', 'predicted', average, warn_for)\n",
      "/opt/anaconda3/lib/python3.7/site-packages/sklearn/metrics/classification.py:1437: UndefinedMetricWarning: Precision is ill-defined and being set to 0.0 due to no predicted samples.\n",
      "  'precision', 'predicted', average, warn_for)\n",
      "/opt/anaconda3/lib/python3.7/site-packages/sklearn/metrics/classification.py:1437: UndefinedMetricWarning: F-score is ill-defined and being set to 0.0 due to no predicted samples.\n",
      "  'precision', 'predicted', average, warn_for)\n"
     ]
    },
    {
     "data": {
      "text/plain": [
       "<Figure size 864x432 with 0 Axes>"
      ]
     },
     "execution_count": 23,
     "metadata": {},
     "output_type": "execute_result"
    },
    {
     "data": {
      "text/plain": [
       "[<matplotlib.lines.Line2D at 0x1a25138410>]"
      ]
     },
     "execution_count": 23,
     "metadata": {},
     "output_type": "execute_result"
    },
    {
     "name": "stdout",
     "output_type": "stream",
     "text": [
      "accuracy max= 0.8495339547270306\n"
     ]
    },
    {
     "data": {
      "text/plain": [
       "[<matplotlib.lines.Line2D at 0x1a25138b90>]"
      ]
     },
     "execution_count": 23,
     "metadata": {},
     "output_type": "execute_result"
    },
    {
     "name": "stdout",
     "output_type": "stream",
     "text": [
      "precision max= 1.0\n"
     ]
    },
    {
     "data": {
      "text/plain": [
       "[<matplotlib.lines.Line2D at 0x1a25138c90>]"
      ]
     },
     "execution_count": 23,
     "metadata": {},
     "output_type": "execute_result"
    },
    {
     "name": "stdout",
     "output_type": "stream",
     "text": [
      "recall max= 0.9210526315789473\n"
     ]
    },
    {
     "data": {
      "text/plain": [
       "[<matplotlib.lines.Line2D at 0x1a25140610>]"
      ]
     },
     "execution_count": 23,
     "metadata": {},
     "output_type": "execute_result"
    },
    {
     "name": "stdout",
     "output_type": "stream",
     "text": [
      "f1 max= 0.32285115303983225\n"
     ]
    },
    {
     "data": {
      "text/plain": [
       "Text(0.5, 1.0, \"Changing cutoff to see effect on metrics for KNeighborsClassifier(algorithm='auto', leaf_size=30, metric='minkowski',\\n                     metric_params=None, n_jobs=None, n_neighbors=16, p=2,\\n                     weights='uniform')\")"
      ]
     },
     "execution_count": 23,
     "metadata": {},
     "output_type": "execute_result"
    },
    {
     "data": {
      "text/plain": [
       "Text(0.5, 0, 'Cutoff')"
      ]
     },
     "execution_count": 23,
     "metadata": {},
     "output_type": "execute_result"
    },
    {
     "data": {
      "text/plain": [
       "Text(0, 0.5, 'Score')"
      ]
     },
     "execution_count": 23,
     "metadata": {},
     "output_type": "execute_result"
    },
    {
     "data": {
      "text/plain": [
       "<matplotlib.legend.Legend at 0x1a251402d0>"
      ]
     },
     "execution_count": 23,
     "metadata": {},
     "output_type": "execute_result"
    },
    {
     "data": {
      "image/png": "[encoded data removed]",
      "text/plain": [
       "<Figure size 864x432 with 1 Axes>"
      ]
     },
     "metadata": {
      "image/png": {
       "height": 414,
       "width": 806
      },
      "needs_background": "light"
     },
     "output_type": "display_data"
    }
   ],
   "source": [
    "results = []\n",
    "range_x = np.arange(0.05, 1, 0.01)\n",
    "algor = KN\n",
    "\n",
    "for cutoff in range_x:\n",
    "    results.append(performance(algor,X_test,y_test,cutoff=cutoff,output='All'))\n",
    "\n",
    "results = pd.DataFrame(results,columns=['accuracy','precision','recall','f1'])\n",
    "#print(results)\n",
    "\n",
    "plt.figure(figsize=(12, 6))\n",
    "for al in results.columns:\n",
    "    plt.plot(range_x, results[al],label=al,marker='o')\n",
    "    print(al, \"max=\", max(results[al]))\n",
    "plt.grid()\n",
    "plt.title('Changing cutoff to see effect on metrics for {}'.format(str(algor)))\n",
    "plt.xlabel('Cutoff')\n",
    "plt.ylabel('Score')\n",
    "plt.legend(loc='center left', bbox_to_anchor=(1, 0.9))"
   ]
  },
  {
   "cell_type": "code",
   "execution_count": 29,
   "metadata": {},
   "outputs": [
    {
     "data": {
      "text/plain": [
       "KNeighborsClassifier(algorithm='auto', leaf_size=30, metric='minkowski',\n",
       "                     metric_params=None, n_jobs=None, n_neighbors=16, p=2,\n",
       "                     weights='uniform')"
      ]
     },
     "execution_count": 29,
     "metadata": {},
     "output_type": "execute_result"
    }
   ],
   "source": []
  },
  {
   "cell_type": "code",
   "execution_count": null,
   "metadata": {},
   "outputs": [],
   "source": []
  },
  {
   "cell_type": "code",
   "execution_count": null,
   "metadata": {},
   "outputs": [],
   "source": []
  }
 ],
 "metadata": {
  "kernelspec": {
   "display_name": "Python 3",
   "language": "python",
   "name": "python3"
  },
  "language_info": {
   "codemirror_mode": {
    "name": "ipython",
    "version": 3
   },
   "file_extension": ".py",
   "mimetype": "text/x-python",
   "name": "python",
   "nbconvert_exporter": "python",
   "pygments_lexer": "ipython3",
   "version": "3.7.4"
  }
 },
 "nbformat": 4,
 "nbformat_minor": 2
}
