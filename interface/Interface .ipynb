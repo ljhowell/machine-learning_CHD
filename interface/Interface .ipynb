{
 "cells": [
  {
   "cell_type": "code",
   "execution_count": null,
   "metadata": {},
   "outputs": [
    {
     "name": "stdout",
     "output_type": "stream",
     "text": [
      "Sex: \"Female\"\n"
     ]
    },
    {
     "name": "stderr",
     "output_type": "stream",
     "text": [
      "Exception in Tkinter callback\n",
      "Traceback (most recent call last):\n",
      "  File \"/opt/anaconda3/lib/python3.7/tkinter/__init__.py\", line 1705, in __call__\n",
      "    return self.func(*args)\n",
      "  File \"<ipython-input-10-f4c0e1b09299>\", line 62, in <lambda>\n",
      "    command=(lambda e=ents: fetch(e)))\n",
      "  File \"<ipython-input-10-f4c0e1b09299>\", line 18, in fetch\n",
      "    LR.predict(text)\n",
      "  File \"/opt/anaconda3/lib/python3.7/site-packages/sklearn/linear_model/base.py\", line 289, in predict\n",
      "    scores = self.decision_function(X)\n",
      "  File \"/opt/anaconda3/lib/python3.7/site-packages/sklearn/linear_model/base.py\", line 265, in decision_function\n",
      "    X = check_array(X, accept_sparse='csr')\n",
      "  File \"/opt/anaconda3/lib/python3.7/site-packages/sklearn/utils/validation.py\", line 514, in check_array\n",
      "    \"if it contains a single sample.\".format(array))\n",
      "ValueError: Expected 2D array, got scalar array instead:\n",
      "array=Female.\n",
      "Reshape your data either using array.reshape(-1, 1) if your data has a single feature or array.reshape(1, -1) if it contains a single sample.\n"
     ]
    }
   ],
   "source": [
    "from tkinter import *\n",
    "from tkinter import ttk\n",
    "from ttkthemes import ThemedTk\n",
    "import joblib\n",
    "\n",
    "\n",
    "Sex = 'Sex', \n",
    "fields = 'Age', 'BMI', 'Cigarettes per day', 'Sys BP', 'Dia BP', 'Heart Rate','Total Cholestrol'\n",
    "\n",
    "check = 'Blood Pressure Medication', 'Prevalent Hypertension', 'Prevalent Stroke', 'Diabetes'\n",
    "\n",
    "\n",
    "def fetch(entries):\n",
    "    for entry in entries:\n",
    "        field = entry[0]\n",
    "        text  = entry[1].get()\n",
    "        LR = joblib.load('LR.pkl') \n",
    "        print('%s: \"%s\"' % (field, text))\n",
    "        LR.predict(text)\n",
    "        \n",
    "\n",
    "\n",
    "def makeform(root, fields):\n",
    "    entries = []\n",
    "    for field in Sex:\n",
    "        row = Frame(root)\n",
    "        lab = Label(row, width=20, text=field, anchor='w')\n",
    "        ent = ttk.Combobox(row, values = ['Male', 'Female'])\n",
    "        row.pack(side=TOP, fill=X, padx=5, pady=5)\n",
    "        lab.pack(side=LEFT)\n",
    "        ent.pack(side=RIGHT, expand=YES, fill=X)\n",
    "        entries.append((field, ent))\n",
    "        \n",
    "    for field in fields:\n",
    "        row = Frame(root)\n",
    "        lab = Label(row, width=20, text=field, anchor='w')\n",
    "        ent = Entry(row)\n",
    "        row.pack(side=TOP, fill=X, padx=5, pady=5)\n",
    "        lab.pack(side=LEFT)\n",
    "        ent.pack(side=RIGHT, expand=YES, fill=X)\n",
    "        entries.append((field, ent))\n",
    "    \n",
    "    for field in check:\n",
    "        row = Frame(root)\n",
    "        lab = Label(row, width=20, text=field, anchor='w')\n",
    "        ent = BooleanVar() \n",
    "        chk = Checkbutton(row,  var=ent)  \n",
    "        row.pack(side=TOP, fill=X, padx=5, pady=5 )\n",
    "        lab.pack(side=LEFT)\n",
    "        chk.pack(side=RIGHT, anchor='w')\n",
    "        entries.append((field, ent)) \n",
    "          \n",
    "    return entries\n",
    "\n",
    "    \n",
    "if __name__ == '__main__':\n",
    "    root = ThemedTk(theme = 'arc')\n",
    "    root.title('CHD predictor')\n",
    "    root.resizable(False, False)\n",
    "    ents = makeform(root, fields)\n",
    "    root.bind(root, (lambda event, e=ents: fetch(e)))   \n",
    "    b1 = Button(root, text='Show',\n",
    "                  command=(lambda e=ents: fetch(e)))\n",
    "    b1.pack(side=RIGHT, padx=5, pady=5)\n",
    "    b2 = Button(root, text='Quit', command=root.quit)\n",
    "    b2.pack(side=RIGHT, padx=5, pady=5)\n",
    "    root.mainloop()"
   ]
  },
  {
   "cell_type": "code",
   "execution_count": 8,
   "metadata": {},
   "outputs": [],
   "source": [
    "import joblib"
   ]
  },
  {
   "cell_type": "code",
   "execution_count": 9,
   "metadata": {},
   "outputs": [],
   "source": [
    "LR_from_joblib = joblib.load('LR.pkl')  \n"
   ]
  },
  {
   "cell_type": "code",
   "execution_count": null,
   "metadata": {},
   "outputs": [],
   "source": []
  },
  {
   "cell_type": "code",
   "execution_count": null,
   "metadata": {},
   "outputs": [],
   "source": []
  }
 ],
 "metadata": {
  "kernelspec": {
   "display_name": "Python 3",
   "language": "python",
   "name": "python3"
  },
  "language_info": {
   "codemirror_mode": {
    "name": "ipython",
    "version": 3
   },
   "file_extension": ".py",
   "mimetype": "text/x-python",
   "name": "python",
   "nbconvert_exporter": "python",
   "pygments_lexer": "ipython3",
   "version": "3.7.4"
  }
 },
 "nbformat": 4,
 "nbformat_minor": 2
}
