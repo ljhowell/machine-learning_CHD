{
 "cells": [
  {
   "cell_type": "code",
   "execution_count": 12,
   "metadata": {},
   "outputs": [
    {
     "name": "stdout",
     "output_type": "stream",
     "text": [
      "   const Sys BP Glucose Age Total Cholestrol Cigarettes per day Dia BP  \\\n",
      "0    1.0      4       8   1                7                  3      5   \n",
      "\n",
      "   Prevalent Hypertension  Diabetes  Blood Pressure Medication     Sex BMI  \\\n",
      "0                    True     False                       True  Female   2   \n",
      "\n",
      "   Prevalent Stroke Heart Rate  \n",
      "0             False          6  \n"
     ]
    }
   ],
   "source": [
    "#import relevant libaries \n",
    "from tkinter import *\n",
    "from tkinter import ttk\n",
    "from ttkthemes import ThemedTk\n",
    "import pandas as pd\n",
    "import joblib\n",
    "import numpy as np \n",
    "\n",
    "#categories for data entry \n",
    "Sex = 'Sex', \n",
    "fields = 'Age', 'BMI', 'Cigarettes per day', 'Sys BP', 'Dia BP', 'Heart Rate','Total Cholestrol', 'Glucose'\n",
    "check = 'Blood Pressure Medication', 'Prevalent Hypertension', 'Prevalent Stroke', 'Diabetes'\n",
    "## Need to add in Education\n",
    "\n",
    "def fetch(entries):\n",
    "    \"Function that fetches the entered data and prints it out\"\n",
    "    data_input = [1.0]\n",
    "    data_columns = ['const']\n",
    "    for entry in entries:\n",
    "        field = (entry[0])\n",
    "        text  = (entry[1].get())\n",
    "        data_input.append(text)\n",
    "        data_columns.append(field)\n",
    "    order = ['const', 'Sys BP', 'Glucose','Age', 'Total Cholestrol','Cigarettes per day', 'Dia BP',  'Prevalent Hypertension',\n",
    "             'Diabetes', 'Blood Pressure Medication', 'Sex', 'BMI', 'Prevalent Stroke','Heart Rate']\n",
    "    df_inputs = pd.DataFrame([data_input],columns=data_columns)[order]\n",
    "    print(df_inputs)\n",
    "\n",
    "        \n",
    "#create function to enter data \n",
    "def makeform(root, fields):\n",
    "    \"Function creating the entry widgets for the data, includes combo box, text entry and checkbuttons\"\n",
    "    entries = []\n",
    "    for field in Sex:\n",
    "        row = Frame(root)\n",
    "        lab = Label(row, width=20, text=field, anchor='w')\n",
    "        ent = ttk.Combobox(row, values = ['Male', 'Female'])\n",
    "        row.pack(side=TOP, fill=X, padx=5, pady=5)\n",
    "        lab.pack(side=LEFT)\n",
    "        ent.pack(side=RIGHT, expand=YES, fill=X)\n",
    "        entries.append((field, ent))\n",
    "        \n",
    "    for field in fields:\n",
    "        row = Frame(root)\n",
    "        lab = Label(row, width=20, text=field, anchor='w')\n",
    "        ent = Entry(row)\n",
    "        row.pack(side=TOP, fill=X, padx=5, pady=5)\n",
    "        lab.pack(side=LEFT)\n",
    "        ent.pack(side=RIGHT, expand=YES, fill=X)\n",
    "        entries.append((field, ent))\n",
    "    \n",
    "    for field in check:\n",
    "        row = Frame(root)\n",
    "        lab = Label(row, width=20, text=field, anchor='w')\n",
    "        ent = BooleanVar() \n",
    "        chk = Checkbutton(row,  var=ent)  \n",
    "        row.pack(side=TOP, fill=X, padx=5, pady=5 )\n",
    "        lab.pack(side=LEFT)\n",
    "        chk.pack(side=RIGHT, anchor='w')\n",
    "        entries.append((field, ent)) \n",
    "          \n",
    "    return entries\n",
    "\n",
    "    \n",
    "if __name__ == '__main__':\n",
    "    \"Main function to produce the interface\"\n",
    "    root = ThemedTk(theme = 'arc')\n",
    "    root.title('CHD predictor')\n",
    "    root.resizable(False, False)\n",
    "    ents = makeform(root, fields)\n",
    "    root.bind(root, (lambda event, e=ents: fetch(e)))   \n",
    "    b1 = Button(root, text='Show',\n",
    "                  command=(lambda e=ents: fetch(e)))\n",
    "    b1.pack(side=RIGHT, padx=5, pady=5)\n",
    "    b2 = Button(root, text='Quit', command=root.quit)\n",
    "    b2.pack(side=RIGHT, padx=5, pady=5)\n",
    "    root.mainloop()"
   ]
  },
  {
   "cell_type": "code",
   "execution_count": 13,
   "metadata": {},
   "outputs": [],
   "source": []
  },
  {
   "cell_type": "code",
   "execution_count": 14,
   "metadata": {},
   "outputs": [],
   "source": []
  },
  {
   "cell_type": "code",
   "execution_count": 18,
   "metadata": {},
   "outputs": [
    {
     "data": {
      "text/plain": [
       "array([[0.83014064, 0.16985936]])"
      ]
     },
     "execution_count": 18,
     "metadata": {},
     "output_type": "execute_result"
    }
   ],
   "source": [
    "#loading LR and scaling\n",
    "LR_jl = joblib.load('LR.pkl')\n",
    "scalar_jl = joblib.load('scaler.pkl')\n",
    "\n",
    "# Run a test to make sure that the model and scaling are properly imported. \n",
    "# This gives the order the params should be parsed from the interface to the model\n",
    "# const             1.00\n",
    "# sysBP           141.00\n",
    "# glucose         130.00\n",
    "# age              51.00\n",
    "# totChol         177.00\n",
    "# cigsPerDay        0.00\n",
    "# diaBP            92.00\n",
    "# prevalentHyp      1.00\n",
    "# diabetes          0.00\n",
    "# BPMeds            0.00\n",
    "# male              0.00\n",
    "# BMI              29.64\n",
    "# education         1.00\n",
    "# heartRate        72.00\n",
    "test_data = [1, 141.0, 130.0, 51.0, 177.0, 0.0, 92.0, 1.0, 0.0, 0.0, 0.0, 29.64, 1.0, 72.0]\n",
    "LR_jl.predict_proba(scalar_jl.transform([test_data]))\n",
    "\n",
    "# should yield [0.83014064, 0.16985936]"
   ]
  },
  {
   "cell_type": "code",
   "execution_count": null,
   "metadata": {},
   "outputs": [],
   "source": []
  },
  {
   "cell_type": "code",
   "execution_count": null,
   "metadata": {},
   "outputs": [],
   "source": []
  },
  {
   "cell_type": "code",
   "execution_count": null,
   "metadata": {},
   "outputs": [],
   "source": []
  }
 ],
 "metadata": {
  "kernelspec": {
   "display_name": "Python 3",
   "language": "python",
   "name": "python3"
  },
  "language_info": {
   "codemirror_mode": {
    "name": "ipython",
    "version": 3
   },
   "file_extension": ".py",
   "mimetype": "text/x-python",
   "name": "python",
   "nbconvert_exporter": "python",
   "pygments_lexer": "ipython3",
   "version": "3.7.3"
  }
 },
 "nbformat": 4,
 "nbformat_minor": 2
}
