{
 "cells": [
  {
   "cell_type": "code",
   "execution_count": 7,
   "metadata": {},
   "outputs": [
    {
     "name": "stdout",
     "output_type": "stream",
     "text": [
      "Sex: \"\"\n",
      "Age: \"\"\n",
      "BMI: \"\"\n",
      "Cigarettes per day: \"\"\n",
      "Sys BP: \"\"\n",
      "Dia BP: \"\"\n",
      "Heart Rate: \"\"\n",
      "Total Cholestrol: \"\"\n",
      "Blood Pressure Medication: \"True\"\n",
      "Prevalent Hypertension: \"False\"\n",
      "Prevalent Stroke: \"False\"\n",
      "Diabetes: \"False\"\n"
     ]
    }
   ],
   "source": [
    "from tkinter import *\n",
    "from tkinter import ttk\n",
    "from ttkthemes import ThemedTk\n",
    "\n",
    "\n",
    "Sex = 'Sex', \n",
    "fields = 'Age', 'BMI', 'Cigarettes per day', 'Sys BP', 'Dia BP', 'Heart Rate','Total Cholestrol'\n",
    "\n",
    "check = 'Blood Pressure Medication', 'Prevalent Hypertension', 'Prevalent Stroke', 'Diabetes'\n",
    "\n",
    "\n",
    "def fetch(entries):\n",
    "    for entry in entries:\n",
    "        field = entry[0]\n",
    "        text  = entry[1].get()\n",
    "        print('%s: \"%s\"' % (field, text))\n",
    "\n",
    "\n",
    "def makeform(root, fields):\n",
    "    entries = []\n",
    "    for field in Sex:\n",
    "        row = Frame(root)\n",
    "        lab = Label(row, width=20, text=field, anchor='w')\n",
    "        ent = ttk.Combobox(row, values = ['Male', 'Female'])\n",
    "        row.pack(side=TOP, fill=X, padx=5, pady=5)\n",
    "        lab.pack(side=LEFT)\n",
    "        ent.pack(side=RIGHT, expand=YES, fill=X)\n",
    "        entries.append((field, ent))\n",
    "        \n",
    "    for field in fields:\n",
    "        row = Frame(root)\n",
    "        lab = Label(row, width=20, text=field, anchor='w')\n",
    "        ent = Entry(row)\n",
    "        row.pack(side=TOP, fill=X, padx=5, pady=5)\n",
    "        lab.pack(side=LEFT)\n",
    "        ent.pack(side=RIGHT, expand=YES, fill=X)\n",
    "        entries.append((field, ent))\n",
    "    \n",
    "    for field in check:\n",
    "        row = Frame(root)\n",
    "        lab = Label(row, width=20, text=field, anchor='w')\n",
    "        ent = BooleanVar() \n",
    "        chk = Checkbutton(row,  var=ent)  \n",
    "        row.pack(side=TOP, fill=X, padx=5, pady=5 )\n",
    "        lab.pack(side=LEFT)\n",
    "        chk.pack(side=RIGHT, anchor='w')\n",
    "        entries.append((field, ent)) \n",
    "          \n",
    "    return entries\n",
    "\n",
    "    \n",
    "if __name__ == '__main__':\n",
    "    root = ThemedTk(theme = 'arc')\n",
    "    root.title('CHD predictor')\n",
    "    root.resizable(False, False)\n",
    "    ents = makeform(root, fields)\n",
    "    root.bind(root, (lambda event, e=ents: fetch(e)))   \n",
    "    b1 = Button(root, text='Show',\n",
    "                  command=(lambda e=ents: fetch(e)))\n",
    "    b1.pack(side=RIGHT, padx=5, pady=5)\n",
    "    b2 = Button(root, text='Quit', command=root.quit)\n",
    "    b2.pack(side=RIGHT, padx=5, pady=5)\n",
    "    root.mainloop()"
   ]
  },
  {
   "cell_type": "code",
   "execution_count": null,
   "metadata": {},
   "outputs": [],
   "source": []
  },
  {
   "cell_type": "code",
   "execution_count": null,
   "metadata": {},
   "outputs": [],
   "source": []
  }
 ],
 "metadata": {
  "kernelspec": {
   "display_name": "Python 3",
   "language": "python",
   "name": "python3"
  },
  "language_info": {
   "codemirror_mode": {
    "name": "ipython",
    "version": 3
   },
   "file_extension": ".py",
   "mimetype": "text/x-python",
   "name": "python",
   "nbconvert_exporter": "python",
   "pygments_lexer": "ipython3",
   "version": "3.7.4"
  }
 },
 "nbformat": 4,
 "nbformat_minor": 2
}
