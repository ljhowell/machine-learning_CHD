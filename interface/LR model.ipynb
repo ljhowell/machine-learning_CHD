{
 "cells": [
  {
   "cell_type": "code",
   "execution_count": 3,
   "metadata": {},
   "outputs": [
    {
     "name": "stdout",
     "output_type": "stream",
     "text": [
      "Importing the preprocessing module for the Exeter NatSci Machine Learning Group.....\n",
      "Successfully imported the preprocessing module\n"
     ]
    }
   ],
   "source": [
    " import numpy as np # linear algebra\n",
    "import pandas as pd # data processing, CSV file I/O (e.g. pd.read_csv)\n",
    "import matplotlib.pyplot as plt\n",
    "import preprocessing_ml as pp\n",
    "import seaborn as sn\n",
    "from sklearn.metrics import confusion_matrix\n",
    "from sklearn.metrics import accuracy_score\n",
    "from sklearn.metrics import f1_score\n",
    "from sklearn.metrics import recall_score\n",
    "from sklearn.metrics import precision_score\n",
    "from sklearn.metrics import roc_curve\n",
    "from sklearn.metrics import roc_auc_score\n",
    "from sklearn.metrics import classification_report\n",
    "from sklearn.model_selection import cross_val_score\n",
    "\n",
    "# import warnings filter\n",
    "from warnings import simplefilter\n",
    "# ignore all future warnings\n",
    "simplefilter(action='ignore', category=FutureWarning)\n",
    "\n",
    "import warnings\n",
    "from sklearn.exceptions import DataConversionWarning,UndefinedMetricWarning\n",
    "warnings.filterwarnings(action='ignore', category=DataConversionWarning)\n",
    "warnings.filterwarnings(action='ignore', category=UndefinedMetricWarning)"
   ]
  },
  {
   "cell_type": "code",
   "execution_count": 6,
   "metadata": {},
   "outputs": [],
   "source": [
    "dataset = pd.read_csv('framingham.csv')"
   ]
  },
  {
   "cell_type": "code",
   "execution_count": 10,
   "metadata": {},
   "outputs": [],
   "source": [
    "def LR_opt(dataset, v = 0, r_state = 0):\n",
    "    '''Logistic Regression used to machine learn, fit the data and print information about the success of the algorithm.\n",
    "    dataset = dataset which will be used to train and test data\n",
    "    v (optional, default = 0): int (0 or 1) verbose'''\n",
    "    print('\\nOptimising parameters...\\n')\n",
    "    \n",
    "    from statsmodels.tools import add_constant as add_constant\n",
    "    dataset_t = add_constant(dataset)\n",
    "\n",
    "    features = ['TenYearCHD','const','sysBP', 'glucose', 'age', 'totChol', 'cigsPerDay', 'diaBP', 'prevalentHyp',\n",
    "                'diabetes', 'BPMeds', 'male', 'BMI',\n",
    "                'education', 'heartRate'] \n",
    "    \n",
    "    #dataset_t = pp.outliers(dataset)\n",
    "    dataset_t = pp.chose_features(dataset_t, features = features)\n",
    "    dataset_t = pp.drop_missing(dataset_t)\n",
    "    dataset_t = pp.scale_data(dataset_t, 'standard')\n",
    "    X_train, X_test, y_train, y_test = pp.split_data(dataset_t,r_state=r_state) # split dataset\n",
    "    \n",
    "    print('\\nCalculating Logistic Regression ...\\n')\n",
    "    \n",
    "    from sklearn.linear_model import LogisticRegression\n",
    "    from sklearn.preprocessing import binarize\n",
    "    \n",
    "    LR = LogisticRegression(random_state=r_state).fit(X_train, y_train) \n",
    "    \n",
    "\n",
    "    return LR "
   ]
  },
  {
   "cell_type": "code",
   "execution_count": 11,
   "metadata": {},
   "outputs": [
    {
     "name": "stdout",
     "output_type": "stream",
     "text": [
      "\n",
      "Optimising parameters...\n",
      "\n",
      "\n",
      "Calculating Logistic Regression ...\n",
      "\n"
     ]
    }
   ],
   "source": [
    "LR = LR_opt(dataset)"
   ]
  },
  {
   "cell_type": "code",
   "execution_count": 9,
   "metadata": {},
   "outputs": [],
   "source": [
    "from sklearn.externals import joblib\n"
   ]
  },
  {
   "cell_type": "code",
   "execution_count": 12,
   "metadata": {},
   "outputs": [
    {
     "data": {
      "text/plain": [
       "['LR.pkl']"
      ]
     },
     "execution_count": 12,
     "metadata": {},
     "output_type": "execute_result"
    }
   ],
   "source": [
    "joblib.dump(LR, 'LR.pkl') "
   ]
  },
  {
   "cell_type": "code",
   "execution_count": null,
   "metadata": {},
   "outputs": [],
   "source": [
    " cutoff = 0.1866\n",
    "    y_pred = binarize(y_pred,cutoff)[:,1]\n",
    "    \n",
    "\n"
   ]
  }
 ],
 "metadata": {
  "kernelspec": {
   "display_name": "Python 3",
   "language": "python",
   "name": "python3"
  },
  "language_info": {
   "codemirror_mode": {
    "name": "ipython",
    "version": 3
   },
   "file_extension": ".py",
   "mimetype": "text/x-python",
   "name": "python",
   "nbconvert_exporter": "python",
   "pygments_lexer": "ipython3",
   "version": "3.7.4"
  }
 },
 "nbformat": 4,
 "nbformat_minor": 2
}
