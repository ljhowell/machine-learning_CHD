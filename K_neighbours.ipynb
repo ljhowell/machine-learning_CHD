{
 "cells": [
  {
   "cell_type": "markdown",
   "metadata": {},
   "source": [
    "# K-nearest neighbours code\n"
   ]
  },
  {
   "cell_type": "markdown",
   "metadata": {},
   "source": [
    "The K-nearest neighbours algrorithm is often used as a baseline method as it is simple to understand. \n",
    "The method considers one nearest neighbour: it does this by finding the closest training data point to the prediction point. The prediction is then simply the known output for that data point. When considering more than one neighbour a voting system is used to assign a label. For more than one class we can count how many neighbours belong to each class and predict the most common \n",
    "\n"
   ]
  },
  {
   "cell_type": "code",
   "execution_count": 1,
   "metadata": {
    "collapsed": true
   },
   "outputs": [],
   "source": [
    "#import relevant modules \n",
    "#import relevant libraries \n",
    "import numpy as np # linear algebra\n",
    "import pandas as pd # data processing, CSV file I/O (e.g. pd.read_csv)\n",
    "\n",
    "# Input data files are available in the \"../input/\" directory.\n",
    "# For example, running this (by clicking run or pressing Shift+Enter) will list all files under the input directory\n",
    "\n",
    "import os"
   ]
  },
  {
   "cell_type": "code",
   "execution_count": 40,
   "metadata": {
    "collapsed": true
   },
   "outputs": [],
   "source": [
    "import matplotlib.pyplot as plt\n",
    "from scipy import stats\n",
    "\n",
    "from sklearn.preprocessing import MinMaxScaler\n",
    "from sklearn.model_selection import train_test_split\n",
    "import seaborn as sn\n",
    "\n",
    "from sklearn.metrics import confusion_matrix, accuracy_score, classification_report\n"
   ]
  },
  {
   "cell_type": "code",
   "execution_count": 3,
   "metadata": {
    "collapsed": true
   },
   "outputs": [],
   "source": [
    "from sklearn.metrics import confusion_matrix\n",
    "from sklearn.metrics import accuracy_score\n",
    "from sklearn.metrics import f1_score\n",
    "from sklearn.metrics import recall_score\n",
    "from sklearn.metrics import precision_score\n",
    "from sklearn.metrics import roc_curve\n",
    "from sklearn.metrics import roc_auc_score\n",
    "\n",
    "from sklearn.model_selection import cross_val_score\n",
    "\n",
    "from IPython.core.interactiveshell import InteractiveShell\n",
    "InteractiveShell.ast_node_interactivity = \"all\"\n",
    "%config InlineBackend.figure_format ='retina'\n",
    "%matplotlib inline"
   ]
  },
  {
   "cell_type": "code",
   "execution_count": 4,
   "metadata": {
    "collapsed": true
   },
   "outputs": [],
   "source": [
    "#read in the dataset \n",
    "dataset = pd.read_csv('framingham.csv')"
   ]
  },
  {
   "cell_type": "code",
   "execution_count": 5,
   "metadata": {},
   "outputs": [
    {
     "data": {
      "text/html": [
       "<div>\n",
       "<style>\n",
       "    .dataframe thead tr:only-child th {\n",
       "        text-align: right;\n",
       "    }\n",
       "\n",
       "    .dataframe thead th {\n",
       "        text-align: left;\n",
       "    }\n",
       "\n",
       "    .dataframe tbody tr th {\n",
       "        vertical-align: top;\n",
       "    }\n",
       "</style>\n",
       "<table border=\"1\" class=\"dataframe\">\n",
       "  <thead>\n",
       "    <tr style=\"text-align: right;\">\n",
       "      <th></th>\n",
       "      <th>male</th>\n",
       "      <th>age</th>\n",
       "      <th>education</th>\n",
       "      <th>currentSmoker</th>\n",
       "      <th>cigsPerDay</th>\n",
       "      <th>BPMeds</th>\n",
       "      <th>prevalentStroke</th>\n",
       "      <th>prevalentHyp</th>\n",
       "      <th>diabetes</th>\n",
       "      <th>totChol</th>\n",
       "      <th>sysBP</th>\n",
       "      <th>diaBP</th>\n",
       "      <th>BMI</th>\n",
       "      <th>heartRate</th>\n",
       "      <th>glucose</th>\n",
       "      <th>TenYearCHD</th>\n",
       "    </tr>\n",
       "  </thead>\n",
       "  <tbody>\n",
       "    <tr>\n",
       "      <th>0</th>\n",
       "      <td>1</td>\n",
       "      <td>39</td>\n",
       "      <td>4.0</td>\n",
       "      <td>0</td>\n",
       "      <td>0.0</td>\n",
       "      <td>0.0</td>\n",
       "      <td>0</td>\n",
       "      <td>0</td>\n",
       "      <td>0</td>\n",
       "      <td>195.0</td>\n",
       "      <td>106.0</td>\n",
       "      <td>70.0</td>\n",
       "      <td>26.97</td>\n",
       "      <td>80.0</td>\n",
       "      <td>77.0</td>\n",
       "      <td>0</td>\n",
       "    </tr>\n",
       "    <tr>\n",
       "      <th>1</th>\n",
       "      <td>0</td>\n",
       "      <td>46</td>\n",
       "      <td>2.0</td>\n",
       "      <td>0</td>\n",
       "      <td>0.0</td>\n",
       "      <td>0.0</td>\n",
       "      <td>0</td>\n",
       "      <td>0</td>\n",
       "      <td>0</td>\n",
       "      <td>250.0</td>\n",
       "      <td>121.0</td>\n",
       "      <td>81.0</td>\n",
       "      <td>28.73</td>\n",
       "      <td>95.0</td>\n",
       "      <td>76.0</td>\n",
       "      <td>0</td>\n",
       "    </tr>\n",
       "    <tr>\n",
       "      <th>2</th>\n",
       "      <td>1</td>\n",
       "      <td>48</td>\n",
       "      <td>1.0</td>\n",
       "      <td>1</td>\n",
       "      <td>20.0</td>\n",
       "      <td>0.0</td>\n",
       "      <td>0</td>\n",
       "      <td>0</td>\n",
       "      <td>0</td>\n",
       "      <td>245.0</td>\n",
       "      <td>127.5</td>\n",
       "      <td>80.0</td>\n",
       "      <td>25.34</td>\n",
       "      <td>75.0</td>\n",
       "      <td>70.0</td>\n",
       "      <td>0</td>\n",
       "    </tr>\n",
       "    <tr>\n",
       "      <th>3</th>\n",
       "      <td>0</td>\n",
       "      <td>61</td>\n",
       "      <td>3.0</td>\n",
       "      <td>1</td>\n",
       "      <td>30.0</td>\n",
       "      <td>0.0</td>\n",
       "      <td>0</td>\n",
       "      <td>1</td>\n",
       "      <td>0</td>\n",
       "      <td>225.0</td>\n",
       "      <td>150.0</td>\n",
       "      <td>95.0</td>\n",
       "      <td>28.58</td>\n",
       "      <td>65.0</td>\n",
       "      <td>103.0</td>\n",
       "      <td>1</td>\n",
       "    </tr>\n",
       "    <tr>\n",
       "      <th>4</th>\n",
       "      <td>0</td>\n",
       "      <td>46</td>\n",
       "      <td>3.0</td>\n",
       "      <td>1</td>\n",
       "      <td>23.0</td>\n",
       "      <td>0.0</td>\n",
       "      <td>0</td>\n",
       "      <td>0</td>\n",
       "      <td>0</td>\n",
       "      <td>285.0</td>\n",
       "      <td>130.0</td>\n",
       "      <td>84.0</td>\n",
       "      <td>23.10</td>\n",
       "      <td>85.0</td>\n",
       "      <td>85.0</td>\n",
       "      <td>0</td>\n",
       "    </tr>\n",
       "    <tr>\n",
       "      <th>5</th>\n",
       "      <td>0</td>\n",
       "      <td>43</td>\n",
       "      <td>2.0</td>\n",
       "      <td>0</td>\n",
       "      <td>0.0</td>\n",
       "      <td>0.0</td>\n",
       "      <td>0</td>\n",
       "      <td>1</td>\n",
       "      <td>0</td>\n",
       "      <td>228.0</td>\n",
       "      <td>180.0</td>\n",
       "      <td>110.0</td>\n",
       "      <td>30.30</td>\n",
       "      <td>77.0</td>\n",
       "      <td>99.0</td>\n",
       "      <td>0</td>\n",
       "    </tr>\n",
       "    <tr>\n",
       "      <th>6</th>\n",
       "      <td>0</td>\n",
       "      <td>63</td>\n",
       "      <td>1.0</td>\n",
       "      <td>0</td>\n",
       "      <td>0.0</td>\n",
       "      <td>0.0</td>\n",
       "      <td>0</td>\n",
       "      <td>0</td>\n",
       "      <td>0</td>\n",
       "      <td>205.0</td>\n",
       "      <td>138.0</td>\n",
       "      <td>71.0</td>\n",
       "      <td>33.11</td>\n",
       "      <td>60.0</td>\n",
       "      <td>85.0</td>\n",
       "      <td>1</td>\n",
       "    </tr>\n",
       "    <tr>\n",
       "      <th>7</th>\n",
       "      <td>0</td>\n",
       "      <td>45</td>\n",
       "      <td>2.0</td>\n",
       "      <td>1</td>\n",
       "      <td>20.0</td>\n",
       "      <td>0.0</td>\n",
       "      <td>0</td>\n",
       "      <td>0</td>\n",
       "      <td>0</td>\n",
       "      <td>313.0</td>\n",
       "      <td>100.0</td>\n",
       "      <td>71.0</td>\n",
       "      <td>21.68</td>\n",
       "      <td>79.0</td>\n",
       "      <td>78.0</td>\n",
       "      <td>0</td>\n",
       "    </tr>\n",
       "    <tr>\n",
       "      <th>8</th>\n",
       "      <td>1</td>\n",
       "      <td>52</td>\n",
       "      <td>1.0</td>\n",
       "      <td>0</td>\n",
       "      <td>0.0</td>\n",
       "      <td>0.0</td>\n",
       "      <td>0</td>\n",
       "      <td>1</td>\n",
       "      <td>0</td>\n",
       "      <td>260.0</td>\n",
       "      <td>141.5</td>\n",
       "      <td>89.0</td>\n",
       "      <td>26.36</td>\n",
       "      <td>76.0</td>\n",
       "      <td>79.0</td>\n",
       "      <td>0</td>\n",
       "    </tr>\n",
       "    <tr>\n",
       "      <th>9</th>\n",
       "      <td>1</td>\n",
       "      <td>43</td>\n",
       "      <td>1.0</td>\n",
       "      <td>1</td>\n",
       "      <td>30.0</td>\n",
       "      <td>0.0</td>\n",
       "      <td>0</td>\n",
       "      <td>1</td>\n",
       "      <td>0</td>\n",
       "      <td>225.0</td>\n",
       "      <td>162.0</td>\n",
       "      <td>107.0</td>\n",
       "      <td>23.61</td>\n",
       "      <td>93.0</td>\n",
       "      <td>88.0</td>\n",
       "      <td>0</td>\n",
       "    </tr>\n",
       "  </tbody>\n",
       "</table>\n",
       "</div>"
      ],
      "text/plain": [
       "   male  age  education  currentSmoker  cigsPerDay  BPMeds  prevalentStroke  \\\n",
       "0     1   39        4.0              0         0.0     0.0                0   \n",
       "1     0   46        2.0              0         0.0     0.0                0   \n",
       "2     1   48        1.0              1        20.0     0.0                0   \n",
       "3     0   61        3.0              1        30.0     0.0                0   \n",
       "4     0   46        3.0              1        23.0     0.0                0   \n",
       "5     0   43        2.0              0         0.0     0.0                0   \n",
       "6     0   63        1.0              0         0.0     0.0                0   \n",
       "7     0   45        2.0              1        20.0     0.0                0   \n",
       "8     1   52        1.0              0         0.0     0.0                0   \n",
       "9     1   43        1.0              1        30.0     0.0                0   \n",
       "\n",
       "   prevalentHyp  diabetes  totChol  sysBP  diaBP    BMI  heartRate  glucose  \\\n",
       "0             0         0    195.0  106.0   70.0  26.97       80.0     77.0   \n",
       "1             0         0    250.0  121.0   81.0  28.73       95.0     76.0   \n",
       "2             0         0    245.0  127.5   80.0  25.34       75.0     70.0   \n",
       "3             1         0    225.0  150.0   95.0  28.58       65.0    103.0   \n",
       "4             0         0    285.0  130.0   84.0  23.10       85.0     85.0   \n",
       "5             1         0    228.0  180.0  110.0  30.30       77.0     99.0   \n",
       "6             0         0    205.0  138.0   71.0  33.11       60.0     85.0   \n",
       "7             0         0    313.0  100.0   71.0  21.68       79.0     78.0   \n",
       "8             1         0    260.0  141.5   89.0  26.36       76.0     79.0   \n",
       "9             1         0    225.0  162.0  107.0  23.61       93.0     88.0   \n",
       "\n",
       "   TenYearCHD  \n",
       "0           0  \n",
       "1           0  \n",
       "2           0  \n",
       "3           1  \n",
       "4           0  \n",
       "5           0  \n",
       "6           1  \n",
       "7           0  \n",
       "8           0  \n",
       "9           0  "
      ]
     },
     "execution_count": 5,
     "metadata": {},
     "output_type": "execute_result"
    }
   ],
   "source": [
    "dataset.head(10) #checking correct dataset is imported "
   ]
  },
  {
   "cell_type": "markdown",
   "metadata": {},
   "source": [
    "Use premade functions to optimise parameters before entry "
   ]
  },
  {
   "cell_type": "code",
   "execution_count": 6,
   "metadata": {},
   "outputs": [
    {
     "name": "stdout",
     "output_type": "stream",
     "text": [
      "Importing the preprocessing module for the Exeter NatSci Machine Learning Group.....\n",
      "Successfully imported the preprocessing module\n"
     ]
    }
   ],
   "source": [
    "import preprocessing_ml as pp"
   ]
  },
  {
   "cell_type": "markdown",
   "metadata": {},
   "source": [
    "# Create function for K-neighbors classifier, using functions for optimisation "
   ]
  },
  {
   "cell_type": "code",
   "execution_count": 18,
   "metadata": {
    "collapsed": true
   },
   "outputs": [],
   "source": [
    "\n",
    "def k_neighbors(X_train, X_test, y_train, y_test, v=0,  n_neighbors= 16):\n",
    "    '''Do k_neighbors  fitting and print information about the success of the fitting\n",
    "    - X_train: Dataframe x training set\n",
    "    - y_train: Dataframe y training set\n",
    "    - X_test: Dataframe x test set\n",
    "    - y_test: Dataframe y test set\n",
    "    - v (optional, default = 0): int (0 or 1) verbose\n",
    "    - n_neighbors = i, i=int: define number of neighbors \n",
    "    '''\n",
    "    from sklearn.neighbors import KNeighborsClassifier\n",
    "    from sklearn.metrics import confusion_matrix, accuracy_score, classification_report\n",
    "    from sklearn.model_selection import cross_val_score\n",
    "    \n",
    "    print('\\nCalculating k neighbors...\\n')\n",
    "    \n",
    "    KN = KNeighborsClassifier(n_neighbors)\n",
    "    KN.fit(X_train, y_train) \n",
    "   \n",
    "    \n",
    "   \n",
    "    if v == 1: \n",
    "        print('\\nRunning K-neighbors algorithm')\n",
    "    \n",
    "    \n",
    "    return KN\n",
    "    "
   ]
  },
  {
   "cell_type": "code",
   "execution_count": 20,
   "metadata": {},
   "outputs": [
    {
     "name": "stdout",
     "output_type": "stream",
     "text": [
      "\n",
      "Calculating k neighbors...\n",
      "\n",
      "\n",
      "Running K-neighbors algorithm\n",
      "Accuracy 83.06%: \n"
     ]
    }
   ],
   "source": [
    "# Finally use all the functions I made to preprocess dataset:\n",
    "features = dataset.columns #try all columns\n",
    "\n",
    "dataset_t = pp.chose_features(dataset, n_features=15) # choose n features\n",
    "dataset_t = pp.drop_missing(dataset_t) # drop missing rows\n",
    "X_train, X_test, y_train, y_test = pp.split_data(dataset_t) # split dataset\n",
    "KN = k_neighbors(X_train, X_test, y_train, y_test, v=1, n_neighbors =16)\n",
    "y_pred = KN.predict(X_test)\n",
    "\n",
    "accuracy = accuracy_score(y_test, y_pred)    #for 16 k neighbors \n",
    "\n",
    "\n",
    "print('Accuracy {:.2f}%: '.format(accuracy*100))\n"
   ]
  },
  {
   "cell_type": "markdown",
   "metadata": {
    "collapsed": true
   },
   "source": [
    "# Changing parameters - measuring effect of k "
   ]
  },
  {
   "cell_type": "code",
   "execution_count": 21,
   "metadata": {},
   "outputs": [
    {
     "name": "stdout",
     "output_type": "stream",
     "text": [
      "\n",
      "Calculating k neighbors...\n",
      "\n",
      "\n",
      "Running K-neighbors algorithm\n",
      "\n",
      "Calculating k neighbors...\n",
      "\n",
      "\n",
      "Running K-neighbors algorithm\n",
      "\n",
      "Calculating k neighbors...\n",
      "\n",
      "\n",
      "Running K-neighbors algorithm\n",
      "\n",
      "Calculating k neighbors...\n",
      "\n",
      "\n",
      "Running K-neighbors algorithm\n",
      "\n",
      "Calculating k neighbors...\n",
      "\n",
      "\n",
      "Running K-neighbors algorithm\n",
      "\n",
      "Calculating k neighbors...\n",
      "\n",
      "\n",
      "Running K-neighbors algorithm\n",
      "\n",
      "Calculating k neighbors...\n",
      "\n",
      "\n",
      "Running K-neighbors algorithm\n",
      "\n",
      "Calculating k neighbors...\n",
      "\n",
      "\n",
      "Running K-neighbors algorithm\n",
      "\n",
      "Calculating k neighbors...\n",
      "\n",
      "\n",
      "Running K-neighbors algorithm\n",
      "\n",
      "Calculating k neighbors...\n",
      "\n",
      "\n",
      "Running K-neighbors algorithm\n",
      "\n",
      "Calculating k neighbors...\n",
      "\n",
      "\n",
      "Running K-neighbors algorithm\n",
      "\n",
      "Calculating k neighbors...\n",
      "\n",
      "\n",
      "Running K-neighbors algorithm\n",
      "\n",
      "Calculating k neighbors...\n",
      "\n",
      "\n",
      "Running K-neighbors algorithm\n",
      "\n",
      "Calculating k neighbors...\n",
      "\n",
      "\n",
      "Running K-neighbors algorithm\n",
      "\n",
      "Calculating k neighbors...\n",
      "\n",
      "\n",
      "Running K-neighbors algorithm\n",
      "\n",
      "Calculating k neighbors...\n",
      "\n",
      "\n",
      "Running K-neighbors algorithm\n",
      "\n",
      "Calculating k neighbors...\n",
      "\n",
      "\n",
      "Running K-neighbors algorithm\n",
      "\n",
      "Calculating k neighbors...\n",
      "\n",
      "\n",
      "Running K-neighbors algorithm\n",
      "\n",
      "Calculating k neighbors...\n",
      "\n",
      "\n",
      "Running K-neighbors algorithm\n",
      "\n",
      "Calculating k neighbors...\n",
      "\n",
      "\n",
      "Running K-neighbors algorithm\n",
      "\n",
      "Calculating k neighbors...\n",
      "\n",
      "\n",
      "Running K-neighbors algorithm\n",
      "\n",
      "Calculating k neighbors...\n",
      "\n",
      "\n",
      "Running K-neighbors algorithm\n",
      "\n",
      "Calculating k neighbors...\n",
      "\n",
      "\n",
      "Running K-neighbors algorithm\n",
      "\n",
      "Calculating k neighbors...\n",
      "\n",
      "\n",
      "Running K-neighbors algorithm\n",
      "\n",
      "Calculating k neighbors...\n",
      "\n",
      "\n",
      "Running K-neighbors algorithm\n",
      "\n",
      "Calculating k neighbors...\n",
      "\n",
      "\n",
      "Running K-neighbors algorithm\n",
      "\n",
      "Calculating k neighbors...\n",
      "\n",
      "\n",
      "Running K-neighbors algorithm\n",
      "\n",
      "Calculating k neighbors...\n",
      "\n",
      "\n",
      "Running K-neighbors algorithm\n",
      "\n",
      "Calculating k neighbors...\n",
      "\n",
      "\n",
      "Running K-neighbors algorithm\n",
      "\n",
      "Calculating k neighbors...\n",
      "\n",
      "\n",
      "Running K-neighbors algorithm\n",
      "\n",
      "Calculating k neighbors...\n",
      "\n",
      "\n",
      "Running K-neighbors algorithm\n",
      "\n",
      "Calculating k neighbors...\n",
      "\n",
      "\n",
      "Running K-neighbors algorithm\n",
      "\n",
      "Calculating k neighbors...\n",
      "\n",
      "\n",
      "Running K-neighbors algorithm\n",
      "\n",
      "Calculating k neighbors...\n",
      "\n",
      "\n",
      "Running K-neighbors algorithm\n",
      "\n",
      "Calculating k neighbors...\n",
      "\n",
      "\n",
      "Running K-neighbors algorithm\n",
      "\n",
      "Calculating k neighbors...\n",
      "\n",
      "\n",
      "Running K-neighbors algorithm\n",
      "\n",
      "Calculating k neighbors...\n",
      "\n",
      "\n",
      "Running K-neighbors algorithm\n",
      "\n",
      "Calculating k neighbors...\n",
      "\n",
      "\n",
      "Running K-neighbors algorithm\n",
      "\n",
      "Calculating k neighbors...\n",
      "\n",
      "\n",
      "Running K-neighbors algorithm\n",
      "\n",
      "Calculating k neighbors...\n",
      "\n",
      "\n",
      "Running K-neighbors algorithm\n",
      "\n",
      "Calculating k neighbors...\n",
      "\n",
      "\n",
      "Running K-neighbors algorithm\n",
      "\n",
      "Calculating k neighbors...\n",
      "\n",
      "\n",
      "Running K-neighbors algorithm\n",
      "\n",
      "Calculating k neighbors...\n",
      "\n",
      "\n",
      "Running K-neighbors algorithm\n",
      "\n",
      "Calculating k neighbors...\n",
      "\n",
      "\n",
      "Running K-neighbors algorithm\n",
      "\n",
      "Calculating k neighbors...\n",
      "\n",
      "\n",
      "Running K-neighbors algorithm\n",
      "\n",
      "Calculating k neighbors...\n",
      "\n",
      "\n",
      "Running K-neighbors algorithm\n",
      "\n",
      "Calculating k neighbors...\n",
      "\n",
      "\n",
      "Running K-neighbors algorithm\n",
      "\n",
      "Calculating k neighbors...\n",
      "\n",
      "\n",
      "Running K-neighbors algorithm\n",
      "\n",
      "Calculating k neighbors...\n",
      "\n",
      "\n",
      "Running K-neighbors algorithm\n",
      "\n",
      "Calculating k neighbors...\n",
      "\n",
      "\n",
      "Running K-neighbors algorithm\n",
      "\n",
      "Calculating k neighbors...\n",
      "\n",
      "\n",
      "Running K-neighbors algorithm\n",
      "\n",
      "Calculating k neighbors...\n",
      "\n",
      "\n",
      "Running K-neighbors algorithm\n",
      "\n",
      "Calculating k neighbors...\n",
      "\n",
      "\n",
      "Running K-neighbors algorithm\n",
      "\n",
      "Calculating k neighbors...\n",
      "\n",
      "\n",
      "Running K-neighbors algorithm\n",
      "\n",
      "Calculating k neighbors...\n",
      "\n",
      "\n",
      "Running K-neighbors algorithm\n",
      "\n",
      "Calculating k neighbors...\n",
      "\n",
      "\n",
      "Running K-neighbors algorithm\n",
      "\n",
      "Calculating k neighbors...\n",
      "\n",
      "\n",
      "Running K-neighbors algorithm\n",
      "\n",
      "Calculating k neighbors...\n",
      "\n",
      "\n",
      "Running K-neighbors algorithm\n",
      "\n",
      "Calculating k neighbors...\n",
      "\n",
      "\n",
      "Running K-neighbors algorithm\n",
      "\n",
      "Calculating k neighbors...\n",
      "\n",
      "\n",
      "Running K-neighbors algorithm\n",
      "\n",
      "Calculating k neighbors...\n",
      "\n",
      "\n",
      "Running K-neighbors algorithm\n",
      "\n",
      "Calculating k neighbors...\n",
      "\n",
      "\n",
      "Running K-neighbors algorithm\n",
      "\n",
      "Calculating k neighbors...\n",
      "\n",
      "\n",
      "Running K-neighbors algorithm\n",
      "\n",
      "Calculating k neighbors...\n",
      "\n",
      "\n",
      "Running K-neighbors algorithm\n",
      "\n",
      "Calculating k neighbors...\n",
      "\n",
      "\n",
      "Running K-neighbors algorithm\n",
      "\n",
      "Calculating k neighbors...\n",
      "\n",
      "\n",
      "Running K-neighbors algorithm\n",
      "\n",
      "Calculating k neighbors...\n",
      "\n",
      "\n",
      "Running K-neighbors algorithm\n",
      "\n",
      "Calculating k neighbors...\n",
      "\n",
      "\n",
      "Running K-neighbors algorithm\n",
      "\n",
      "Calculating k neighbors...\n",
      "\n",
      "\n",
      "Running K-neighbors algorithm\n",
      "\n",
      "Calculating k neighbors...\n",
      "\n",
      "\n",
      "Running K-neighbors algorithm\n",
      "\n",
      "Calculating k neighbors...\n",
      "\n",
      "\n",
      "Running K-neighbors algorithm\n",
      "\n",
      "Calculating k neighbors...\n",
      "\n",
      "\n",
      "Running K-neighbors algorithm\n",
      "\n",
      "Calculating k neighbors...\n",
      "\n",
      "\n",
      "Running K-neighbors algorithm\n",
      "\n",
      "Calculating k neighbors...\n",
      "\n",
      "\n",
      "Running K-neighbors algorithm\n",
      "\n",
      "Calculating k neighbors...\n",
      "\n",
      "\n",
      "Running K-neighbors algorithm\n",
      "\n",
      "Calculating k neighbors...\n",
      "\n",
      "\n",
      "Running K-neighbors algorithm\n",
      "\n",
      "Calculating k neighbors...\n",
      "\n",
      "\n",
      "Running K-neighbors algorithm\n",
      "\n",
      "Calculating k neighbors...\n",
      "\n",
      "\n",
      "Running K-neighbors algorithm\n",
      "\n",
      "Calculating k neighbors...\n",
      "\n",
      "\n",
      "Running K-neighbors algorithm\n",
      "\n",
      "Calculating k neighbors...\n",
      "\n",
      "\n",
      "Running K-neighbors algorithm\n",
      "\n",
      "Calculating k neighbors...\n",
      "\n",
      "\n",
      "Running K-neighbors algorithm\n",
      "\n",
      "Calculating k neighbors...\n",
      "\n",
      "\n",
      "Running K-neighbors algorithm\n",
      "\n",
      "Calculating k neighbors...\n",
      "\n",
      "\n",
      "Running K-neighbors algorithm\n",
      "\n",
      "Calculating k neighbors...\n",
      "\n",
      "\n",
      "Running K-neighbors algorithm\n",
      "\n",
      "Calculating k neighbors...\n",
      "\n",
      "\n",
      "Running K-neighbors algorithm\n",
      "\n",
      "Calculating k neighbors...\n",
      "\n",
      "\n",
      "Running K-neighbors algorithm\n",
      "\n",
      "Calculating k neighbors...\n",
      "\n",
      "\n",
      "Running K-neighbors algorithm\n",
      "\n",
      "Calculating k neighbors...\n",
      "\n",
      "\n",
      "Running K-neighbors algorithm\n",
      "\n",
      "Calculating k neighbors...\n",
      "\n",
      "\n",
      "Running K-neighbors algorithm\n",
      "\n",
      "Calculating k neighbors...\n",
      "\n",
      "\n",
      "Running K-neighbors algorithm\n",
      "\n",
      "Calculating k neighbors...\n",
      "\n",
      "\n",
      "Running K-neighbors algorithm\n",
      "\n",
      "Calculating k neighbors...\n",
      "\n",
      "\n",
      "Running K-neighbors algorithm\n",
      "\n",
      "Calculating k neighbors...\n",
      "\n",
      "\n",
      "Running K-neighbors algorithm\n",
      "\n",
      "Calculating k neighbors...\n",
      "\n",
      "\n",
      "Running K-neighbors algorithm\n",
      "\n",
      "Calculating k neighbors...\n",
      "\n",
      "\n",
      "Running K-neighbors algorithm\n",
      "\n",
      "Calculating k neighbors...\n",
      "\n",
      "\n",
      "Running K-neighbors algorithm\n",
      "\n",
      "Calculating k neighbors...\n",
      "\n",
      "\n",
      "Running K-neighbors algorithm\n",
      "\n",
      "Calculating k neighbors...\n",
      "\n",
      "\n",
      "Running K-neighbors algorithm\n",
      "\n",
      "Calculating k neighbors...\n",
      "\n",
      "\n",
      "Running K-neighbors algorithm\n",
      "[79.098360655737707, 82.923497267759558, 81.010928961748633, 82.513661202185801, 81.967213114754102, 82.240437158469945, 82.377049180327873, 82.377049180327873, 82.377049180327873, 82.377049180327873, 82.377049180327873, 82.923497267759558, 83.060109289617486, 83.060109289617486, 83.333333333333343, 83.060109289617486, 82.923497267759558, 83.060109289617486, 82.786885245901644, 83.060109289617486, 82.923497267759558, 83.060109289617486, 82.923497267759558, 83.060109289617486, 83.060109289617486, 83.060109289617486, 83.060109289617486, 83.060109289617486, 83.060109289617486, 83.196721311475414, 83.196721311475414, 83.196721311475414, 83.196721311475414, 83.469945355191257, 83.333333333333343, 83.333333333333343, 83.333333333333343, 83.333333333333343, 83.469945355191257, 83.196721311475414, 83.196721311475414, 83.196721311475414, 83.333333333333343, 83.196721311475414, 83.196721311475414, 83.333333333333343, 83.469945355191257, 83.469945355191257, 83.333333333333343, 83.196721311475414, 83.196721311475414, 83.196721311475414, 83.196721311475414, 83.196721311475414, 83.196721311475414, 83.196721311475414, 83.196721311475414, 83.196721311475414, 83.196721311475414, 83.196721311475414, 83.333333333333343, 83.196721311475414, 83.196721311475414, 83.196721311475414, 83.196721311475414, 83.196721311475414, 83.196721311475414, 83.196721311475414, 83.196721311475414, 83.196721311475414, 83.196721311475414, 83.196721311475414, 83.196721311475414, 83.196721311475414, 83.196721311475414, 83.196721311475414, 83.196721311475414, 83.196721311475414, 83.196721311475414, 83.196721311475414, 83.196721311475414, 83.196721311475414, 83.196721311475414, 83.196721311475414, 83.196721311475414, 83.196721311475414, 83.196721311475414, 83.196721311475414, 83.196721311475414, 83.196721311475414, 83.196721311475414, 83.196721311475414, 83.196721311475414, 83.196721311475414, 83.196721311475414, 83.196721311475414, 83.196721311475414, 83.196721311475414, 83.196721311475414]\n"
     ]
    }
   ],
   "source": [
    "\n",
    "features = dataset.columns #try all columns\n",
    "\n",
    "dataset_t = pp.chose_features(dataset, n_features=15) # choose n features\n",
    "dataset_t = pp.drop_missing(dataset_t) # drop missing rows\n",
    "X_train, X_test, y_train, y_test = pp.split_data(dataset_t) # split dataset\n",
    "\n",
    "\n",
    "#here I first created a empty dataframe acc, to then fill with accuracy scores for ranging the value of \n",
    "#k for comparison \n",
    "acc=[]\n",
    "for i in range (1,100 ):\n",
    "    KN = k_neighbors(X_train, X_test, y_train, y_test, v=1, n_neighbors =i)\n",
    "    y_pred = KN.predict(X_test)\n",
    "    \n",
    "    accuracy = accuracy_score(y_test, y_pred)    \n",
    "\n",
    "\n",
    "\n",
    "    acc.append(accuracy*100)\n",
    "\n",
    "print(acc)\n",
    "    \n"
   ]
  },
  {
   "cell_type": "code",
   "execution_count": 22,
   "metadata": {},
   "outputs": [
    {
     "data": {
      "text/plain": [
       "<Figure size 864x432 with 0 Axes>"
      ]
     },
     "execution_count": 22,
     "metadata": {},
     "output_type": "execute_result"
    },
    {
     "data": {
      "text/plain": [
       "[<matplotlib.lines.Line2D at 0x110933f28>]"
      ]
     },
     "execution_count": 22,
     "metadata": {},
     "output_type": "execute_result"
    },
    {
     "data": {
      "text/plain": [
       "Text(0.5,1,'Varying neighbor values and the effect on accuracy')"
      ]
     },
     "execution_count": 22,
     "metadata": {},
     "output_type": "execute_result"
    },
    {
     "data": {
      "text/plain": [
       "Text(0.5,0,'Number of neighbors, value of k')"
      ]
     },
     "execution_count": 22,
     "metadata": {},
     "output_type": "execute_result"
    },
    {
     "data": {
      "text/plain": [
       "Text(0,0.5,'Accuracy %')"
      ]
     },
     "execution_count": 22,
     "metadata": {},
     "output_type": "execute_result"
    },
    {
     "data": {
      "image/png": "[encoded data removed]",
      "text/plain": [
       "<Figure size 864x432 with 1 Axes>"
      ]
     },
     "metadata": {
      "image/png": {
       "height": 386,
       "width": 719
      }
     },
     "output_type": "display_data"
    }
   ],
   "source": [
    "#plot the change of k and how this effects accuracy \n",
    "\n",
    "plt.figure(figsize=(12, 6))\n",
    "plt.plot(range(1, 100), acc, color='blue', linestyle='dashed', marker='o',\n",
    "         markerfacecolor='blue', markersize=5)\n",
    "plt.grid()\n",
    "plt.title('Varying neighbor values and the effect on accuracy')\n",
    "plt.xlabel('Number of neighbors, value of k')\n",
    "plt.ylabel('Accuracy %')\n"
   ]
  },
  {
   "cell_type": "markdown",
   "metadata": {},
   "source": [
    "value of k =16 appears to give high accuracy "
   ]
  },
  {
   "cell_type": "markdown",
   "metadata": {},
   "source": [
    "# Measuring effect of utilising different number of features from n =15 to n =3 \n"
   ]
  },
  {
   "cell_type": "code",
   "execution_count": 23,
   "metadata": {},
   "outputs": [
    {
     "name": "stdout",
     "output_type": "stream",
     "text": [
      "\n",
      "Calculating k neighbors...\n",
      "\n",
      "\n",
      "Running K-neighbors algorithm\n",
      "\n",
      "Calculating k neighbors...\n",
      "\n",
      "\n",
      "Running K-neighbors algorithm\n",
      "\n",
      "Calculating k neighbors...\n",
      "\n",
      "\n",
      "Running K-neighbors algorithm\n",
      "\n",
      "Calculating k neighbors...\n",
      "\n",
      "\n",
      "Running K-neighbors algorithm\n",
      "\n",
      "Calculating k neighbors...\n",
      "\n",
      "\n",
      "Running K-neighbors algorithm\n",
      "\n",
      "Calculating k neighbors...\n",
      "\n",
      "\n",
      "Running K-neighbors algorithm\n",
      "\n",
      "Calculating k neighbors...\n",
      "\n",
      "\n",
      "Running K-neighbors algorithm\n",
      "\n",
      "Calculating k neighbors...\n",
      "\n",
      "\n",
      "Running K-neighbors algorithm\n",
      "\n",
      "Calculating k neighbors...\n",
      "\n",
      "\n",
      "Running K-neighbors algorithm\n",
      "\n",
      "Calculating k neighbors...\n",
      "\n",
      "\n",
      "Running K-neighbors algorithm\n",
      "\n",
      "Calculating k neighbors...\n",
      "\n",
      "\n",
      "Running K-neighbors algorithm\n",
      "\n",
      "Calculating k neighbors...\n",
      "\n",
      "\n",
      "Running K-neighbors algorithm\n",
      "\n",
      "Calculating k neighbors...\n",
      "\n",
      "\n",
      "Running K-neighbors algorithm\n",
      "[83.138780804150457, 84.395318595578672, 81.806282722513089, 82.329842931937165, 82.329842931937165, 82.329842931937165, 84.615384615384613, 84.615384615384613, 84.820239680426099, 84.820239680426099, 83.469945355191257, 83.060109289617486, 83.060109289617486]\n"
     ]
    }
   ],
   "source": [
    "#using k = 16 for comparison \n",
    "features = dataset.columns #try all columns\n",
    "acc=[]\n",
    "for i in range (3, 16 ):\n",
    "    \n",
    "    dataset_t = pp.chose_features(dataset, n_features=i) # choose n features\n",
    "    dataset_t = pp.drop_missing(dataset_t) # drop missing rows\n",
    "    X_train, X_test, y_train, y_test = pp.split_data(dataset_t) # split dataset\n",
    "    KN = k_neighbors(X_train, X_test, y_train, y_test, v=1, n_neighbors =16)\n",
    "    y_pred = KN.predict(X_test)\n",
    "    accuracy = accuracy_score(y_test, y_pred)    #for 16 k neighbors  \n",
    "    acc.append(accuracy*100)\n",
    "print(acc)\n",
    "\n"
   ]
  },
  {
   "cell_type": "code",
   "execution_count": 24,
   "metadata": {},
   "outputs": [
    {
     "data": {
      "text/plain": [
       "<Figure size 864x432 with 0 Axes>"
      ]
     },
     "execution_count": 24,
     "metadata": {},
     "output_type": "execute_result"
    },
    {
     "data": {
      "text/plain": [
       "[<matplotlib.lines.Line2D at 0x110a05358>]"
      ]
     },
     "execution_count": 24,
     "metadata": {},
     "output_type": "execute_result"
    },
    {
     "data": {
      "text/plain": [
       "Text(0.5,1,'Changing feature size and it the affect on accuracy')"
      ]
     },
     "execution_count": 24,
     "metadata": {},
     "output_type": "execute_result"
    },
    {
     "data": {
      "text/plain": [
       "Text(0.5,0,'Feature numbers')"
      ]
     },
     "execution_count": 24,
     "metadata": {},
     "output_type": "execute_result"
    },
    {
     "data": {
      "text/plain": [
       "Text(0,0.5,'Accuracy %')"
      ]
     },
     "execution_count": 24,
     "metadata": {},
     "output_type": "execute_result"
    },
    {
     "data": {
      "image/png": "[encoded data removed]",
      "text/plain": [
       "<Figure size 864x432 with 1 Axes>"
      ]
     },
     "metadata": {
      "image/png": {
       "height": 386,
       "width": 728
      }
     },
     "output_type": "display_data"
    }
   ],
   "source": [
    "plt.figure(figsize=(12, 6))\n",
    "plt.plot(range(3,16), acc,color='blue', linestyle='dashed', marker='o',\n",
    "         markerfacecolor='blue', markersize=5)\n",
    "plt.grid()\n",
    "plt.title('Changing feature size and it the affect on accuracy')\n",
    "plt.xlabel('Feature numbers')\n",
    "plt.ylabel('Accuracy %')"
   ]
  },
  {
   "cell_type": "markdown",
   "metadata": {},
   "source": [
    "# Comparison between scaled and unscaled data, using optimal conditions for other parameters "
   ]
  },
  {
   "cell_type": "markdown",
   "metadata": {},
   "source": [
    "Using K=16 neighbors and the top 12 features, comparison between accuracy of scaled and unscaled data "
   ]
  },
  {
   "cell_type": "code",
   "execution_count": 27,
   "metadata": {},
   "outputs": [
    {
     "name": "stdout",
     "output_type": "stream",
     "text": [
      "Scaling data....\n",
      "\t * Using minmax scaling\n",
      "\n",
      "Calculating k neighbors...\n",
      "\n",
      "\n",
      "Running K-neighbors algorithm\n",
      "Accuracy 83.06%: \n"
     ]
    }
   ],
   "source": [
    "dataset_s = pp.chose_features(dataset, n_features=12) # choose n features\n",
    "dataset_s = pp.drop_missing(dataset_s) # drop missing rows\n",
    "dataset_s = pp.scale_data(dataset_s, 'minmax', v=1 ) #scale data using minmax function \n",
    "X_train, X_test, y_train, y_test = pp.split_data(dataset_t) # split dataset\n",
    "KN = k_neighbors(X_train, X_test, y_train, y_test, v=1, n_neighbors =16)\n",
    "y_pred = KN.predict(X_test)\n",
    "accuracy = accuracy_score(y_test, y_pred)    #for 16 k neighbors \n",
    "\n",
    "print('Accuracy {:.2f}%: '.format(accuracy*100))\n"
   ]
  },
  {
   "cell_type": "code",
   "execution_count": 29,
   "metadata": {},
   "outputs": [
    {
     "name": "stdout",
     "output_type": "stream",
     "text": [
      "Scaling data....\n",
      "\t * Using standard scaling\n",
      "\n",
      "Calculating k neighbors...\n",
      "\n",
      "\n",
      "Running K-neighbors algorithm\n",
      "Accuracy 84.69%: \n"
     ]
    }
   ],
   "source": [
    "dataset_s = pp.chose_features(dataset, n_features=12) # choose n features\n",
    "dataset_s = pp.drop_missing(dataset_s) # drop missing rows\n",
    "dataset_s = pp.scale_data(dataset_s, 'standard', v=1 ) #scale data using minmax function \n",
    "X_train, X_test, y_train, y_test = pp.split_data(dataset_s) # split dataset\n",
    "KN = k_neighbors(X_train, X_test, y_train, y_test, v=1, n_neighbors =16)\n",
    "y_pred = KN.predict(X_test)\n",
    "accuracy = accuracy_score(y_test, y_pred)    #for 16 k neighbors \n",
    "print('Accuracy {:.2f}%: '.format(accuracy*100))"
   ]
  },
  {
   "cell_type": "code",
   "execution_count": 47,
   "metadata": {},
   "outputs": [
    {
     "name": "stdout",
     "output_type": "stream",
     "text": [
      "\n",
      "Calculating k neighbors...\n",
      "\n",
      "\n",
      "Running K-neighbors algorithm\n",
      "Accuracy 84.82%: \n",
      "84.8202396804\n",
      "             precision    recall  f1-score   support\n",
      "\n",
      "          0       0.85      0.99      0.92       637\n",
      "          1       0.50      0.04      0.07       114\n",
      "\n",
      "avg / total       0.80      0.85      0.79       751\n",
      "\n"
     ]
    }
   ],
   "source": [
    "dataset_t = pp.chose_features(dataset, n_features=12) # choose n features\n",
    "dataset_t = pp.drop_missing(dataset_t) # drop missing rows\n",
    "X_train, X_test, y_train, y_test = pp.split_data(dataset_t) # split dataset\n",
    "KN = k_neighbors(X_train, X_test, y_train, y_test, v=1, n_neighbors =16)\n",
    "y_pred = KN.predict(X_test)\n",
    "accuracy = accuracy_score(y_test, y_pred)    #for 16 k neighbors \n",
    "print('Accuracy {:.2f}%: '.format(accuracy*100))\n",
    "\n",
    "print(accuracy*100)\n",
    "cm=confusion_matrix(y_test,y_pred)\n",
    "conf_matrix=pd.DataFrame(data=cm,columns=['Predicted:0','Predicted:1'],index=['Actual:0','Actual:1'])\n",
    "print(classification_report(y_test,y_pred))\n",
    "\n"
   ]
  },
  {
   "cell_type": "markdown",
   "metadata": {},
   "source": [
    "Analysis suggest that for this model, feature number of 12, with 16 neighbors on unscaled data results in the highest accruacy model with a cross validation score of 85%, and final accuracy score of 84.82%"
   ]
  },
  {
   "cell_type": "markdown",
   "metadata": {
    "collapsed": true
   },
   "source": [
    "# Resampling data using optimal conditions"
   ]
  },
  {
   "cell_type": "code",
   "execution_count": 46,
   "metadata": {},
   "outputs": [
    {
     "name": "stdout",
     "output_type": "stream",
     "text": [
      "Scaling data....\n",
      "\t * Using standard scaling\n",
      "\n",
      "Calculating k neighbors...\n",
      "\n",
      "\n",
      "Running K-neighbors algorithm\n",
      "Accuracy 84.82%: \n",
      "84.6870838881\n",
      "             precision    recall  f1-score   support\n",
      "\n",
      "          0       0.85      0.99      0.92       637\n",
      "          1       0.44      0.04      0.07       114\n",
      "\n",
      "avg / total       0.79      0.85      0.79       751\n",
      "\n"
     ]
    }
   ],
   "source": [
    "dataset_up = pp.chose_features(dataset, n_features=12) # choose n features\n",
    "dataset_up = pp.drop_missing(dataset_up) # drop missing rows\n",
    "datset_up = pp.upsample(dataset_up)\n",
    "dataset_up = pp.scale_data(dataset_up, 'standard', v=1 ) #scale data using minmax function \n",
    "X_train, X_test, y_train, y_test = pp.split_data(dataset_up) # split dataset\n",
    "KN = k_neighbors(X_train, X_test, y_train, y_test, v=1, n_neighbors =16)\n",
    "y_pred = KN.predict(X_test)\n",
    "accuracy_upsampled = accuracy_score(y_test, y_pred)    #for 16 k neighbors \n",
    "print('Accuracy {:.2f}%: '.format(accuracy*100))\n",
    "\n",
    "print(accuracy_upsampled*100)\n",
    "cm=confusion_matrix(y_test,y_pred)\n",
    "conf_matrix_upsampled= pd.DataFrame(data=cm,columns=['Predicted:0','Predicted:1'],index=['Actual:0','Actual:1'])\n",
    "print(classification_report(y_test,y_pred))\n",
    "\n",
    "print('\\nClassification report on training data ')\n",
    "print(classification_report(y_test,y_pred))"
   ]
  },
  {
   "cell_type": "code",
   "execution_count": 42,
   "metadata": {},
   "outputs": [
    {
     "name": "stdout",
     "output_type": "stream",
     "text": [
      "Scaling data....\n",
      "\t * Using standard scaling\n",
      "\n",
      "Calculating k neighbors...\n",
      "\n",
      "\n",
      "Running K-neighbors algorithm\n",
      "Accuracy 84.69%: \n",
      "84.6870838881\n",
      "             precision    recall  f1-score   support\n",
      "\n",
      "          0       0.85      0.99      0.92       637\n",
      "          1       0.44      0.04      0.07       114\n",
      "\n",
      "avg / total       0.79      0.85      0.79       751\n",
      "\n"
     ]
    }
   ],
   "source": [
    "dataset_dn = pp.chose_features(dataset, n_features=12) # choose n features\n",
    "dataset_dn = pp.drop_missing(dataset_dn) # drop missing rows\n",
    "datset_dn = pp.downsample(dataset_dn)\n",
    "dataset_dn = pp.scale_data(dataset_dn, 'standard', v=1 ) #scale data using minmax function \n",
    "X_train, X_test, y_train, y_test = pp.split_data(dataset_dn) # split dataset\n",
    "KN = k_neighbors(X_train, X_test, y_train, y_test, v=1, n_neighbors =16)\n",
    "\n",
    "y_pred = KN.predict(X_test)\n",
    "accuracy_downsampled = accuracy_score(y_test, y_pred)    #for 16 k neighbors \n",
    "print('Accuracy {:.2f}%: '.format(accuracy*100))\n",
    "\n",
    "print(accuracy_downsampled*100)\n",
    "cm=confusion_matrix(y_test,y_pred)\n",
    "conf_matrix_downsampled=pd.DataFrame(data=cm,columns=['Predicted:0','Predicted:1'],index=['Actual:0','Actual:1'])\n",
    "print(classification_report(y_test,y_pred))\n"
   ]
  },
  {
   "cell_type": "code",
   "execution_count": 48,
   "metadata": {},
   "outputs": [
    {
     "data": {
      "text/plain": [
       "<Figure size 1440x864 with 0 Axes>"
      ]
     },
     "execution_count": 48,
     "metadata": {},
     "output_type": "execute_result"
    },
    {
     "data": {
      "text/plain": [
       "<matplotlib.axes._subplots.AxesSubplot at 0x115ec73c8>"
      ]
     },
     "execution_count": 48,
     "metadata": {},
     "output_type": "execute_result"
    },
    {
     "data": {
      "text/plain": [
       "<matplotlib.axes._subplots.AxesSubplot at 0x115ec73c8>"
      ]
     },
     "execution_count": 48,
     "metadata": {},
     "output_type": "execute_result"
    },
    {
     "data": {
      "text/plain": [
       "Text(0.5,1,'Upsampled data ')"
      ]
     },
     "execution_count": 48,
     "metadata": {},
     "output_type": "execute_result"
    },
    {
     "data": {
      "text/plain": [
       "<matplotlib.axes._subplots.AxesSubplot at 0x116530fd0>"
      ]
     },
     "execution_count": 48,
     "metadata": {},
     "output_type": "execute_result"
    },
    {
     "data": {
      "text/plain": [
       "<matplotlib.axes._subplots.AxesSubplot at 0x116530fd0>"
      ]
     },
     "execution_count": 48,
     "metadata": {},
     "output_type": "execute_result"
    },
    {
     "data": {
      "text/plain": [
       "Text(0.5,1,'Downsampled data ')"
      ]
     },
     "execution_count": 48,
     "metadata": {},
     "output_type": "execute_result"
    },
    {
     "data": {
      "text/plain": [
       "<matplotlib.axes._subplots.AxesSubplot at 0x115eea4e0>"
      ]
     },
     "execution_count": 48,
     "metadata": {},
     "output_type": "execute_result"
    },
    {
     "data": {
      "text/plain": [
       "<matplotlib.axes._subplots.AxesSubplot at 0x115eea4e0>"
      ]
     },
     "execution_count": 48,
     "metadata": {},
     "output_type": "execute_result"
    },
    {
     "data": {
      "text/plain": [
       "Text(0.5,1,'Unsampled data ')"
      ]
     },
     "execution_count": 48,
     "metadata": {},
     "output_type": "execute_result"
    },
    {
     "data": {
      "image/png": "[encoded data removed]",
      "text/plain": [
       "<Figure size 1440x864 with 6 Axes>"
      ]
     },
     "metadata": {
      "image/png": {
       "height": 238,
       "width": 1133
      }
     },
     "output_type": "display_data"
    }
   ],
   "source": [
    "plt.figure(figsize=(20,12))\n",
    "\n",
    "plt.subplot(3,3,1)\n",
    "sn.heatmap(conf_matrix_upsampled, annot=True,fmt='d',cmap=\"YlGnBu\")\n",
    "plt.title('Upsampled data ')\n",
    "\n",
    "plt.subplot(3,3,2)\n",
    "sn.heatmap(conf_matrix_downsampled, annot=True,fmt='d',cmap=\"YlGnBu\")\n",
    "plt.title('Downsampled data ')\n",
    "\n",
    "plt.subplot(3,3,3)\n",
    "sn.heatmap(conf_matrix, annot=True,fmt='d',cmap=\"YlGnBu\")\n",
    "plt.title('Unsampled data ')"
   ]
  },
  {
   "cell_type": "markdown",
   "metadata": {},
   "source": [
    "# Metric effects on training data - overfitting or not?"
   ]
  },
  {
   "cell_type": "code",
   "execution_count": 49,
   "metadata": {
    "collapsed": true
   },
   "outputs": [],
   "source": [
    "def cross_val(model, X, Y, scoring = ['accuracy','precision','recall','f1'], cv=5):\n",
    "    \n",
    "   #See https://scikit-learn.org/stable/modules/model_evaluation.html for list of allowed scoring params \n",
    "    from sklearn.model_selection import cross_val_score \n",
    "    \n",
    "    print('\\nCrossvalidation score for {} splits:\\n'.format(cv))   \n",
    "    \n",
    "    cv_results = pd.DataFrame(columns=scoring)\n",
    "    for measure in scoring:\n",
    "        cv_results[measure] = cross_val_score(model, X, Y, scoring = measure, cv=cv)\n",
    "    \n",
    "    #print(\"Cross validation Accuracy:\\n\", cv_results.mean(),\"\\nCross validation STDEV:\\n\" , cv_results.std())\n",
    "    return cv_results.mean()\n",
    "\n",
    "def performance(model,X_test,y_test,cutoff=0.5,v=0,output='Accuracy'):\n",
    "    from sklearn.preprocessing import binarize\n",
    "    from sklearn.metrics import confusion_matrix, accuracy_score, f1_score, precision_score, recall_score, classification_report\n",
    "\n",
    "    if model == 'fram': # cheap and dirty fix for framingham data needing different processing\n",
    "        y_pred = X_test > cutoff*100 \n",
    "    else:\n",
    "        y_pred = model.predict_proba(X_test)\n",
    "        y_pred = binarize(y_pred,cutoff)[:,1]\n",
    "    \n",
    "    if v == 1: \n",
    "        print('\\n========\\nCuttoff: ',cutoff)\n",
    "        print('Confusion Matrix:')\n",
    "        cm=confusion_matrix(y_test,y_pred)\n",
    "        conf_matrix=pd.DataFrame(data=cm,columns=['Predicted:0','Predicted:1'],index=['Actual:0','Actual:1'])\n",
    "        print(confusion_matrix(y_test,y_pred))\n",
    "    \n",
    "        print('Accuracy: {:.2f}%'.format(accuracy_score(y_test,y_pred)*100))\n",
    "        print('f1 score: {:.2f}%'.format(f1_score(y_test,y_pred)*100))\n",
    "        print('precision score: {:.2f}%'.format(precision_score(y_test,y_pred)*100))\n",
    "        print('recall score: {:.2f}%'.format(recall_score(y_test,y_pred)*100))\n",
    "        \n",
    "        print(classification_report(y_test,y_pred))\n",
    "    \n",
    "\n",
    "    if output == 'Accuracy':\n",
    "         return accuracy_score(y_test,y_pred)\n",
    "    elif output == 'Precision':\n",
    "         return precision_score(y_test,y_pred)\n",
    "    elif output == 'Recall':\n",
    "         return recall_score(y_test,y_pred)\n",
    "    elif output == 'f1_score':\n",
    "         return f1_score(y_test,y_pred)\n",
    "    elif output == 'All':\n",
    "        a = [accuracy_score(y_test,y_pred), precision_score(y_test,y_pred),\n",
    "                      recall_score(y_test,y_pred), f1_score(y_test,y_pred)]\n",
    "        return a\n",
    "\n",
    "\n",
    "\n",
    "    \n",
    "# measure = cross_val(k_neighbors(X_train, X_test, y_train, y_test), X_train, y_train,scoring=['accuracy'])\n",
    "\n",
    "# measure\n",
    "#where model_name is replaced by whatever you have defined the model fit as \n",
    "#For example in the K-neighbors section I have defined the model_name as KN. (see k_neighbors function)\n"
   ]
  },
  {
   "cell_type": "code",
   "execution_count": 50,
   "metadata": {},
   "outputs": [
    {
     "name": "stderr",
     "output_type": "stream",
     "text": [
      "/Users/eleanorbarr/anaconda3/lib/python3.6/site-packages/sklearn/metrics/classification.py:1135: UndefinedMetricWarning: Precision is ill-defined and being set to 0.0 due to no predicted samples.\n",
      "  'precision', 'predicted', average, warn_for)\n",
      "/Users/eleanorbarr/anaconda3/lib/python3.6/site-packages/sklearn/metrics/classification.py:1135: UndefinedMetricWarning: F-score is ill-defined and being set to 0.0 due to no predicted samples.\n",
      "  'precision', 'predicted', average, warn_for)\n"
     ]
    },
    {
     "data": {
      "text/plain": [
       "<Figure size 864x432 with 0 Axes>"
      ]
     },
     "execution_count": 50,
     "metadata": {},
     "output_type": "execute_result"
    },
    {
     "data": {
      "text/plain": [
       "[<matplotlib.lines.Line2D at 0x115bca550>]"
      ]
     },
     "execution_count": 50,
     "metadata": {},
     "output_type": "execute_result"
    },
    {
     "name": "stdout",
     "output_type": "stream",
     "text": [
      "accuracy max= 0.848202396804\n"
     ]
    },
    {
     "data": {
      "text/plain": [
       "[<matplotlib.lines.Line2D at 0x115bcabe0>]"
      ]
     },
     "execution_count": 50,
     "metadata": {},
     "output_type": "execute_result"
    },
    {
     "name": "stdout",
     "output_type": "stream",
     "text": [
      "precision max= 0.5\n"
     ]
    },
    {
     "data": {
      "text/plain": [
       "[<matplotlib.lines.Line2D at 0x11604f080>]"
      ]
     },
     "execution_count": 50,
     "metadata": {},
     "output_type": "execute_result"
    },
    {
     "name": "stdout",
     "output_type": "stream",
     "text": [
      "recall max= 0.868421052632\n"
     ]
    },
    {
     "data": {
      "text/plain": [
       "[<matplotlib.lines.Line2D at 0x11604f4a8>]"
      ]
     },
     "execution_count": 50,
     "metadata": {},
     "output_type": "execute_result"
    },
    {
     "name": "stdout",
     "output_type": "stream",
     "text": [
      "f1 max= 0.320610687023\n"
     ]
    },
    {
     "data": {
      "text/plain": [
       "Text(0.5,1,\"Changing cutoff to see effect on metrics for KNeighborsClassifier(algorithm='auto', leaf_size=30, metric='minkowski',\\n           metric_params=None, n_jobs=1, n_neighbors=16, p=2,\\n           weights='uniform')\")"
      ]
     },
     "execution_count": 50,
     "metadata": {},
     "output_type": "execute_result"
    },
    {
     "data": {
      "text/plain": [
       "Text(0.5,0,'Cutoff')"
      ]
     },
     "execution_count": 50,
     "metadata": {},
     "output_type": "execute_result"
    },
    {
     "data": {
      "text/plain": [
       "Text(0,0.5,'Score')"
      ]
     },
     "execution_count": 50,
     "metadata": {},
     "output_type": "execute_result"
    },
    {
     "data": {
      "text/plain": [
       "<matplotlib.legend.Legend at 0x115bcacc0>"
      ]
     },
     "execution_count": 50,
     "metadata": {},
     "output_type": "execute_result"
    },
    {
     "data": {
      "image/png": "[encoded data removed]",
      "text/plain": [
       "<Figure size 864x432 with 1 Axes>"
      ]
     },
     "metadata": {
      "image/png": {
       "height": 414,
       "width": 806
      }
     },
     "output_type": "display_data"
    }
   ],
   "source": [
    "results = []\n",
    "range_x = np.arange(0.05, 1, 0.01)\n",
    "algor = KN\n",
    "\n",
    "for cutoff in range_x:\n",
    "    results.append(performance(algor,X_test,y_test,cutoff=cutoff,output='All'))\n",
    "\n",
    "results = pd.DataFrame(results,columns=['accuracy','precision','recall','f1'])\n",
    "#print(results)\n",
    "\n",
    "plt.figure(figsize=(12, 6))\n",
    "for al in results.columns:\n",
    "    plt.plot(range_x, results[al],label=al,marker='o')\n",
    "    print(al, \"max=\", max(results[al]))\n",
    "plt.grid()\n",
    "plt.title('Changing cutoff to see effect on metrics for {}'.format(str(algor)))\n",
    "plt.xlabel('Cutoff')\n",
    "plt.ylabel('Score')\n",
    "plt.legend(loc='center left', bbox_to_anchor=(1, 0.9))"
   ]
  },
  {
   "cell_type": "code",
   "execution_count": 82,
   "metadata": {},
   "outputs": [
    {
     "ename": "TypeError",
     "evalue": "'KNeighborsClassifier' object is not callable",
     "output_type": "error",
     "traceback": [
      "\u001b[0;31m---------------------------------------------------------------------------\u001b[0m",
      "\u001b[0;31mTypeError\u001b[0m                                 Traceback (most recent call last)",
      "\u001b[0;32m<ipython-input-82-784e760ebfb0>\u001b[0m in \u001b[0;36m<module>\u001b[0;34m()\u001b[0m\n\u001b[1;32m      5\u001b[0m \u001b[0;34m\u001b[0m\u001b[0m\n\u001b[1;32m      6\u001b[0m \u001b[0mkn_range\u001b[0m \u001b[0;34m=\u001b[0m \u001b[0;34m(\u001b[0m\u001b[0;36m0\u001b[0m\u001b[0;34m,\u001b[0m\u001b[0;36m100\u001b[0m\u001b[0;34m)\u001b[0m\u001b[0;34m\u001b[0m\u001b[0;34m\u001b[0m\u001b[0m\n\u001b[0;32m----> 7\u001b[0;31m \u001b[0mtrain_scores\u001b[0m\u001b[0;34m,\u001b[0m \u001b[0mtest_scores\u001b[0m \u001b[0;34m=\u001b[0m \u001b[0mvalidation_curve\u001b[0m\u001b[0;34m(\u001b[0m\u001b[0mKN\u001b[0m\u001b[0;34m(\u001b[0m\u001b[0;34m)\u001b[0m\u001b[0;34m,\u001b[0m \u001b[0mparam_name\u001b[0m\u001b[0;34m=\u001b[0m\u001b[0;34m'n_neighbors'\u001b[0m\u001b[0;34m,\u001b[0m \u001b[0mparam_range\u001b[0m\u001b[0;34m=\u001b[0m\u001b[0mkn_range\u001b[0m\u001b[0;34m)\u001b[0m\u001b[0;34m\u001b[0m\u001b[0;34m\u001b[0m\u001b[0m\n\u001b[0m\u001b[1;32m      8\u001b[0m \u001b[0;34m\u001b[0m\u001b[0m\n\u001b[1;32m      9\u001b[0m \u001b[0mtrain_scores_mean\u001b[0m \u001b[0;34m=\u001b[0m \u001b[0mnp\u001b[0m\u001b[0;34m.\u001b[0m\u001b[0mmean\u001b[0m\u001b[0;34m(\u001b[0m\u001b[0mtrain_scores\u001b[0m\u001b[0;34m,\u001b[0m \u001b[0maxis\u001b[0m\u001b[0;34m=\u001b[0m\u001b[0;36m1\u001b[0m\u001b[0;34m)\u001b[0m\u001b[0;34m\u001b[0m\u001b[0;34m\u001b[0m\u001b[0m\n",
      "\u001b[0;31mTypeError\u001b[0m: 'KNeighborsClassifier' object is not callable"
     ]
    }
   ],
   "source": [
    "#create plot for ranging values of k and the effect on test and train data \n",
    "\n",
    "from sklearn.model_selection import validation_curve\n",
    "KN = KNeighborsClassifier()\n",
    "\n",
    "kn_range = (0,100)\n",
    "train_scores, test_scores = validation_curve(KN(), param_name='n_neighbors', param_range=kn_range)\n",
    "\n",
    "train_scores_mean = np.mean(train_scores, axis=1)\n",
    "train_scores_std = np.std(train_scores, axis=1)\n",
    "test_scores_mean = np.mean(test_scores, axis=1)\n",
    "test_scores_std = np.std(test_scores, axis=1)\n",
    "\n",
    "plt.title(\"Validation Curve with KN\")\n",
    "plt.xlabel(r\"$\\gamma$\")\n",
    "plt.ylabel(\"Score\")\n",
    "plt.ylim(0.0, 1.1)\n",
    "lw = 2\n",
    "plt.semilogx(param_range, train_scores_mean, label=\"Training score\",\n",
    "             color=\"darkorange\", lw=lw)\n",
    "plt.fill_between(param_range, train_scores_mean - train_scores_std,\n",
    "                 train_scores_mean + train_scores_std, alpha=0.2,\n",
    "                 color=\"darkorange\", lw=lw)\n",
    "plt.semilogx(param_range, test_scores_mean, label=\"Cross-validation score\",\n",
    "             color=\"navy\", lw=lw)\n",
    "plt.fill_between(param_range, test_scores_mean - test_scores_std,\n",
    "                 test_scores_mean + test_scores_std, alpha=0.2,\n",
    "                 color=\"navy\", lw=lw)\n",
    "plt.legend(loc=\"best\")\n",
    "\n",
    "plt.show()"
   ]
  },
  {
   "cell_type": "code",
   "execution_count": 79,
   "metadata": {},
   "outputs": [
    {
     "data": {
      "text/plain": [
       "KNeighborsClassifier(algorithm='auto', leaf_size=30, metric='minkowski',\n",
       "           metric_params=None, n_jobs=1, n_neighbors=5, p=2,\n",
       "           weights='uniform')"
      ]
     },
     "execution_count": 79,
     "metadata": {},
     "output_type": "execute_result"
    }
   ],
   "source": [
    "KN"
   ]
  },
  {
   "cell_type": "code",
   "execution_count": null,
   "metadata": {
    "collapsed": true
   },
   "outputs": [],
   "source": []
  }
 ],
 "metadata": {
  "kernelspec": {
   "display_name": "Python 3",
   "language": "python",
   "name": "python3"
  },
  "language_info": {
   "codemirror_mode": {
    "name": "ipython",
    "version": 3
   },
   "file_extension": ".py",
   "mimetype": "text/x-python",
   "name": "python",
   "nbconvert_exporter": "python",
   "pygments_lexer": "ipython3",
   "version": "3.6.9"
  }
 },
 "nbformat": 4,
 "nbformat_minor": 2
}
