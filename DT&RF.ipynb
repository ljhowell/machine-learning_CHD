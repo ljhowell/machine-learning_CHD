{
 "cells": [
  {
   "cell_type": "markdown",
   "metadata": {},
   "source": [
    "# Decision Trees & Random Forests"
   ]
  },
  {
   "cell_type": "code",
   "execution_count": null,
   "metadata": {},
   "outputs": [],
   "source": [
    "###Checking which version of python is being used\n",
    "\n",
    "from platform import python_version\n",
    "\n",
    "print(python_version())"
   ]
  },
  {
   "cell_type": "code",
   "execution_count": 1,
   "metadata": {},
   "outputs": [],
   "source": [
    "###Importing the necessary packages\n",
    "\n",
    "import pandas as pd\n",
    "import numpy as np\n",
    "import seaborn as sns\n",
    "import matplotlib.pyplot as plt\n",
    "\n",
    "from sklearn import preprocessing\n",
    "from sklearn.preprocessing import MinMaxScaler\n",
    "from sklearn.model_selection import train_test_split\n",
    "\n",
    "from sklearn.linear_model import LogisticRegression\n",
    "from sklearn.svm import SVC\n",
    "from sklearn.tree import DecisionTreeClassifier\n",
    "from sklearn.neighbors import KNeighborsClassifier\n",
    "from sklearn.model_selection import GridSearchCV\n",
    "from sklearn.model_selection import cross_val_score\n",
    "\n",
    "from sklearn.ensemble import RandomForestClassifier\n",
    "\n",
    "from sklearn.pipeline import Pipeline\n",
    "\n",
    "from sklearn.metrics import confusion_matrix\n",
    "from sklearn.metrics import accuracy_score\n",
    "from sklearn.metrics import f1_score\n",
    "from sklearn.metrics import recall_score\n",
    "from sklearn.metrics import precision_score\n",
    "from sklearn.metrics import roc_curve\n",
    "from sklearn.metrics import roc_auc_score\n",
    "\n",
    "from sklearn.feature_selection import SelectKBest\n",
    "from sklearn.feature_selection import chi2\n",
    "\n",
    "from IPython.core.interactiveshell import InteractiveShell\n",
    "InteractiveShell.ast_node_interactivity = \"all\"\n",
    "%config InlineBackend.figure_format ='retina'\n",
    "%matplotlib inline"
   ]
  },
  {
   "cell_type": "code",
   "execution_count": null,
   "metadata": {},
   "outputs": [],
   "source": [
    "###Importing & checking the data\n",
    "\n",
    "data = pd.read_csv(\"framingham.csv\")\n",
    "print(data.head())\n",
    "print(data.shape)\n",
    "print(data.dtypes)"
   ]
  },
  {
   "cell_type": "code",
   "execution_count": null,
   "metadata": {},
   "outputs": [],
   "source": [
    "### Representing the data\n",
    "\n",
    "fig = plt.figure(figsize = (15,20));\n",
    "ax = fig.gca();\n",
    "data.hist(ax = ax);"
   ]
  },
  {
   "cell_type": "code",
   "execution_count": null,
   "metadata": {},
   "outputs": [],
   "source": [
    "###Checking correlation between data\n",
    "\n",
    "data_corr = data.corr();\n",
    "sns.heatmap(data_corr);"
   ]
  },
  {
   "cell_type": "code",
   "execution_count": null,
   "metadata": {},
   "outputs": [],
   "source": [
    "data = data.drop(['education','glucose'], axis=1);\n",
    "print(data.head())\n",
    "print(data.shape)"
   ]
  },
  {
   "cell_type": "code",
   "execution_count": null,
   "metadata": {},
   "outputs": [],
   "source": [
    "###Dropping missing data\n",
    "\n",
    "print(data.isna().sum());\n",
    "data = data.dropna();\n",
    "print(data.isna().sum());\n",
    "data.columns;\n"
   ]
  },
  {
   "cell_type": "code",
   "execution_count": null,
   "metadata": {},
   "outputs": [],
   "source": [
    "###Spliting features and target variable\n",
    "target = data.iloc[:,-1]\n",
    "features = data.iloc[:,:-1]\n",
    "\n",
    "print(target.head())\n",
    "print(target.shape)\n",
    "print(features.head())\n",
    "print(features.shape)"
   ]
  },
  {
   "cell_type": "code",
   "execution_count": null,
   "metadata": {},
   "outputs": [],
   "source": [
    "###Determining the top features using selectkbest, the higher the score the more likely they are linked\n",
    "\n",
    "best = SelectKBest(score_func=chi2, k=10)\n",
    "fit = best.fit(features, target)\n",
    "data_scores = pd.DataFrame(fit.scores_)\n",
    "data_columns = pd.DataFrame(features.columns)\n",
    "\n",
    "feature_scores = pd.concat([data_columns,data_scores],axis=1) #Putting both into a single dataframe for clarity\n",
    "feature_scores.columns = ['Feature','Score'] #Renaming columns\n",
    "\n",
    "print(feature_scores.nlargest(10,'Score')) #Printing the top 10 features descending"
   ]
  },
  {
   "cell_type": "code",
   "execution_count": null,
   "metadata": {},
   "outputs": [],
   "source": [
    "###Plotting a histogram based on the top features\n",
    "\n",
    "feature_scores = feature_scores.sort_values(by='Score', ascending=False);\n",
    "\n",
    "sns.barplot(x = 'Feature', y = 'Score', data = feature_scores)\n",
    "\n",
    "plt.box(False)\n",
    "plt.title('Feature importance', fontsize=16)\n",
    "plt.xlabel('Features', fontsize=14)\n",
    "plt.ylabel('Importance', fontsize=14)\n",
    "plt.xticks(fontsize=12, rotation=45, ha=\"right\")\n",
    "plt.yticks(fontsize=12)\n",
    "plt.show();"
   ]
  },
  {
   "cell_type": "code",
   "execution_count": null,
   "metadata": {},
   "outputs": [],
   "source": [
    "###Making a list of top features\n",
    "\n",
    "feature_list = feature_scores['Feature'].tolist()[0:10]\n",
    "\n",
    "print(feature_list)"
   ]
  },
  {
   "cell_type": "code",
   "execution_count": null,
   "metadata": {},
   "outputs": [],
   "source": [
    "###Deleting data with less correlation with CHD from original dataframe\n",
    "\n",
    "truncated_data = pd.concat([data[feature_list],data['TenYearCHD']],axis=1)\n",
    "\n",
    "print(truncated_data.head())"
   ]
  },
  {
   "cell_type": "code",
   "execution_count": null,
   "metadata": {},
   "outputs": [],
   "source": [
    "###Seeing correlation between truncated data\n",
    "\n",
    "truncated_corr = truncated_data.corr()\n",
    "sns.heatmap(truncated_corr);"
   ]
  },
  {
   "cell_type": "code",
   "execution_count": null,
   "metadata": {},
   "outputs": [],
   "source": [
    "###Outlier detection\n",
    "\n",
    "truncated_data.describe()\n",
    "sns.pairplot(truncated_data);"
   ]
  },
  {
   "cell_type": "code",
   "execution_count": null,
   "metadata": {},
   "outputs": [],
   "source": [
    "###Boxplots\n",
    "\n",
    "column_name = list(truncated_data.columns);\n",
    "\n",
    "\n",
    "for i in range(len(column_name)):\n",
    "    sns.boxplot(truncated_data['{}'.format(column_name[i])]);\n",
    "    plt.show();\n"
   ]
  },
  {
   "cell_type": "code",
   "execution_count": null,
   "metadata": {},
   "outputs": [],
   "source": [
    "###Cleaning up the dataframe\n",
    "\n",
    "def cleaning(dataframe, feature, upper):\n",
    "    \n",
    "    dataframe_original = dataframe\n",
    "    dataframe = dataframe.drop(dataframe[dataframe['{}'.format(feature)] > upper].index);\n",
    "    print('Shape: {} ---> {}'.format(dataframe_original.shape, dataframe.shape))\n",
    "    return dataframe;\n",
    "\n",
    "truncated_data = cleaning(truncated_data, 'totChol', 599);\n",
    "truncated_data = cleaning(truncated_data, 'BMI', 50);\n",
    "truncated_data = cleaning(truncated_data, 'cigsPerDay', 50);\n",
    "truncated_data = cleaning(truncated_data, 'sysBP', 250);\n",
    "print('Shape: {}' .format(truncated_data.shape));"
   ]
  },
  {
   "cell_type": "code",
   "execution_count": null,
   "metadata": {},
   "outputs": [],
   "source": [
    "###Feature scaling\n",
    "\n",
    "scaler = MinMaxScaler(feature_range=(0,1)) \n",
    "scaled_data = pd.DataFrame(scaler.fit_transform(truncated_data), columns=truncated_data.columns)\n",
    "\n",
    "print(scaled_data.head())"
   ]
  },
  {
   "cell_type": "code",
   "execution_count": null,
   "metadata": {},
   "outputs": [],
   "source": [
    "###Test\n",
    "y = scaled_data.iloc[:,-1]\n",
    "x = scaled_data.iloc[:,:-1]\n",
    "\n",
    "print(y.head())\n",
    "print(x.head())\n",
    "\n",
    "x_train, x_test, y_train, y_test = train_test_split(x, y, test_size = 0.2, random_state=1)\n",
    "\n",
    "print(len(x_train), len(x_test))"
   ]
  },
  {
   "cell_type": "code",
   "execution_count": null,
   "metadata": {},
   "outputs": [],
   "source": [
    "###Resampling dataset\n",
    "target_count = scaled_data.TenYearCHD.value_counts()\n",
    "\n",
    "print(target_count[0])\n",
    "print(target_count[1])\n",
    "print(round(target_count[0] / target_count[1], 2), ': 1')\n",
    "\n",
    "sns.countplot(scaled_data.TenYearCHD)\n",
    "plt.box(False)\n",
    "plt.xlabel('Heart Disease No/Yes',fontsize=11)\n",
    "plt.ylabel('Patient Count',fontsize=11)\n",
    "plt.title('Count Outcome Heart Disease\\n')\n",
    "plt.show();"
   ]
  },
  {
   "cell_type": "code",
   "execution_count": null,
   "metadata": {},
   "outputs": [],
   "source": [
    "shuffled_data = scaled_data.sample(frac=1,random_state=1)\n",
    "\n",
    "CHD_data = shuffled_data.loc[shuffled_data['TenYearCHD'] == 1]\n",
    "non_CHD_data = shuffled_data.loc[shuffled_data['TenYearCHD'] == 0].sample(n=target_count[1], random_state = 1)\n",
    "\n",
    "print(CHD_data.shape)\n",
    "print(non_CHD_data.shape)\n",
    "\n"
   ]
  },
  {
   "cell_type": "code",
   "execution_count": null,
   "metadata": {},
   "outputs": [],
   "source": [
    "normalised_data = pd.concat([CHD_data, non_CHD_data])\n",
    "normalised_data.TenYearCHD.value_counts()\n",
    "\n",
    "normalised_target_count = normalised_data.TenYearCHD.value_counts()\n",
    "\n",
    "sns.countplot(normalised_data.TenYearCHD)\n",
    "print(round(normalised_target_count[0] / normalised_target_count[1], 2), ': 1')\n",
    "plt.box(False)\n",
    "plt.xlabel('Heart Disease No/Yes',fontsize=11)\n",
    "plt.ylabel('Patient Count',fontsize=11)\n",
    "plt.title('Count Outcome Heart Disease\\n')\n",
    "plt.show();"
   ]
  },
  {
   "cell_type": "code",
   "execution_count": null,
   "metadata": {},
   "outputs": [],
   "source": [
    "y_train = normalised_data.iloc[:,-1]\n",
    "x_train = normalised_data.iloc[:,:-1]"
   ]
  },
  {
   "cell_type": "code",
   "execution_count": null,
   "metadata": {},
   "outputs": [],
   "source": [
    "def scores(model, y_test, pred):\n",
    "    accuracy = accuracy_score(y_test, pred)\n",
    "    f1 = f1_score(y_test, pred)\n",
    "    precision = precision_score(y_test, pred)\n",
    "    recall = recall_score (y_test, pred)\n",
    "    \n",
    "    print(\"The accuracy score for {} is: {}%.\".format(model, round(accuracy,3)*100))\n",
    "    print(\"The f1 score for {} is: {}%.\".format(model, round(f1,3)*100))\n",
    "    print(\"The precision score for {} is: {}%.\".format(model, round(precision,3)*100))\n",
    "    print(\"The recall score for {} is: {}%.\".format(model, round(recall,3)*100))\n",
    "    \n",
    "    return(accuracy, f1, precision, recall)\n",
    "    "
   ]
  },
  {
   "cell_type": "code",
   "execution_count": null,
   "metadata": {},
   "outputs": [],
   "source": [
    "def confusion(dataframe, name):\n",
    "    sns.heatmap(pd.DataFrame(dataframe), annot=True , fmt='g')\n",
    "    ax.xaxis.set_label_position(\"top\")\n",
    "    plt.title('Confusion matrix {}\\n'.format(name), y=1.1)"
   ]
  },
  {
   "cell_type": "code",
   "execution_count": null,
   "metadata": {},
   "outputs": [],
   "source": [
    "def model(classifier, name):\n",
    "    classifier.fit(x_train, y_train);\n",
    "    classifier_pred = classifier.predict(x_test);\n",
    "    confusion(confusion_matrix(y_test, classifier_pred), name);\n",
    "    scores(name, y_test, classifier_pred);"
   ]
  },
  {
   "cell_type": "code",
   "execution_count": null,
   "metadata": {},
   "outputs": [],
   "source": [
    "dtc = DecisionTreeClassifier();\n",
    "model(dtc, 'Decision Trees')"
   ]
  },
  {
   "cell_type": "code",
   "execution_count": null,
   "metadata": {},
   "outputs": [],
   "source": [
    "rfc = RandomForestClassifier(n_estimators= 100,bootstrap = True, max_features = 'sqrt');\n",
    "model(rfc, 'Random Forest')"
   ]
  },
  {
   "cell_type": "markdown",
   "metadata": {},
   "source": [
    "## Looking at the number of trees"
   ]
  },
  {
   "cell_type": "code",
   "execution_count": 2,
   "metadata": {},
   "outputs": [
    {
     "name": "stdout",
     "output_type": "stream",
     "text": [
      "Importing the preprocessing module for the Exeter NatSci Machine Learning Group.....\n",
      "Successfully imported the preprocessing module\n"
     ]
    }
   ],
   "source": [
    "from preprocessing_ml import *"
   ]
  },
  {
   "cell_type": "code",
   "execution_count": 3,
   "metadata": {},
   "outputs": [],
   "source": [
    "X_train, X_test, y_train, y_test = split_data(scale_data(drop_missing(chose_features(pd.read_csv(\"framingham.csv\")))))"
   ]
  },
  {
   "cell_type": "code",
   "execution_count": 4,
   "metadata": {},
   "outputs": [],
   "source": [
    "def scores(name, y_test, pred, display):\n",
    "    accuracy = accuracy_score(y_test, pred);\n",
    "    f1 = f1_score(y_test, pred);\n",
    "    precision = precision_score(y_test, pred);\n",
    "    recall = recall_score(y_test, pred);\n",
    "    \n",
    "    if display == 'y':\n",
    "        print(\"The accuracy score for {} is: {}%.\".format(name, round(accuracy, 3) * 100))\n",
    "        print(\"The f1 score for {} is: {}%.\".format(name, round(f1, 3) * 100))\n",
    "        print(\"The precision score for {} is: {}%.\".format(name, round(precision, 3) * 100))\n",
    "        print(\"The recall score for {} is: {}%.\".format(name, round(recall, 3) * 100))\n",
    "        return(accuracy, f1, precision, recall);\n",
    "    elif display == 'n':\n",
    "        return(accuracy, f1, precision, recall);\n",
    "    else:\n",
    "        print(\"Error: please choose 'y' or 'n'.\")"
   ]
  },
  {
   "cell_type": "code",
   "execution_count": 5,
   "metadata": {},
   "outputs": [],
   "source": [
    "def model(classifier, name, X_train, X_test, y_train, y_test, display):\n",
    "    classifier.fit(X_train, y_train);\n",
    "    classifier_pred = classifier.predict(X_test);\n",
    "    score = scores(name, y_test, classifier_pred, display);\n",
    "    \n",
    "    accuracy = score[0];\n",
    "    f1 = score[1];\n",
    "    precision = score[2];\n",
    "    recall = score[3];\n",
    "    \n",
    "    return(accuracy, f1, precision, recall);"
   ]
  },
  {
   "cell_type": "code",
   "execution_count": 6,
   "metadata": {},
   "outputs": [
    {
     "name": "stdout",
     "output_type": "stream",
     "text": [
      "The accuracy score for Decision Tree is: 73.0%.\n",
      "The f1 score for Decision Tree is: 22.0%.\n",
      "The precision score for Decision Tree is: 21.4%.\n",
      "The recall score for Decision Tree is: 22.8%.\n"
     ]
    }
   ],
   "source": [
    "model(DecisionTreeClassifier(), 'Decision Tree', X_train, X_test, y_train, y_test, 'y');"
   ]
  },
  {
   "cell_type": "code",
   "execution_count": 7,
   "metadata": {},
   "outputs": [
    {
     "name": "stdout",
     "output_type": "stream",
     "text": [
      "The accuracy score for Random Forest is: 83.1%.\n",
      "The f1 score for Random Forest is: 16.2%.\n",
      "The precision score for Random Forest is: 48.0%.\n",
      "The recall score for Random Forest is: 9.8%.\n"
     ]
    }
   ],
   "source": [
    "model(RandomForestClassifier(n_estimators=10, bootstrap=True), 'Random Forest', X_train, X_test, y_train, y_test, 'y');"
   ]
  },
  {
   "cell_type": "code",
   "execution_count": 8,
   "metadata": {},
   "outputs": [],
   "source": [
    "y = np.linspace(1,1000,100);\n",
    "accuracy_list = [];\n",
    "for i in range(len(y)):\n",
    "    accuracy_list.append(model(RandomForestClassifier(n_estimators=i+1, bootstrap=True), 'Random Forest', X_train, X_test, y_train, y_test, 'n')[0]);"
   ]
  },
  {
   "cell_type": "code",
   "execution_count": 9,
   "metadata": {},
   "outputs": [
    {
     "data": {
      "image/png": "[encoded data removed]",
      "text/plain": [
       "<Figure size 432x288 with 1 Axes>"
      ]
     },
     "metadata": {
      "image/png": {
       "height": 250,
       "width": 380
      },
      "needs_background": "light"
     },
     "output_type": "display_data"
    }
   ],
   "source": [
    "plt.plot(y, accuracy_list);\n",
    "plt.show();"
   ]
  },
  {
   "cell_type": "markdown",
   "metadata": {},
   "source": [
    "## Applying the Model"
   ]
  },
  {
   "cell_type": "code",
   "execution_count": 10,
   "metadata": {},
   "outputs": [
    {
     "data": {
      "text/html": [
       "<div>\n",
       "<style scoped>\n",
       "    .dataframe tbody tr th:only-of-type {\n",
       "        vertical-align: middle;\n",
       "    }\n",
       "\n",
       "    .dataframe tbody tr th {\n",
       "        vertical-align: top;\n",
       "    }\n",
       "\n",
       "    .dataframe thead th {\n",
       "        text-align: right;\n",
       "    }\n",
       "</style>\n",
       "<table border=\"1\" class=\"dataframe\">\n",
       "  <thead>\n",
       "    <tr style=\"text-align: right;\">\n",
       "      <th></th>\n",
       "      <th>sysBP</th>\n",
       "      <th>glucose</th>\n",
       "      <th>age</th>\n",
       "      <th>totChol</th>\n",
       "      <th>cigsPerDay</th>\n",
       "      <th>diaBP</th>\n",
       "      <th>prevalentHyp</th>\n",
       "      <th>diabetes</th>\n",
       "      <th>BPMeds</th>\n",
       "      <th>male</th>\n",
       "      <th>BMI</th>\n",
       "      <th>prevalentStroke</th>\n",
       "      <th>education</th>\n",
       "      <th>heartRate</th>\n",
       "      <th>currentSmoker</th>\n",
       "    </tr>\n",
       "  </thead>\n",
       "  <tbody>\n",
       "  </tbody>\n",
       "</table>\n",
       "</div>"
      ],
      "text/plain": [
       "Empty DataFrame\n",
       "Columns: [sysBP, glucose, age, totChol, cigsPerDay, diaBP, prevalentHyp, diabetes, BPMeds, male, BMI, prevalentStroke, education, heartRate, currentSmoker]\n",
       "Index: []"
      ]
     },
     "execution_count": 10,
     "metadata": {},
     "output_type": "execute_result"
    }
   ],
   "source": [
    "input_data = pd.DataFrame(columns = X_train.columns)\n",
    "input_data.head()"
   ]
  },
  {
   "cell_type": "code",
   "execution_count": 11,
   "metadata": {},
   "outputs": [],
   "source": [
    "data = [{'sysBP':120, 'glucose':100, 'age':35, 'totChol':350, 'cigsPerDay':10, 'diaBP':120, 'prevalentHyp':1, 'diabetes':0, 'BPMeds':1, 'male':1, 'BMI':45, 'prevalentStroke':0, 'education': 3, 'heartRate': 76, 'currentSmoker':1}]"
   ]
  },
  {
   "cell_type": "code",
   "execution_count": 12,
   "metadata": {},
   "outputs": [
    {
     "data": {
      "text/html": [
       "<div>\n",
       "<style scoped>\n",
       "    .dataframe tbody tr th:only-of-type {\n",
       "        vertical-align: middle;\n",
       "    }\n",
       "\n",
       "    .dataframe tbody tr th {\n",
       "        vertical-align: top;\n",
       "    }\n",
       "\n",
       "    .dataframe thead th {\n",
       "        text-align: right;\n",
       "    }\n",
       "</style>\n",
       "<table border=\"1\" class=\"dataframe\">\n",
       "  <thead>\n",
       "    <tr style=\"text-align: right;\">\n",
       "      <th></th>\n",
       "      <th>sysBP</th>\n",
       "      <th>glucose</th>\n",
       "      <th>age</th>\n",
       "      <th>totChol</th>\n",
       "      <th>cigsPerDay</th>\n",
       "      <th>diaBP</th>\n",
       "      <th>prevalentHyp</th>\n",
       "      <th>diabetes</th>\n",
       "      <th>BPMeds</th>\n",
       "      <th>male</th>\n",
       "      <th>BMI</th>\n",
       "      <th>prevalentStroke</th>\n",
       "      <th>education</th>\n",
       "      <th>heartRate</th>\n",
       "      <th>currentSmoker</th>\n",
       "    </tr>\n",
       "  </thead>\n",
       "  <tbody>\n",
       "    <tr>\n",
       "      <th>0</th>\n",
       "      <td>120</td>\n",
       "      <td>100</td>\n",
       "      <td>35</td>\n",
       "      <td>350</td>\n",
       "      <td>10</td>\n",
       "      <td>120</td>\n",
       "      <td>1</td>\n",
       "      <td>0</td>\n",
       "      <td>1</td>\n",
       "      <td>1</td>\n",
       "      <td>45</td>\n",
       "      <td>0</td>\n",
       "      <td>3</td>\n",
       "      <td>76</td>\n",
       "      <td>1</td>\n",
       "    </tr>\n",
       "  </tbody>\n",
       "</table>\n",
       "</div>"
      ],
      "text/plain": [
       "  sysBP glucose age totChol cigsPerDay diaBP prevalentHyp diabetes BPMeds  \\\n",
       "0   120     100  35     350         10   120            1        0      1   \n",
       "\n",
       "  male BMI prevalentStroke education heartRate currentSmoker  \n",
       "0    1  45               0         3        76             1  "
      ]
     },
     "execution_count": 12,
     "metadata": {},
     "output_type": "execute_result"
    }
   ],
   "source": [
    "my_data = input_data.append(data,ignore_index=True)\n",
    "my_data.head()"
   ]
  },
  {
   "cell_type": "code",
   "execution_count": 20,
   "metadata": {},
   "outputs": [
    {
     "data": {
      "text/html": [
       "<div>\n",
       "<style scoped>\n",
       "    .dataframe tbody tr th:only-of-type {\n",
       "        vertical-align: middle;\n",
       "    }\n",
       "\n",
       "    .dataframe tbody tr th {\n",
       "        vertical-align: top;\n",
       "    }\n",
       "\n",
       "    .dataframe thead th {\n",
       "        text-align: right;\n",
       "    }\n",
       "</style>\n",
       "<table border=\"1\" class=\"dataframe\">\n",
       "  <thead>\n",
       "    <tr style=\"text-align: right;\">\n",
       "      <th></th>\n",
       "      <th>sysBP</th>\n",
       "      <th>glucose</th>\n",
       "      <th>age</th>\n",
       "      <th>totChol</th>\n",
       "      <th>cigsPerDay</th>\n",
       "      <th>diaBP</th>\n",
       "      <th>prevalentHyp</th>\n",
       "      <th>diabetes</th>\n",
       "      <th>BPMeds</th>\n",
       "      <th>male</th>\n",
       "      <th>BMI</th>\n",
       "      <th>prevalentStroke</th>\n",
       "      <th>education</th>\n",
       "      <th>heartRate</th>\n",
       "      <th>currentSmoker</th>\n",
       "    </tr>\n",
       "  </thead>\n",
       "  <tbody>\n",
       "    <tr>\n",
       "      <th>0</th>\n",
       "      <td>0.0</td>\n",
       "      <td>0.0</td>\n",
       "      <td>0.0</td>\n",
       "      <td>0.0</td>\n",
       "      <td>0.0</td>\n",
       "      <td>0.0</td>\n",
       "      <td>0.0</td>\n",
       "      <td>0.0</td>\n",
       "      <td>0.0</td>\n",
       "      <td>0.0</td>\n",
       "      <td>0.0</td>\n",
       "      <td>0.0</td>\n",
       "      <td>0.0</td>\n",
       "      <td>0.0</td>\n",
       "      <td>0.0</td>\n",
       "    </tr>\n",
       "  </tbody>\n",
       "</table>\n",
       "</div>"
      ],
      "text/plain": [
       "   sysBP  glucose  age  totChol  cigsPerDay  diaBP  prevalentHyp  diabetes  \\\n",
       "0    0.0      0.0  0.0      0.0         0.0    0.0           0.0       0.0   \n",
       "\n",
       "   BPMeds  male  BMI  prevalentStroke  education  heartRate  currentSmoker  \n",
       "0     0.0   0.0  0.0              0.0        0.0        0.0            0.0  "
      ]
     },
     "execution_count": 20,
     "metadata": {},
     "output_type": "execute_result"
    }
   ],
   "source": [
    "scaler = MinMaxScaler(feature_range=(0,1)) \n",
    "scaled_data = pd.DataFrame(scaler.fit_transform(my_data), columns=my_data.columns)\n",
    "\n",
    "scaled_data.head()"
   ]
  },
  {
   "cell_type": "code",
   "execution_count": null,
   "metadata": {},
   "outputs": [],
   "source": []
  }
 ],
 "metadata": {
  "kernelspec": {
   "display_name": "Python 3",
   "language": "python",
   "name": "python3"
  },
  "language_info": {
   "codemirror_mode": {
    "name": "ipython",
    "version": 3
   },
   "file_extension": ".py",
   "mimetype": "text/x-python",
   "name": "python",
   "nbconvert_exporter": "python",
   "pygments_lexer": "ipython3",
   "version": "3.7.3"
  }
 },
 "nbformat": 4,
 "nbformat_minor": 2
}
